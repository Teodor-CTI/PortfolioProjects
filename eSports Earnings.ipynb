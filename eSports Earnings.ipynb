{
 "cells": [
  {
   "cell_type": "markdown",
   "id": "f5405992-e62a-4090-a98c-9acc7a69ef13",
   "metadata": {},
   "source": [
    "# eSports Earnings - Data Analysis"
   ]
  },
  {
   "cell_type": "markdown",
   "id": "6aa203af-3c30-4e38-94cb-4865788791c4",
   "metadata": {},
   "source": [
    "## Import necessary Libraries"
   ]
  },
  {
   "cell_type": "code",
   "execution_count": 1,
   "id": "2ea5a368-5618-43f8-b01b-f7db57455c39",
   "metadata": {},
   "outputs": [],
   "source": [
    "import numpy as np\n",
    "import pandas as pd\n",
    "import matplotlib.pyplot as plt\n",
    "\n",
    "%matplotlib inline"
   ]
  },
  {
   "cell_type": "markdown",
   "id": "7f763d66-cabe-4d49-9f65-501090f75e0d",
   "metadata": {},
   "source": [
    "### Format options"
   ]
  },
  {
   "cell_type": "code",
   "execution_count": 2,
   "id": "5ee18f53-112a-4e5c-bdb0-062b93de4da2",
   "metadata": {},
   "outputs": [],
   "source": [
    "pd.options.display.float_format = '{:,.2f}'.format"
   ]
  },
  {
   "cell_type": "code",
   "execution_count": 3,
   "id": "1a15bdec-7e87-4e86-9562-5af65519f82e",
   "metadata": {},
   "outputs": [],
   "source": [
    "plt.style.use('seaborn')"
   ]
  },
  {
   "cell_type": "code",
   "execution_count": 4,
   "id": "b8700885-1052-46fe-a73f-d0084636ae83",
   "metadata": {},
   "outputs": [],
   "source": [
    "#plt.style.available"
   ]
  },
  {
   "cell_type": "markdown",
   "id": "39939ade-7bf9-46da-884d-9474ec3b454e",
   "metadata": {},
   "source": [
    "# "
   ]
  },
  {
   "cell_type": "markdown",
   "id": "f233bd2f-925c-409a-88c9-b9db6b2a7bb6",
   "metadata": {},
   "source": [
    "## Load the Data"
   ]
  },
  {
   "cell_type": "code",
   "execution_count": 5,
   "id": "ad1a356b-9401-4ea8-8194-91d499a7cd03",
   "metadata": {},
   "outputs": [],
   "source": [
    "# Dataset: https://www.kaggle.com/jackdaoud/esports-earnings-for-players-teams-by-game"
   ]
  },
  {
   "cell_type": "code",
   "execution_count": 6,
   "id": "3e5a9149-e4af-49c6-861d-5b2122b9c2f7",
   "metadata": {},
   "outputs": [],
   "source": [
    "path = './Datasets/eSports/'"
   ]
  },
  {
   "cell_type": "code",
   "execution_count": 7,
   "id": "f96dc467-cc34-4038-8d9c-f19dc3f3cddf",
   "metadata": {},
   "outputs": [],
   "source": [
    "countries = pd.read_csv(path + 'country-and-continent-codes-list.csv')\n",
    "players = pd.read_csv(path + 'highest_earning_players.csv')\n",
    "teams = pd.read_csv(path + 'highest_earning_teams.csv')"
   ]
  },
  {
   "cell_type": "markdown",
   "id": "0f956973-3bea-4446-b174-0a1f7aa181aa",
   "metadata": {},
   "source": [
    "# "
   ]
  },
  {
   "cell_type": "markdown",
   "id": "941c6024-5e44-4a76-8fa9-2edcafbbf13a",
   "metadata": {},
   "source": [
    "## Data Exploratory"
   ]
  },
  {
   "cell_type": "code",
   "execution_count": 8,
   "id": "fbdfd880-99e7-4d7e-bd84-fedbd5c224b6",
   "metadata": {},
   "outputs": [
    {
     "data": {
      "text/html": [
       "<div>\n",
       "<style scoped>\n",
       "    .dataframe tbody tr th:only-of-type {\n",
       "        vertical-align: middle;\n",
       "    }\n",
       "\n",
       "    .dataframe tbody tr th {\n",
       "        vertical-align: top;\n",
       "    }\n",
       "\n",
       "    .dataframe thead th {\n",
       "        text-align: right;\n",
       "    }\n",
       "</style>\n",
       "<table border=\"1\" class=\"dataframe\">\n",
       "  <thead>\n",
       "    <tr style=\"text-align: right;\">\n",
       "      <th></th>\n",
       "      <th>Continent_Name</th>\n",
       "      <th>Continent_Code</th>\n",
       "      <th>Country_Name</th>\n",
       "      <th>Two_Letter_Country_Code</th>\n",
       "      <th>Three_Letter_Country_Code</th>\n",
       "      <th>Country_Number</th>\n",
       "    </tr>\n",
       "  </thead>\n",
       "  <tbody>\n",
       "    <tr>\n",
       "      <th>0</th>\n",
       "      <td>Asia</td>\n",
       "      <td>AS</td>\n",
       "      <td>Afghanistan, Islamic Republic of</td>\n",
       "      <td>AF</td>\n",
       "      <td>AFG</td>\n",
       "      <td>4.00</td>\n",
       "    </tr>\n",
       "    <tr>\n",
       "      <th>1</th>\n",
       "      <td>Europe</td>\n",
       "      <td>EU</td>\n",
       "      <td>Albania, Republic of</td>\n",
       "      <td>AL</td>\n",
       "      <td>ALB</td>\n",
       "      <td>8.00</td>\n",
       "    </tr>\n",
       "    <tr>\n",
       "      <th>2</th>\n",
       "      <td>Antarctica</td>\n",
       "      <td>AN</td>\n",
       "      <td>Antarctica (the territory South of 60 deg S)</td>\n",
       "      <td>AQ</td>\n",
       "      <td>ATA</td>\n",
       "      <td>10.00</td>\n",
       "    </tr>\n",
       "    <tr>\n",
       "      <th>3</th>\n",
       "      <td>Africa</td>\n",
       "      <td>AF</td>\n",
       "      <td>Algeria, People's Democratic Republic of</td>\n",
       "      <td>DZ</td>\n",
       "      <td>DZA</td>\n",
       "      <td>12.00</td>\n",
       "    </tr>\n",
       "    <tr>\n",
       "      <th>4</th>\n",
       "      <td>Oceania</td>\n",
       "      <td>OC</td>\n",
       "      <td>American Samoa</td>\n",
       "      <td>AS</td>\n",
       "      <td>ASM</td>\n",
       "      <td>16.00</td>\n",
       "    </tr>\n",
       "  </tbody>\n",
       "</table>\n",
       "</div>"
      ],
      "text/plain": [
       "  Continent_Name Continent_Code                                  Country_Name  \\\n",
       "0           Asia             AS              Afghanistan, Islamic Republic of   \n",
       "1         Europe             EU                          Albania, Republic of   \n",
       "2     Antarctica             AN  Antarctica (the territory South of 60 deg S)   \n",
       "3         Africa             AF      Algeria, People's Democratic Republic of   \n",
       "4        Oceania             OC                                American Samoa   \n",
       "\n",
       "  Two_Letter_Country_Code Three_Letter_Country_Code  Country_Number  \n",
       "0                      AF                       AFG            4.00  \n",
       "1                      AL                       ALB            8.00  \n",
       "2                      AQ                       ATA           10.00  \n",
       "3                      DZ                       DZA           12.00  \n",
       "4                      AS                       ASM           16.00  "
      ]
     },
     "execution_count": 8,
     "metadata": {},
     "output_type": "execute_result"
    }
   ],
   "source": [
    "countries.head()"
   ]
  },
  {
   "cell_type": "code",
   "execution_count": 9,
   "id": "626ed47d-5357-4165-a074-689a46a24686",
   "metadata": {},
   "outputs": [
    {
     "data": {
      "text/plain": [
       "4"
      ]
     },
     "execution_count": 9,
     "metadata": {},
     "output_type": "execute_result"
    }
   ],
   "source": [
    "countries['Country_Number'].isnull().sum()"
   ]
  },
  {
   "cell_type": "code",
   "execution_count": 10,
   "id": "e4584813-f4c7-4ec3-a178-5979ef446bc5",
   "metadata": {},
   "outputs": [
    {
     "data": {
      "text/html": [
       "<div>\n",
       "<style scoped>\n",
       "    .dataframe tbody tr th:only-of-type {\n",
       "        vertical-align: middle;\n",
       "    }\n",
       "\n",
       "    .dataframe tbody tr th {\n",
       "        vertical-align: top;\n",
       "    }\n",
       "\n",
       "    .dataframe thead th {\n",
       "        text-align: right;\n",
       "    }\n",
       "</style>\n",
       "<table border=\"1\" class=\"dataframe\">\n",
       "  <thead>\n",
       "    <tr style=\"text-align: right;\">\n",
       "      <th></th>\n",
       "      <th>Continent_Name</th>\n",
       "      <th>Continent_Code</th>\n",
       "      <th>Country_Name</th>\n",
       "      <th>Two_Letter_Country_Code</th>\n",
       "      <th>Three_Letter_Country_Code</th>\n",
       "      <th>Country_Number</th>\n",
       "    </tr>\n",
       "  </thead>\n",
       "  <tbody>\n",
       "    <tr>\n",
       "      <th>258</th>\n",
       "      <td>Oceania</td>\n",
       "      <td>OC</td>\n",
       "      <td>Disputed Territory</td>\n",
       "      <td>XX</td>\n",
       "      <td>NaN</td>\n",
       "      <td>NaN</td>\n",
       "    </tr>\n",
       "    <tr>\n",
       "      <th>259</th>\n",
       "      <td>Asia</td>\n",
       "      <td>AS</td>\n",
       "      <td>Iraq-Saudi Arabia Neutral Zone</td>\n",
       "      <td>XE</td>\n",
       "      <td>NaN</td>\n",
       "      <td>NaN</td>\n",
       "    </tr>\n",
       "    <tr>\n",
       "      <th>260</th>\n",
       "      <td>Asia</td>\n",
       "      <td>AS</td>\n",
       "      <td>United Nations Neutral Zone</td>\n",
       "      <td>XD</td>\n",
       "      <td>NaN</td>\n",
       "      <td>NaN</td>\n",
       "    </tr>\n",
       "    <tr>\n",
       "      <th>261</th>\n",
       "      <td>Asia</td>\n",
       "      <td>AS</td>\n",
       "      <td>Spratly Islands</td>\n",
       "      <td>XS</td>\n",
       "      <td>NaN</td>\n",
       "      <td>NaN</td>\n",
       "    </tr>\n",
       "  </tbody>\n",
       "</table>\n",
       "</div>"
      ],
      "text/plain": [
       "    Continent_Name Continent_Code                    Country_Name  \\\n",
       "258        Oceania             OC              Disputed Territory   \n",
       "259           Asia             AS  Iraq-Saudi Arabia Neutral Zone   \n",
       "260           Asia             AS     United Nations Neutral Zone   \n",
       "261           Asia             AS                 Spratly Islands   \n",
       "\n",
       "    Two_Letter_Country_Code Three_Letter_Country_Code  Country_Number  \n",
       "258                      XX                       NaN             NaN  \n",
       "259                      XE                       NaN             NaN  \n",
       "260                      XD                       NaN             NaN  \n",
       "261                      XS                       NaN             NaN  "
      ]
     },
     "execution_count": 10,
     "metadata": {},
     "output_type": "execute_result"
    }
   ],
   "source": [
    "countries[countries['Country_Number'].isnull()]"
   ]
  },
  {
   "cell_type": "code",
   "execution_count": 11,
   "id": "eca48af5-8fdc-4b44-a8fb-023f07f79ab5",
   "metadata": {},
   "outputs": [
    {
     "data": {
      "text/plain": [
       "(262, 6)"
      ]
     },
     "execution_count": 11,
     "metadata": {},
     "output_type": "execute_result"
    }
   ],
   "source": [
    "countries.shape"
   ]
  },
  {
   "cell_type": "code",
   "execution_count": 12,
   "id": "9a1b3f0c-cf51-46ec-84bd-3a8a55bcb6f7",
   "metadata": {},
   "outputs": [
    {
     "data": {
      "text/html": [
       "<div>\n",
       "<style scoped>\n",
       "    .dataframe tbody tr th:only-of-type {\n",
       "        vertical-align: middle;\n",
       "    }\n",
       "\n",
       "    .dataframe tbody tr th {\n",
       "        vertical-align: top;\n",
       "    }\n",
       "\n",
       "    .dataframe thead th {\n",
       "        text-align: right;\n",
       "    }\n",
       "</style>\n",
       "<table border=\"1\" class=\"dataframe\">\n",
       "  <thead>\n",
       "    <tr style=\"text-align: right;\">\n",
       "      <th></th>\n",
       "      <th>PlayerId</th>\n",
       "      <th>NameFirst</th>\n",
       "      <th>NameLast</th>\n",
       "      <th>CurrentHandle</th>\n",
       "      <th>CountryCode</th>\n",
       "      <th>TotalUSDPrize</th>\n",
       "      <th>Game</th>\n",
       "      <th>Genre</th>\n",
       "    </tr>\n",
       "  </thead>\n",
       "  <tbody>\n",
       "    <tr>\n",
       "      <th>0</th>\n",
       "      <td>3883</td>\n",
       "      <td>Peter</td>\n",
       "      <td>Rasmussen</td>\n",
       "      <td>dupreeh</td>\n",
       "      <td>dk</td>\n",
       "      <td>1,822,989.41</td>\n",
       "      <td>Counter-Strike: Global Offensive</td>\n",
       "      <td>First-Person Shooter</td>\n",
       "    </tr>\n",
       "    <tr>\n",
       "      <th>1</th>\n",
       "      <td>3679</td>\n",
       "      <td>Andreas</td>\n",
       "      <td>Højsleth</td>\n",
       "      <td>Xyp9x</td>\n",
       "      <td>dk</td>\n",
       "      <td>1,799,288.57</td>\n",
       "      <td>Counter-Strike: Global Offensive</td>\n",
       "      <td>First-Person Shooter</td>\n",
       "    </tr>\n",
       "    <tr>\n",
       "      <th>2</th>\n",
       "      <td>3885</td>\n",
       "      <td>Nicolai</td>\n",
       "      <td>Reedtz</td>\n",
       "      <td>dev1ce</td>\n",
       "      <td>dk</td>\n",
       "      <td>1,787,489.88</td>\n",
       "      <td>Counter-Strike: Global Offensive</td>\n",
       "      <td>First-Person Shooter</td>\n",
       "    </tr>\n",
       "    <tr>\n",
       "      <th>3</th>\n",
       "      <td>3672</td>\n",
       "      <td>Lukas</td>\n",
       "      <td>Rossander</td>\n",
       "      <td>gla1ve</td>\n",
       "      <td>dk</td>\n",
       "      <td>1,652,350.75</td>\n",
       "      <td>Counter-Strike: Global Offensive</td>\n",
       "      <td>First-Person Shooter</td>\n",
       "    </tr>\n",
       "    <tr>\n",
       "      <th>4</th>\n",
       "      <td>17800</td>\n",
       "      <td>Emil</td>\n",
       "      <td>Reif</td>\n",
       "      <td>Magisk</td>\n",
       "      <td>dk</td>\n",
       "      <td>1,416,448.64</td>\n",
       "      <td>Counter-Strike: Global Offensive</td>\n",
       "      <td>First-Person Shooter</td>\n",
       "    </tr>\n",
       "  </tbody>\n",
       "</table>\n",
       "</div>"
      ],
      "text/plain": [
       "   PlayerId NameFirst   NameLast CurrentHandle CountryCode  TotalUSDPrize  \\\n",
       "0      3883     Peter  Rasmussen       dupreeh          dk   1,822,989.41   \n",
       "1      3679   Andreas   Højsleth         Xyp9x          dk   1,799,288.57   \n",
       "2      3885   Nicolai     Reedtz        dev1ce          dk   1,787,489.88   \n",
       "3      3672     Lukas  Rossander        gla1ve          dk   1,652,350.75   \n",
       "4     17800      Emil       Reif        Magisk          dk   1,416,448.64   \n",
       "\n",
       "                               Game                 Genre  \n",
       "0  Counter-Strike: Global Offensive  First-Person Shooter  \n",
       "1  Counter-Strike: Global Offensive  First-Person Shooter  \n",
       "2  Counter-Strike: Global Offensive  First-Person Shooter  \n",
       "3  Counter-Strike: Global Offensive  First-Person Shooter  \n",
       "4  Counter-Strike: Global Offensive  First-Person Shooter  "
      ]
     },
     "execution_count": 12,
     "metadata": {},
     "output_type": "execute_result"
    }
   ],
   "source": [
    "players.head()"
   ]
  },
  {
   "cell_type": "code",
   "execution_count": 13,
   "id": "4cd9c9da-f0ea-4eb5-ac24-912211382ecf",
   "metadata": {},
   "outputs": [
    {
     "data": {
      "text/plain": [
       "(1000, 8)"
      ]
     },
     "execution_count": 13,
     "metadata": {},
     "output_type": "execute_result"
    }
   ],
   "source": [
    "players.shape"
   ]
  },
  {
   "cell_type": "code",
   "execution_count": 14,
   "id": "80dd7019-190f-4fb2-b90c-beeb81f94539",
   "metadata": {},
   "outputs": [
    {
     "data": {
      "text/html": [
       "<div>\n",
       "<style scoped>\n",
       "    .dataframe tbody tr th:only-of-type {\n",
       "        vertical-align: middle;\n",
       "    }\n",
       "\n",
       "    .dataframe tbody tr th {\n",
       "        vertical-align: top;\n",
       "    }\n",
       "\n",
       "    .dataframe thead th {\n",
       "        text-align: right;\n",
       "    }\n",
       "</style>\n",
       "<table border=\"1\" class=\"dataframe\">\n",
       "  <thead>\n",
       "    <tr style=\"text-align: right;\">\n",
       "      <th></th>\n",
       "      <th>TeamId</th>\n",
       "      <th>TeamName</th>\n",
       "      <th>TotalUSDPrize</th>\n",
       "      <th>TotalTournaments</th>\n",
       "      <th>Game</th>\n",
       "      <th>Genre</th>\n",
       "    </tr>\n",
       "  </thead>\n",
       "  <tbody>\n",
       "    <tr>\n",
       "      <th>0</th>\n",
       "      <td>760</td>\n",
       "      <td>San Francisco Shock</td>\n",
       "      <td>3,105,000.00</td>\n",
       "      <td>7</td>\n",
       "      <td>Overwatch</td>\n",
       "      <td>First-Person Shooter</td>\n",
       "    </tr>\n",
       "    <tr>\n",
       "      <th>1</th>\n",
       "      <td>776</td>\n",
       "      <td>London Spitfire</td>\n",
       "      <td>1,591,136.50</td>\n",
       "      <td>13</td>\n",
       "      <td>Overwatch</td>\n",
       "      <td>First-Person Shooter</td>\n",
       "    </tr>\n",
       "    <tr>\n",
       "      <th>2</th>\n",
       "      <td>768</td>\n",
       "      <td>New York Excelsior</td>\n",
       "      <td>1,572,618.50</td>\n",
       "      <td>18</td>\n",
       "      <td>Overwatch</td>\n",
       "      <td>First-Person Shooter</td>\n",
       "    </tr>\n",
       "    <tr>\n",
       "      <th>3</th>\n",
       "      <td>773</td>\n",
       "      <td>Philadelphia Fusion</td>\n",
       "      <td>1,186,278.50</td>\n",
       "      <td>15</td>\n",
       "      <td>Overwatch</td>\n",
       "      <td>First-Person Shooter</td>\n",
       "    </tr>\n",
       "    <tr>\n",
       "      <th>4</th>\n",
       "      <td>766</td>\n",
       "      <td>Seoul Dynasty</td>\n",
       "      <td>1,130,000.00</td>\n",
       "      <td>6</td>\n",
       "      <td>Overwatch</td>\n",
       "      <td>First-Person Shooter</td>\n",
       "    </tr>\n",
       "  </tbody>\n",
       "</table>\n",
       "</div>"
      ],
      "text/plain": [
       "   TeamId             TeamName  TotalUSDPrize  TotalTournaments       Game  \\\n",
       "0     760  San Francisco Shock   3,105,000.00                 7  Overwatch   \n",
       "1     776      London Spitfire   1,591,136.50                13  Overwatch   \n",
       "2     768   New York Excelsior   1,572,618.50                18  Overwatch   \n",
       "3     773  Philadelphia Fusion   1,186,278.50                15  Overwatch   \n",
       "4     766        Seoul Dynasty   1,130,000.00                 6  Overwatch   \n",
       "\n",
       "                  Genre  \n",
       "0  First-Person Shooter  \n",
       "1  First-Person Shooter  \n",
       "2  First-Person Shooter  \n",
       "3  First-Person Shooter  \n",
       "4  First-Person Shooter  "
      ]
     },
     "execution_count": 14,
     "metadata": {},
     "output_type": "execute_result"
    }
   ],
   "source": [
    "teams.head()"
   ]
  },
  {
   "cell_type": "code",
   "execution_count": 15,
   "id": "573c0fcd-0814-4b28-9a36-2c25944dc29f",
   "metadata": {},
   "outputs": [
    {
     "data": {
      "text/plain": [
       "(928, 6)"
      ]
     },
     "execution_count": 15,
     "metadata": {},
     "output_type": "execute_result"
    }
   ],
   "source": [
    "teams.shape"
   ]
  },
  {
   "cell_type": "markdown",
   "id": "3cea721b-eaa5-46f9-aea8-f238bca879b1",
   "metadata": {},
   "source": [
    "# "
   ]
  },
  {
   "cell_type": "markdown",
   "id": "44cf0f7b-e618-4543-bd4b-7b0d7cc4be9f",
   "metadata": {},
   "source": [
    "## Data Cleaning"
   ]
  },
  {
   "cell_type": "code",
   "execution_count": 16,
   "id": "e530078b-5b5d-4f5f-a58a-93756814e1ed",
   "metadata": {},
   "outputs": [
    {
     "name": "stdout",
     "output_type": "stream",
     "text": [
      "<class 'pandas.core.frame.DataFrame'>\n",
      "RangeIndex: 262 entries, 0 to 261\n",
      "Data columns (total 6 columns):\n",
      " #   Column                     Non-Null Count  Dtype  \n",
      "---  ------                     --------------  -----  \n",
      " 0   Continent_Name             262 non-null    object \n",
      " 1   Continent_Code             219 non-null    object \n",
      " 2   Country_Name               262 non-null    object \n",
      " 3   Two_Letter_Country_Code    261 non-null    object \n",
      " 4   Three_Letter_Country_Code  258 non-null    object \n",
      " 5   Country_Number             258 non-null    float64\n",
      "dtypes: float64(1), object(5)\n",
      "memory usage: 83.0 KB\n"
     ]
    }
   ],
   "source": [
    "countries.info(memory_usage='deep')"
   ]
  },
  {
   "cell_type": "code",
   "execution_count": 17,
   "id": "6b3e7cd7-3299-4ac5-a69d-8556ccb6a479",
   "metadata": {},
   "outputs": [
    {
     "data": {
      "text/plain": [
       "Index                          128\n",
       "Continent_Name               16836\n",
       "Continent_Code               14297\n",
       "Country_Name                 20577\n",
       "Two_Letter_Country_Code      15431\n",
       "Three_Letter_Country_Code    15608\n",
       "Country_Number                2096\n",
       "dtype: int64"
      ]
     },
     "execution_count": 17,
     "metadata": {},
     "output_type": "execute_result"
    }
   ],
   "source": [
    "countries.memory_usage(deep=True)"
   ]
  },
  {
   "cell_type": "markdown",
   "id": "739a2a5d-252a-44ae-94a1-f1aa02c9b466",
   "metadata": {},
   "source": [
    "#"
   ]
  },
  {
   "cell_type": "code",
   "execution_count": 18,
   "id": "dae274e5-0b59-4d6e-a0af-a649e88c26d4",
   "metadata": {},
   "outputs": [
    {
     "name": "stdout",
     "output_type": "stream",
     "text": [
      "<class 'pandas.core.frame.DataFrame'>\n",
      "RangeIndex: 1000 entries, 0 to 999\n",
      "Data columns (total 8 columns):\n",
      " #   Column         Non-Null Count  Dtype  \n",
      "---  ------         --------------  -----  \n",
      " 0   PlayerId       1000 non-null   int64  \n",
      " 1   NameFirst      1000 non-null   object \n",
      " 2   NameLast       1000 non-null   object \n",
      " 3   CurrentHandle  1000 non-null   object \n",
      " 4   CountryCode    1000 non-null   object \n",
      " 5   TotalUSDPrize  1000 non-null   float64\n",
      " 6   Game           1000 non-null   object \n",
      " 7   Genre          1000 non-null   object \n",
      "dtypes: float64(1), int64(1), object(6)\n",
      "memory usage: 405.2 KB\n"
     ]
    }
   ],
   "source": [
    "players.info(memory_usage='deep')"
   ]
  },
  {
   "cell_type": "code",
   "execution_count": 19,
   "id": "fbbd08fb-b5ec-43cd-8f5d-fd44f5e991ea",
   "metadata": {},
   "outputs": [
    {
     "data": {
      "text/plain": [
       "Index              128\n",
       "PlayerId          8000\n",
       "NameFirst        63973\n",
       "NameLast         63382\n",
       "CurrentHandle    63314\n",
       "CountryCode      59000\n",
       "TotalUSDPrize     8000\n",
       "Game             70200\n",
       "Genre            78900\n",
       "dtype: int64"
      ]
     },
     "execution_count": 19,
     "metadata": {},
     "output_type": "execute_result"
    }
   ],
   "source": [
    "players.memory_usage(deep=True)"
   ]
  },
  {
   "cell_type": "code",
   "execution_count": 20,
   "id": "617af07f-f289-4c82-8272-5d67e1c81187",
   "metadata": {},
   "outputs": [
    {
     "data": {
      "text/plain": [
       "Index              128\n",
       "PlayerId          8000\n",
       "NameFirst        63973\n",
       "NameLast         63382\n",
       "CurrentHandle    63314\n",
       "CountryCode      59000\n",
       "TotalUSDPrize     8000\n",
       "Game              2002\n",
       "Genre             1550\n",
       "dtype: int64"
      ]
     },
     "execution_count": 20,
     "metadata": {},
     "output_type": "execute_result"
    }
   ],
   "source": [
    "change_type = {\n",
    "    'Game':'category',\n",
    "    'Genre':'category'\n",
    "}\n",
    "\n",
    "players.astype(change_type).memory_usage(deep=True)"
   ]
  },
  {
   "cell_type": "code",
   "execution_count": 21,
   "id": "a5a430b2-5a57-454b-8dd2-204306028e22",
   "metadata": {},
   "outputs": [],
   "source": [
    "players = players.astype(change_type)"
   ]
  },
  {
   "cell_type": "code",
   "execution_count": 22,
   "id": "eb1b14f0-bc91-4c57-a6b2-c5894d9202cc",
   "metadata": {},
   "outputs": [
    {
     "data": {
      "text/plain": [
       "263.0361328125"
      ]
     },
     "execution_count": 22,
     "metadata": {},
     "output_type": "execute_result"
    }
   ],
   "source": [
    "players.memory_usage(deep=True).sum() / 1024    # 263.03 KB"
   ]
  },
  {
   "cell_type": "markdown",
   "id": "6b6d5f27-9d9b-4359-a486-014ca06fc039",
   "metadata": {
    "tags": []
   },
   "source": [
    "#"
   ]
  },
  {
   "cell_type": "code",
   "execution_count": 23,
   "id": "e3f2932e-0af5-4508-879d-b08f9b6e61b2",
   "metadata": {},
   "outputs": [
    {
     "name": "stdout",
     "output_type": "stream",
     "text": [
      "<class 'pandas.core.frame.DataFrame'>\n",
      "RangeIndex: 928 entries, 0 to 927\n",
      "Data columns (total 6 columns):\n",
      " #   Column            Non-Null Count  Dtype  \n",
      "---  ------            --------------  -----  \n",
      " 0   TeamId            928 non-null    int64  \n",
      " 1   TeamName          928 non-null    object \n",
      " 2   TotalUSDPrize     928 non-null    float64\n",
      " 3   TotalTournaments  928 non-null    int64  \n",
      " 4   Game              928 non-null    object \n",
      " 5   Genre             928 non-null    object \n",
      "dtypes: float64(1), int64(2), object(3)\n",
      "memory usage: 219.7 KB\n"
     ]
    }
   ],
   "source": [
    "teams.info(memory_usage='deep')"
   ]
  },
  {
   "cell_type": "code",
   "execution_count": 24,
   "id": "9074005f-6c17-47bd-b943-6108a707f93d",
   "metadata": {},
   "outputs": [
    {
     "data": {
      "text/plain": [
       "Index                 128\n",
       "TeamId               7424\n",
       "TeamName            64648\n",
       "TotalUSDPrize        7424\n",
       "TotalTournaments     7424\n",
       "Game                65148\n",
       "Genre               72764\n",
       "dtype: int64"
      ]
     },
     "execution_count": 24,
     "metadata": {},
     "output_type": "execute_result"
    }
   ],
   "source": [
    "teams.memory_usage(deep=True)"
   ]
  },
  {
   "cell_type": "markdown",
   "id": "f515c763-9017-454a-bd0b-0e7919038625",
   "metadata": {
    "tags": []
   },
   "source": [
    "# "
   ]
  },
  {
   "cell_type": "code",
   "execution_count": 25,
   "id": "6cecb261-c9f8-4090-be50-275fb61f214c",
   "metadata": {},
   "outputs": [
    {
     "data": {
      "text/plain": [
       "Continent_Name                0\n",
       "Continent_Code               43\n",
       "Country_Name                  0\n",
       "Two_Letter_Country_Code       1\n",
       "Three_Letter_Country_Code     4\n",
       "Country_Number                4\n",
       "dtype: int64"
      ]
     },
     "execution_count": 25,
     "metadata": {},
     "output_type": "execute_result"
    }
   ],
   "source": [
    "countries.isnull().sum()"
   ]
  },
  {
   "cell_type": "code",
   "execution_count": 26,
   "id": "e3fd1e35-e716-4961-914e-d1bdf5cc9f0d",
   "metadata": {},
   "outputs": [
    {
     "name": "stdout",
     "output_type": "stream",
     "text": [
      "Missing Values (in countries DataFrame)\n",
      "\n",
      "[ 0.0%] Continent_Name\n",
      "[16.4%] Continent_Code\n",
      "[ 0.0%] Country_Name\n",
      "[ 0.4%] Two_Letter_Country_Code\n",
      "[ 1.5%] Three_Letter_Country_Code\n",
      "[ 1.5%] Country_Number\n"
     ]
    }
   ],
   "source": [
    "print('Missing Values (in countries DataFrame)', end='\\n\\n')\n",
    "for col in countries.columns:\n",
    "    miss_val = countries[col].isnull().mean()\n",
    "    if len(str(miss_val * 100).split('.')[0]) == 1:\n",
    "        print(f'[ {round(miss_val * 100, 1)}%]', col)\n",
    "    else:\n",
    "        print(f'[{round(miss_val * 100, 1)}%]', col)\n",
    "    "
   ]
  },
  {
   "cell_type": "code",
   "execution_count": 27,
   "id": "4ebe229a-58e3-4af9-acde-580394f3545d",
   "metadata": {},
   "outputs": [
    {
     "data": {
      "text/plain": [
       "0"
      ]
     },
     "execution_count": 27,
     "metadata": {},
     "output_type": "execute_result"
    }
   ],
   "source": [
    "countries.duplicated().sum()"
   ]
  },
  {
   "cell_type": "code",
   "execution_count": null,
   "id": "8fa8e87a-5524-4cd6-831e-2f5e74e164c8",
   "metadata": {},
   "outputs": [],
   "source": []
  },
  {
   "cell_type": "code",
   "execution_count": 28,
   "id": "407b4c79-c211-4cb7-9ba4-5fdd146d6f71",
   "metadata": {},
   "outputs": [
    {
     "data": {
      "text/plain": [
       "PlayerId         0\n",
       "NameFirst        0\n",
       "NameLast         0\n",
       "CurrentHandle    0\n",
       "CountryCode      0\n",
       "TotalUSDPrize    0\n",
       "Game             0\n",
       "Genre            0\n",
       "dtype: int64"
      ]
     },
     "execution_count": 28,
     "metadata": {},
     "output_type": "execute_result"
    }
   ],
   "source": [
    "players.isnull().sum()"
   ]
  },
  {
   "cell_type": "code",
   "execution_count": 29,
   "id": "235e6390-45b2-480a-9435-ada666481265",
   "metadata": {},
   "outputs": [
    {
     "data": {
      "text/plain": [
       "0"
      ]
     },
     "execution_count": 29,
     "metadata": {},
     "output_type": "execute_result"
    }
   ],
   "source": [
    "players.duplicated().sum()"
   ]
  },
  {
   "cell_type": "code",
   "execution_count": null,
   "id": "2abe4903-07a4-43a9-bb70-4e0f6d86bc27",
   "metadata": {},
   "outputs": [],
   "source": []
  },
  {
   "cell_type": "code",
   "execution_count": 30,
   "id": "a2bb2ac0-94d1-407a-9d3a-613aaa1e3d27",
   "metadata": {},
   "outputs": [
    {
     "data": {
      "text/plain": [
       "TeamId              0\n",
       "TeamName            0\n",
       "TotalUSDPrize       0\n",
       "TotalTournaments    0\n",
       "Game                0\n",
       "Genre               0\n",
       "dtype: int64"
      ]
     },
     "execution_count": 30,
     "metadata": {},
     "output_type": "execute_result"
    }
   ],
   "source": [
    "teams.isnull().sum()"
   ]
  },
  {
   "cell_type": "code",
   "execution_count": 31,
   "id": "69a562dd-f590-4b9e-a59e-87471b33a406",
   "metadata": {},
   "outputs": [
    {
     "data": {
      "text/plain": [
       "0"
      ]
     },
     "execution_count": 31,
     "metadata": {},
     "output_type": "execute_result"
    }
   ],
   "source": [
    "teams.duplicated().sum()"
   ]
  },
  {
   "cell_type": "code",
   "execution_count": 32,
   "id": "4871cb02-ba78-475c-9df9-6245b3133a74",
   "metadata": {},
   "outputs": [
    {
     "data": {
      "text/html": [
       "<div>\n",
       "<style scoped>\n",
       "    .dataframe tbody tr th:only-of-type {\n",
       "        vertical-align: middle;\n",
       "    }\n",
       "\n",
       "    .dataframe tbody tr th {\n",
       "        vertical-align: top;\n",
       "    }\n",
       "\n",
       "    .dataframe thead th {\n",
       "        text-align: right;\n",
       "    }\n",
       "</style>\n",
       "<table border=\"1\" class=\"dataframe\">\n",
       "  <thead>\n",
       "    <tr style=\"text-align: right;\">\n",
       "      <th></th>\n",
       "      <th>PlayerId</th>\n",
       "      <th>NameFirst</th>\n",
       "      <th>NameLast</th>\n",
       "      <th>CurrentHandle</th>\n",
       "      <th>CountryCode</th>\n",
       "      <th>TotalUSDPrize</th>\n",
       "      <th>Game</th>\n",
       "      <th>Genre</th>\n",
       "    </tr>\n",
       "  </thead>\n",
       "  <tbody>\n",
       "    <tr>\n",
       "      <th>0</th>\n",
       "      <td>3883</td>\n",
       "      <td>Peter</td>\n",
       "      <td>Rasmussen</td>\n",
       "      <td>dupreeh</td>\n",
       "      <td>dk</td>\n",
       "      <td>1,822,989.41</td>\n",
       "      <td>Counter-Strike: Global Offensive</td>\n",
       "      <td>First-Person Shooter</td>\n",
       "    </tr>\n",
       "    <tr>\n",
       "      <th>1</th>\n",
       "      <td>3679</td>\n",
       "      <td>Andreas</td>\n",
       "      <td>Højsleth</td>\n",
       "      <td>Xyp9x</td>\n",
       "      <td>dk</td>\n",
       "      <td>1,799,288.57</td>\n",
       "      <td>Counter-Strike: Global Offensive</td>\n",
       "      <td>First-Person Shooter</td>\n",
       "    </tr>\n",
       "    <tr>\n",
       "      <th>2</th>\n",
       "      <td>3885</td>\n",
       "      <td>Nicolai</td>\n",
       "      <td>Reedtz</td>\n",
       "      <td>dev1ce</td>\n",
       "      <td>dk</td>\n",
       "      <td>1,787,489.88</td>\n",
       "      <td>Counter-Strike: Global Offensive</td>\n",
       "      <td>First-Person Shooter</td>\n",
       "    </tr>\n",
       "    <tr>\n",
       "      <th>3</th>\n",
       "      <td>3672</td>\n",
       "      <td>Lukas</td>\n",
       "      <td>Rossander</td>\n",
       "      <td>gla1ve</td>\n",
       "      <td>dk</td>\n",
       "      <td>1,652,350.75</td>\n",
       "      <td>Counter-Strike: Global Offensive</td>\n",
       "      <td>First-Person Shooter</td>\n",
       "    </tr>\n",
       "    <tr>\n",
       "      <th>4</th>\n",
       "      <td>17800</td>\n",
       "      <td>Emil</td>\n",
       "      <td>Reif</td>\n",
       "      <td>Magisk</td>\n",
       "      <td>dk</td>\n",
       "      <td>1,416,448.64</td>\n",
       "      <td>Counter-Strike: Global Offensive</td>\n",
       "      <td>First-Person Shooter</td>\n",
       "    </tr>\n",
       "  </tbody>\n",
       "</table>\n",
       "</div>"
      ],
      "text/plain": [
       "   PlayerId NameFirst   NameLast CurrentHandle CountryCode  TotalUSDPrize  \\\n",
       "0      3883     Peter  Rasmussen       dupreeh          dk   1,822,989.41   \n",
       "1      3679   Andreas   Højsleth         Xyp9x          dk   1,799,288.57   \n",
       "2      3885   Nicolai     Reedtz        dev1ce          dk   1,787,489.88   \n",
       "3      3672     Lukas  Rossander        gla1ve          dk   1,652,350.75   \n",
       "4     17800      Emil       Reif        Magisk          dk   1,416,448.64   \n",
       "\n",
       "                               Game                 Genre  \n",
       "0  Counter-Strike: Global Offensive  First-Person Shooter  \n",
       "1  Counter-Strike: Global Offensive  First-Person Shooter  \n",
       "2  Counter-Strike: Global Offensive  First-Person Shooter  \n",
       "3  Counter-Strike: Global Offensive  First-Person Shooter  \n",
       "4  Counter-Strike: Global Offensive  First-Person Shooter  "
      ]
     },
     "execution_count": 32,
     "metadata": {},
     "output_type": "execute_result"
    }
   ],
   "source": [
    "players.head()"
   ]
  },
  {
   "cell_type": "code",
   "execution_count": 33,
   "id": "da5732a5-6fec-498c-b1b8-bb8dccfafa26",
   "metadata": {},
   "outputs": [
    {
     "data": {
      "text/plain": [
       "Genre                            Game                            \n",
       "Battle Royale                    Arena of Valor                        0\n",
       "                                 Counter-Strike: Global Offensive      0\n",
       "                                 Dota 2                                0\n",
       "                                 Fortnite                            100\n",
       "                                 Hearthstone                           0\n",
       "                                 Heroes of the Storm                   0\n",
       "                                 League of Legends                     0\n",
       "                                 Overwatch                             0\n",
       "                                 PUBG                                100\n",
       "                                 Starcraft II                          0\n",
       "Collectible Card Game            Arena of Valor                        0\n",
       "                                 Counter-Strike: Global Offensive      0\n",
       "                                 Dota 2                                0\n",
       "                                 Fortnite                              0\n",
       "                                 Hearthstone                         100\n",
       "                                 Heroes of the Storm                   0\n",
       "                                 League of Legends                     0\n",
       "                                 Overwatch                             0\n",
       "                                 PUBG                                  0\n",
       "                                 Starcraft II                          0\n",
       "First-Person Shooter             Arena of Valor                        0\n",
       "                                 Counter-Strike: Global Offensive    100\n",
       "                                 Dota 2                                0\n",
       "                                 Fortnite                              0\n",
       "                                 Hearthstone                           0\n",
       "                                 Heroes of the Storm                   0\n",
       "                                 League of Legends                     0\n",
       "                                 Overwatch                           100\n",
       "                                 PUBG                                  0\n",
       "                                 Starcraft II                          0\n",
       "Multiplayer Online Battle Arena  Arena of Valor                      100\n",
       "                                 Counter-Strike: Global Offensive      0\n",
       "                                 Dota 2                              100\n",
       "                                 Fortnite                              0\n",
       "                                 Hearthstone                           0\n",
       "                                 Heroes of the Storm                 100\n",
       "                                 League of Legends                   100\n",
       "                                 Overwatch                             0\n",
       "                                 PUBG                                  0\n",
       "                                 Starcraft II                          0\n",
       "Strategy                         Arena of Valor                        0\n",
       "                                 Counter-Strike: Global Offensive      0\n",
       "                                 Dota 2                                0\n",
       "                                 Fortnite                              0\n",
       "                                 Hearthstone                           0\n",
       "                                 Heroes of the Storm                   0\n",
       "                                 League of Legends                     0\n",
       "                                 Overwatch                             0\n",
       "                                 PUBG                                  0\n",
       "                                 Starcraft II                        100\n",
       "Name: PlayerId, dtype: int64"
      ]
     },
     "execution_count": 33,
     "metadata": {},
     "output_type": "execute_result"
    }
   ],
   "source": [
    "players.groupby(['Genre', 'Game'])['PlayerId'].count()"
   ]
  },
  {
   "cell_type": "code",
   "execution_count": 34,
   "id": "06b6b584-9904-4172-985c-d0b5a475d510",
   "metadata": {},
   "outputs": [
    {
     "name": "stdout",
     "output_type": "stream",
     "text": [
      "So.. we have 100 players per game!\n"
     ]
    }
   ],
   "source": [
    "print('So.. we have 100 players per game!')"
   ]
  },
  {
   "cell_type": "markdown",
   "id": "04e3bc7e-d9dd-4b81-8793-73f04b6e2efc",
   "metadata": {},
   "source": [
    "# "
   ]
  },
  {
   "cell_type": "markdown",
   "id": "dec3f718-86fe-4754-9342-e0cae7a2186c",
   "metadata": {},
   "source": [
    "## Data Transformation"
   ]
  },
  {
   "cell_type": "code",
   "execution_count": 35,
   "id": "be4b029b-c435-47b8-869f-095162822c2c",
   "metadata": {},
   "outputs": [
    {
     "data": {
      "text/html": [
       "<div>\n",
       "<style scoped>\n",
       "    .dataframe tbody tr th:only-of-type {\n",
       "        vertical-align: middle;\n",
       "    }\n",
       "\n",
       "    .dataframe tbody tr th {\n",
       "        vertical-align: top;\n",
       "    }\n",
       "\n",
       "    .dataframe thead th {\n",
       "        text-align: right;\n",
       "    }\n",
       "</style>\n",
       "<table border=\"1\" class=\"dataframe\">\n",
       "  <thead>\n",
       "    <tr style=\"text-align: right;\">\n",
       "      <th></th>\n",
       "      <th>PlayerId</th>\n",
       "      <th>NameFirst</th>\n",
       "      <th>NameLast</th>\n",
       "      <th>CurrentHandle</th>\n",
       "      <th>CountryCode</th>\n",
       "      <th>TotalUSDPrize</th>\n",
       "      <th>Game</th>\n",
       "      <th>Genre</th>\n",
       "    </tr>\n",
       "  </thead>\n",
       "  <tbody>\n",
       "    <tr>\n",
       "      <th>0</th>\n",
       "      <td>3883</td>\n",
       "      <td>Peter</td>\n",
       "      <td>Rasmussen</td>\n",
       "      <td>dupreeh</td>\n",
       "      <td>dk</td>\n",
       "      <td>1,822,989.41</td>\n",
       "      <td>Counter-Strike: Global Offensive</td>\n",
       "      <td>First-Person Shooter</td>\n",
       "    </tr>\n",
       "    <tr>\n",
       "      <th>1</th>\n",
       "      <td>3679</td>\n",
       "      <td>Andreas</td>\n",
       "      <td>Højsleth</td>\n",
       "      <td>Xyp9x</td>\n",
       "      <td>dk</td>\n",
       "      <td>1,799,288.57</td>\n",
       "      <td>Counter-Strike: Global Offensive</td>\n",
       "      <td>First-Person Shooter</td>\n",
       "    </tr>\n",
       "    <tr>\n",
       "      <th>2</th>\n",
       "      <td>3885</td>\n",
       "      <td>Nicolai</td>\n",
       "      <td>Reedtz</td>\n",
       "      <td>dev1ce</td>\n",
       "      <td>dk</td>\n",
       "      <td>1,787,489.88</td>\n",
       "      <td>Counter-Strike: Global Offensive</td>\n",
       "      <td>First-Person Shooter</td>\n",
       "    </tr>\n",
       "    <tr>\n",
       "      <th>3</th>\n",
       "      <td>3672</td>\n",
       "      <td>Lukas</td>\n",
       "      <td>Rossander</td>\n",
       "      <td>gla1ve</td>\n",
       "      <td>dk</td>\n",
       "      <td>1,652,350.75</td>\n",
       "      <td>Counter-Strike: Global Offensive</td>\n",
       "      <td>First-Person Shooter</td>\n",
       "    </tr>\n",
       "    <tr>\n",
       "      <th>4</th>\n",
       "      <td>17800</td>\n",
       "      <td>Emil</td>\n",
       "      <td>Reif</td>\n",
       "      <td>Magisk</td>\n",
       "      <td>dk</td>\n",
       "      <td>1,416,448.64</td>\n",
       "      <td>Counter-Strike: Global Offensive</td>\n",
       "      <td>First-Person Shooter</td>\n",
       "    </tr>\n",
       "  </tbody>\n",
       "</table>\n",
       "</div>"
      ],
      "text/plain": [
       "   PlayerId NameFirst   NameLast CurrentHandle CountryCode  TotalUSDPrize  \\\n",
       "0      3883     Peter  Rasmussen       dupreeh          dk   1,822,989.41   \n",
       "1      3679   Andreas   Højsleth         Xyp9x          dk   1,799,288.57   \n",
       "2      3885   Nicolai     Reedtz        dev1ce          dk   1,787,489.88   \n",
       "3      3672     Lukas  Rossander        gla1ve          dk   1,652,350.75   \n",
       "4     17800      Emil       Reif        Magisk          dk   1,416,448.64   \n",
       "\n",
       "                               Game                 Genre  \n",
       "0  Counter-Strike: Global Offensive  First-Person Shooter  \n",
       "1  Counter-Strike: Global Offensive  First-Person Shooter  \n",
       "2  Counter-Strike: Global Offensive  First-Person Shooter  \n",
       "3  Counter-Strike: Global Offensive  First-Person Shooter  \n",
       "4  Counter-Strike: Global Offensive  First-Person Shooter  "
      ]
     },
     "execution_count": 35,
     "metadata": {},
     "output_type": "execute_result"
    }
   ],
   "source": [
    "players.head()"
   ]
  },
  {
   "cell_type": "code",
   "execution_count": 36,
   "id": "6800c193-e52b-4f74-af0d-bd3e5221692a",
   "metadata": {},
   "outputs": [
    {
     "data": {
      "text/plain": [
       "0      DK\n",
       "1      DK\n",
       "2      DK\n",
       "3      DK\n",
       "4      DK\n",
       "       ..\n",
       "995    FI\n",
       "996    US\n",
       "997    IT\n",
       "998    US\n",
       "999    SE\n",
       "Name: CountryCode, Length: 1000, dtype: object"
      ]
     },
     "execution_count": 36,
     "metadata": {},
     "output_type": "execute_result"
    }
   ],
   "source": [
    "players['CountryCode'].str.upper()"
   ]
  },
  {
   "cell_type": "code",
   "execution_count": 37,
   "id": "01b1b1c1-c277-4f46-be83-b579c81c472d",
   "metadata": {},
   "outputs": [],
   "source": [
    "players['CountryCode'] = players['CountryCode'].str.upper()"
   ]
  },
  {
   "cell_type": "markdown",
   "id": "f11d8fe5-443b-4591-85e0-1380aa99fdc4",
   "metadata": {},
   "source": [
    "# "
   ]
  },
  {
   "cell_type": "code",
   "execution_count": 38,
   "id": "58730769-0d29-4a0b-a537-9cff1e50659c",
   "metadata": {},
   "outputs": [
    {
     "data": {
      "text/html": [
       "<div>\n",
       "<style scoped>\n",
       "    .dataframe tbody tr th:only-of-type {\n",
       "        vertical-align: middle;\n",
       "    }\n",
       "\n",
       "    .dataframe tbody tr th {\n",
       "        vertical-align: top;\n",
       "    }\n",
       "\n",
       "    .dataframe thead th {\n",
       "        text-align: right;\n",
       "    }\n",
       "</style>\n",
       "<table border=\"1\" class=\"dataframe\">\n",
       "  <thead>\n",
       "    <tr style=\"text-align: right;\">\n",
       "      <th></th>\n",
       "      <th>Continent_Name</th>\n",
       "      <th>Continent_Code</th>\n",
       "      <th>Country_Name</th>\n",
       "      <th>Two_Letter_Country_Code</th>\n",
       "      <th>Three_Letter_Country_Code</th>\n",
       "      <th>Country_Number</th>\n",
       "    </tr>\n",
       "  </thead>\n",
       "  <tbody>\n",
       "    <tr>\n",
       "      <th>0</th>\n",
       "      <td>Asia</td>\n",
       "      <td>AS</td>\n",
       "      <td>Afghanistan, Islamic Republic of</td>\n",
       "      <td>AF</td>\n",
       "      <td>AFG</td>\n",
       "      <td>4.00</td>\n",
       "    </tr>\n",
       "    <tr>\n",
       "      <th>1</th>\n",
       "      <td>Europe</td>\n",
       "      <td>EU</td>\n",
       "      <td>Albania, Republic of</td>\n",
       "      <td>AL</td>\n",
       "      <td>ALB</td>\n",
       "      <td>8.00</td>\n",
       "    </tr>\n",
       "    <tr>\n",
       "      <th>2</th>\n",
       "      <td>Antarctica</td>\n",
       "      <td>AN</td>\n",
       "      <td>Antarctica (the territory South of 60 deg S)</td>\n",
       "      <td>AQ</td>\n",
       "      <td>ATA</td>\n",
       "      <td>10.00</td>\n",
       "    </tr>\n",
       "    <tr>\n",
       "      <th>3</th>\n",
       "      <td>Africa</td>\n",
       "      <td>AF</td>\n",
       "      <td>Algeria, People's Democratic Republic of</td>\n",
       "      <td>DZ</td>\n",
       "      <td>DZA</td>\n",
       "      <td>12.00</td>\n",
       "    </tr>\n",
       "    <tr>\n",
       "      <th>4</th>\n",
       "      <td>Oceania</td>\n",
       "      <td>OC</td>\n",
       "      <td>American Samoa</td>\n",
       "      <td>AS</td>\n",
       "      <td>ASM</td>\n",
       "      <td>16.00</td>\n",
       "    </tr>\n",
       "  </tbody>\n",
       "</table>\n",
       "</div>"
      ],
      "text/plain": [
       "  Continent_Name Continent_Code                                  Country_Name  \\\n",
       "0           Asia             AS              Afghanistan, Islamic Republic of   \n",
       "1         Europe             EU                          Albania, Republic of   \n",
       "2     Antarctica             AN  Antarctica (the territory South of 60 deg S)   \n",
       "3         Africa             AF      Algeria, People's Democratic Republic of   \n",
       "4        Oceania             OC                                American Samoa   \n",
       "\n",
       "  Two_Letter_Country_Code Three_Letter_Country_Code  Country_Number  \n",
       "0                      AF                       AFG            4.00  \n",
       "1                      AL                       ALB            8.00  \n",
       "2                      AQ                       ATA           10.00  \n",
       "3                      DZ                       DZA           12.00  \n",
       "4                      AS                       ASM           16.00  "
      ]
     },
     "execution_count": 38,
     "metadata": {},
     "output_type": "execute_result"
    }
   ],
   "source": [
    "countries.head()"
   ]
  },
  {
   "cell_type": "code",
   "execution_count": 39,
   "id": "dc03094e-1192-4680-ac91-7c04e397e1c6",
   "metadata": {},
   "outputs": [
    {
     "data": {
      "text/plain": [
       "0      AF\n",
       "1      AL\n",
       "2      AQ\n",
       "3      DZ\n",
       "4      AS\n",
       "       ..\n",
       "257    ZM\n",
       "258    XX\n",
       "259    XE\n",
       "260    XD\n",
       "261    XS\n",
       "Name: Two_Letter_Country_Code, Length: 261, dtype: object"
      ]
     },
     "execution_count": 39,
     "metadata": {},
     "output_type": "execute_result"
    }
   ],
   "source": [
    "filtered = countries['Two_Letter_Country_Code'].notnull()     # if we don't use that filter, we will get an error about NaN values\n",
    "countries[filtered]['Two_Letter_Country_Code'].apply(lambda x: x.upper())"
   ]
  },
  {
   "cell_type": "code",
   "execution_count": 40,
   "id": "481de070-5264-4230-a013-396758ccd726",
   "metadata": {},
   "outputs": [],
   "source": [
    "countries['Two_Letter_Country_Code'] = countries[filtered]['Two_Letter_Country_Code'].apply(lambda x: x.upper())"
   ]
  },
  {
   "cell_type": "markdown",
   "id": "9498f0e5-29a4-4837-9672-721485d16459",
   "metadata": {},
   "source": [
    "# "
   ]
  },
  {
   "cell_type": "code",
   "execution_count": 41,
   "id": "6c6aca44-a824-42db-8aef-f2f6cce45060",
   "metadata": {},
   "outputs": [],
   "source": [
    "merge_data = pd.merge(countries, players, left_on='Two_Letter_Country_Code', right_on='CountryCode')"
   ]
  },
  {
   "cell_type": "code",
   "execution_count": 42,
   "id": "785f1cea-2301-4c35-a76a-9a0665136540",
   "metadata": {},
   "outputs": [],
   "source": [
    "merge_data = merge_data.loc[:, ['PlayerId', 'NameFirst', 'NameLast', 'CurrentHandle', 'TotalUSDPrize', 'Game', 'Genre','Continent_Name', 'Country_Name', 'Country_Number']]"
   ]
  },
  {
   "cell_type": "code",
   "execution_count": 43,
   "id": "974015f4-2dd2-4887-afb5-e09c25bba7f9",
   "metadata": {},
   "outputs": [
    {
     "data": {
      "text/html": [
       "<div>\n",
       "<style scoped>\n",
       "    .dataframe tbody tr th:only-of-type {\n",
       "        vertical-align: middle;\n",
       "    }\n",
       "\n",
       "    .dataframe tbody tr th {\n",
       "        vertical-align: top;\n",
       "    }\n",
       "\n",
       "    .dataframe thead th {\n",
       "        text-align: right;\n",
       "    }\n",
       "</style>\n",
       "<table border=\"1\" class=\"dataframe\">\n",
       "  <thead>\n",
       "    <tr style=\"text-align: right;\">\n",
       "      <th></th>\n",
       "      <th>PlayerId</th>\n",
       "      <th>NameFirst</th>\n",
       "      <th>NameLast</th>\n",
       "      <th>CurrentHandle</th>\n",
       "      <th>TotalUSDPrize</th>\n",
       "      <th>Game</th>\n",
       "      <th>Genre</th>\n",
       "      <th>Continent_Name</th>\n",
       "      <th>Country_Name</th>\n",
       "      <th>Country_Number</th>\n",
       "    </tr>\n",
       "  </thead>\n",
       "  <tbody>\n",
       "    <tr>\n",
       "      <th>0</th>\n",
       "      <td>61896</td>\n",
       "      <td>Thiago</td>\n",
       "      <td>Lapp</td>\n",
       "      <td>kinG</td>\n",
       "      <td>1,021,000.00</td>\n",
       "      <td>Fortnite</td>\n",
       "      <td>Battle Royale</td>\n",
       "      <td>South America</td>\n",
       "      <td>Argentina, Argentine Republic</td>\n",
       "      <td>32.00</td>\n",
       "    </tr>\n",
       "    <tr>\n",
       "      <th>1</th>\n",
       "      <td>30167</td>\n",
       "      <td>Francisco</td>\n",
       "      <td>Leimontas</td>\n",
       "      <td>PNC</td>\n",
       "      <td>82,409.24</td>\n",
       "      <td>Hearthstone</td>\n",
       "      <td>Collectible Card Game</td>\n",
       "      <td>South America</td>\n",
       "      <td>Argentina, Argentine Republic</td>\n",
       "      <td>32.00</td>\n",
       "    </tr>\n",
       "    <tr>\n",
       "      <th>2</th>\n",
       "      <td>15703</td>\n",
       "      <td>Facu</td>\n",
       "      <td>Pruzzo</td>\n",
       "      <td>Nalguidan</td>\n",
       "      <td>70,750.00</td>\n",
       "      <td>Hearthstone</td>\n",
       "      <td>Collectible Card Game</td>\n",
       "      <td>South America</td>\n",
       "      <td>Argentina, Argentine Republic</td>\n",
       "      <td>32.00</td>\n",
       "    </tr>\n",
       "    <tr>\n",
       "      <th>3</th>\n",
       "      <td>30451</td>\n",
       "      <td>Anathan</td>\n",
       "      <td>Pham</td>\n",
       "      <td>ana</td>\n",
       "      <td>6,000,411.96</td>\n",
       "      <td>Dota 2</td>\n",
       "      <td>Multiplayer Online Battle Arena</td>\n",
       "      <td>Oceania</td>\n",
       "      <td>Australia, Commonwealth of</td>\n",
       "      <td>36.00</td>\n",
       "    </tr>\n",
       "    <tr>\n",
       "      <th>4</th>\n",
       "      <td>15530</td>\n",
       "      <td>Damien</td>\n",
       "      <td>Chok</td>\n",
       "      <td>kpii</td>\n",
       "      <td>1,809,225.30</td>\n",
       "      <td>Dota 2</td>\n",
       "      <td>Multiplayer Online Battle Arena</td>\n",
       "      <td>Oceania</td>\n",
       "      <td>Australia, Commonwealth of</td>\n",
       "      <td>36.00</td>\n",
       "    </tr>\n",
       "  </tbody>\n",
       "</table>\n",
       "</div>"
      ],
      "text/plain": [
       "   PlayerId  NameFirst   NameLast CurrentHandle  TotalUSDPrize         Game  \\\n",
       "0     61896     Thiago       Lapp          kinG   1,021,000.00     Fortnite   \n",
       "1     30167  Francisco  Leimontas           PNC      82,409.24  Hearthstone   \n",
       "2     15703       Facu     Pruzzo     Nalguidan      70,750.00  Hearthstone   \n",
       "3     30451    Anathan       Pham           ana   6,000,411.96       Dota 2   \n",
       "4     15530     Damien       Chok          kpii   1,809,225.30       Dota 2   \n",
       "\n",
       "                             Genre Continent_Name  \\\n",
       "0                    Battle Royale  South America   \n",
       "1            Collectible Card Game  South America   \n",
       "2            Collectible Card Game  South America   \n",
       "3  Multiplayer Online Battle Arena        Oceania   \n",
       "4  Multiplayer Online Battle Arena        Oceania   \n",
       "\n",
       "                    Country_Name  Country_Number  \n",
       "0  Argentina, Argentine Republic           32.00  \n",
       "1  Argentina, Argentine Republic           32.00  \n",
       "2  Argentina, Argentine Republic           32.00  \n",
       "3     Australia, Commonwealth of           36.00  \n",
       "4     Australia, Commonwealth of           36.00  "
      ]
     },
     "execution_count": 43,
     "metadata": {},
     "output_type": "execute_result"
    }
   ],
   "source": [
    "merge_data.head()"
   ]
  },
  {
   "cell_type": "markdown",
   "id": "d349ed7b-e1b4-4faf-811f-5a2acd6f6040",
   "metadata": {},
   "source": [
    "# "
   ]
  },
  {
   "cell_type": "markdown",
   "id": "4b6b8701-2884-443f-8817-23c91f266191",
   "metadata": {},
   "source": [
    "## Visualization"
   ]
  },
  {
   "cell_type": "markdown",
   "id": "f391ce62-5ca5-4aed-afa9-966aa521ecb4",
   "metadata": {},
   "source": [
    "### Top Games Graph"
   ]
  },
  {
   "cell_type": "code",
   "execution_count": 44,
   "id": "dad97f60-ddd3-4801-a90d-f9e60f03ed98",
   "metadata": {},
   "outputs": [],
   "source": [
    "top_games = players.groupby('Game')['TotalUSDPrize'].sum().sort_values(ascending=False)"
   ]
  },
  {
   "cell_type": "code",
   "execution_count": 45,
   "id": "049a4527-3054-4570-9187-420beba6f3dc",
   "metadata": {},
   "outputs": [
    {
     "data": {
      "text/plain": [
       "Game\n",
       "Dota 2                             179,178,818.95\n",
       "Counter-Strike: Global Offensive    56,541,920.90\n",
       "Fortnite                            43,409,370.91\n",
       "League of Legends                   35,043,475.87\n",
       "Starcraft II                        25,379,823.93\n",
       "Hearthstone                         13,335,640.79\n",
       "PUBG                                12,441,958.89\n",
       "Overwatch                           12,347,808.50\n",
       "Heroes of the Storm                 11,780,445.24\n",
       "Arena of Valor                       8,333,952.43\n",
       "Name: TotalUSDPrize, dtype: float64"
      ]
     },
     "execution_count": 45,
     "metadata": {},
     "output_type": "execute_result"
    }
   ],
   "source": [
    "top_games"
   ]
  },
  {
   "cell_type": "code",
   "execution_count": 46,
   "id": "7cc5af65-308d-42a1-817d-9d7e4457e037",
   "metadata": {},
   "outputs": [
    {
     "data": {
      "image/png": "[encoded data removed]",
      "text/plain": [
       "<Figure size 800x500 with 1 Axes>"
      ]
     },
     "metadata": {},
     "output_type": "display_data"
    }
   ],
   "source": [
    "fig, ax = plt.subplots(figsize=(8,5), dpi=100)\n",
    "\n",
    "plt.bar(top_games.index, top_games)\n",
    "\n",
    "\n",
    "y_position = 3 * (10 ** 6)\n",
    "for idx, val in enumerate(top_games):\n",
    "    ax.text(idx, val + y_position, str(round(val / 10 ** 6, 1)) + 'M', ha='center', color='#36518B', fontweight='bold', fontsize=9.5)\n",
    "\n",
    "\n",
    "plt.title('Top Games by Earnings', fontsize=14, color='#802323', fontweight='bold')\n",
    "plt.ylabel('Total Earnings (in milion)', fontsize=12.5, color='#802323')\n",
    "\n",
    "x = 10 ** 8    # 100,000,000\n",
    "plt.yticks([0.25*x, 0.5*x, 0.75*x, 1*x, 1.25*x, 1.5*x, 1.75*x, 2*x])\n",
    "plt.xticks(rotation=90)\n",
    "\n",
    "#plt.grid(axis='y')\n",
    "plt.show()"
   ]
  },
  {
   "cell_type": "markdown",
   "id": "dd3a2194-10af-4a27-8275-281d68133ba2",
   "metadata": {},
   "source": [
    "# "
   ]
  },
  {
   "cell_type": "markdown",
   "id": "b0d80bf5-4394-4271-8a2b-c35ea6492f89",
   "metadata": {},
   "source": [
    "### Top 10 Players (by Earnings)"
   ]
  },
  {
   "cell_type": "code",
   "execution_count": 47,
   "id": "7a3aead1-eb7a-471c-90ea-20076434d8eb",
   "metadata": {},
   "outputs": [
    {
     "data": {
      "text/html": [
       "<div>\n",
       "<style scoped>\n",
       "    .dataframe tbody tr th:only-of-type {\n",
       "        vertical-align: middle;\n",
       "    }\n",
       "\n",
       "    .dataframe tbody tr th {\n",
       "        vertical-align: top;\n",
       "    }\n",
       "\n",
       "    .dataframe thead th {\n",
       "        text-align: right;\n",
       "    }\n",
       "</style>\n",
       "<table border=\"1\" class=\"dataframe\">\n",
       "  <thead>\n",
       "    <tr style=\"text-align: right;\">\n",
       "      <th></th>\n",
       "      <th>PlayerId</th>\n",
       "      <th>NameFirst</th>\n",
       "      <th>NameLast</th>\n",
       "      <th>CurrentHandle</th>\n",
       "      <th>CountryCode</th>\n",
       "      <th>TotalUSDPrize</th>\n",
       "      <th>Game</th>\n",
       "      <th>Genre</th>\n",
       "    </tr>\n",
       "  </thead>\n",
       "  <tbody>\n",
       "    <tr>\n",
       "      <th>0</th>\n",
       "      <td>3883</td>\n",
       "      <td>Peter</td>\n",
       "      <td>Rasmussen</td>\n",
       "      <td>dupreeh</td>\n",
       "      <td>DK</td>\n",
       "      <td>1,822,989.41</td>\n",
       "      <td>Counter-Strike: Global Offensive</td>\n",
       "      <td>First-Person Shooter</td>\n",
       "    </tr>\n",
       "    <tr>\n",
       "      <th>1</th>\n",
       "      <td>3679</td>\n",
       "      <td>Andreas</td>\n",
       "      <td>Højsleth</td>\n",
       "      <td>Xyp9x</td>\n",
       "      <td>DK</td>\n",
       "      <td>1,799,288.57</td>\n",
       "      <td>Counter-Strike: Global Offensive</td>\n",
       "      <td>First-Person Shooter</td>\n",
       "    </tr>\n",
       "    <tr>\n",
       "      <th>2</th>\n",
       "      <td>3885</td>\n",
       "      <td>Nicolai</td>\n",
       "      <td>Reedtz</td>\n",
       "      <td>dev1ce</td>\n",
       "      <td>DK</td>\n",
       "      <td>1,787,489.88</td>\n",
       "      <td>Counter-Strike: Global Offensive</td>\n",
       "      <td>First-Person Shooter</td>\n",
       "    </tr>\n",
       "    <tr>\n",
       "      <th>3</th>\n",
       "      <td>3672</td>\n",
       "      <td>Lukas</td>\n",
       "      <td>Rossander</td>\n",
       "      <td>gla1ve</td>\n",
       "      <td>DK</td>\n",
       "      <td>1,652,350.75</td>\n",
       "      <td>Counter-Strike: Global Offensive</td>\n",
       "      <td>First-Person Shooter</td>\n",
       "    </tr>\n",
       "    <tr>\n",
       "      <th>4</th>\n",
       "      <td>17800</td>\n",
       "      <td>Emil</td>\n",
       "      <td>Reif</td>\n",
       "      <td>Magisk</td>\n",
       "      <td>DK</td>\n",
       "      <td>1,416,448.64</td>\n",
       "      <td>Counter-Strike: Global Offensive</td>\n",
       "      <td>First-Person Shooter</td>\n",
       "    </tr>\n",
       "  </tbody>\n",
       "</table>\n",
       "</div>"
      ],
      "text/plain": [
       "   PlayerId NameFirst   NameLast CurrentHandle CountryCode  TotalUSDPrize  \\\n",
       "0      3883     Peter  Rasmussen       dupreeh          DK   1,822,989.41   \n",
       "1      3679   Andreas   Højsleth         Xyp9x          DK   1,799,288.57   \n",
       "2      3885   Nicolai     Reedtz        dev1ce          DK   1,787,489.88   \n",
       "3      3672     Lukas  Rossander        gla1ve          DK   1,652,350.75   \n",
       "4     17800      Emil       Reif        Magisk          DK   1,416,448.64   \n",
       "\n",
       "                               Game                 Genre  \n",
       "0  Counter-Strike: Global Offensive  First-Person Shooter  \n",
       "1  Counter-Strike: Global Offensive  First-Person Shooter  \n",
       "2  Counter-Strike: Global Offensive  First-Person Shooter  \n",
       "3  Counter-Strike: Global Offensive  First-Person Shooter  \n",
       "4  Counter-Strike: Global Offensive  First-Person Shooter  "
      ]
     },
     "execution_count": 47,
     "metadata": {},
     "output_type": "execute_result"
    }
   ],
   "source": [
    "players.head()"
   ]
  },
  {
   "cell_type": "code",
   "execution_count": 48,
   "id": "9c7fe364-06da-443d-bfbd-82e08c790622",
   "metadata": {},
   "outputs": [],
   "source": [
    "top_10_players = players.sort_values('TotalUSDPrize', ascending=False).head(10)"
   ]
  },
  {
   "cell_type": "code",
   "execution_count": 49,
   "id": "241f90ef-21d6-456e-a162-9c854c0c8592",
   "metadata": {},
   "outputs": [],
   "source": [
    "top_10_players = top_10_players.sort_values('TotalUSDPrize')"
   ]
  },
  {
   "cell_type": "code",
   "execution_count": 50,
   "id": "0ff039e2-1ce0-4152-88d8-6cb13ac378db",
   "metadata": {},
   "outputs": [
    {
     "data": {
      "text/html": [
       "<div>\n",
       "<style scoped>\n",
       "    .dataframe tbody tr th:only-of-type {\n",
       "        vertical-align: middle;\n",
       "    }\n",
       "\n",
       "    .dataframe tbody tr th {\n",
       "        vertical-align: top;\n",
       "    }\n",
       "\n",
       "    .dataframe thead th {\n",
       "        text-align: right;\n",
       "    }\n",
       "</style>\n",
       "<table border=\"1\" class=\"dataframe\">\n",
       "  <thead>\n",
       "    <tr style=\"text-align: right;\">\n",
       "      <th></th>\n",
       "      <th>PlayerId</th>\n",
       "      <th>NameFirst</th>\n",
       "      <th>NameLast</th>\n",
       "      <th>CurrentHandle</th>\n",
       "      <th>CountryCode</th>\n",
       "      <th>TotalUSDPrize</th>\n",
       "      <th>Game</th>\n",
       "      <th>Genre</th>\n",
       "    </tr>\n",
       "  </thead>\n",
       "  <tbody>\n",
       "    <tr>\n",
       "      <th>109</th>\n",
       "      <td>12133</td>\n",
       "      <td>Lasse</td>\n",
       "      <td>Urpalainen</td>\n",
       "      <td>Matumbaman</td>\n",
       "      <td>FI</td>\n",
       "      <td>3,765,369.04</td>\n",
       "      <td>Dota 2</td>\n",
       "      <td>Multiplayer Online Battle Arena</td>\n",
       "    </tr>\n",
       "    <tr>\n",
       "      <th>108</th>\n",
       "      <td>25335</td>\n",
       "      <td>Maroun</td>\n",
       "      <td>Merhej</td>\n",
       "      <td>GH</td>\n",
       "      <td>LB</td>\n",
       "      <td>4,193,412.69</td>\n",
       "      <td>Dota 2</td>\n",
       "      <td>Multiplayer Online Battle Arena</td>\n",
       "    </tr>\n",
       "    <tr>\n",
       "      <th>107</th>\n",
       "      <td>12579</td>\n",
       "      <td>Ivan</td>\n",
       "      <td>Ivanov</td>\n",
       "      <td>MinD_ContRoL</td>\n",
       "      <td>BG</td>\n",
       "      <td>4,579,118.16</td>\n",
       "      <td>Dota 2</td>\n",
       "      <td>Multiplayer Online Battle Arena</td>\n",
       "    </tr>\n",
       "    <tr>\n",
       "      <th>106</th>\n",
       "      <td>14671</td>\n",
       "      <td>Amer</td>\n",
       "      <td>Al-Barkawi</td>\n",
       "      <td>Miracle-</td>\n",
       "      <td>JO</td>\n",
       "      <td>4,798,043.68</td>\n",
       "      <td>Dota 2</td>\n",
       "      <td>Multiplayer Online Battle Arena</td>\n",
       "    </tr>\n",
       "    <tr>\n",
       "      <th>105</th>\n",
       "      <td>3145</td>\n",
       "      <td>Kuro</td>\n",
       "      <td>Takhasomi</td>\n",
       "      <td>KuroKy</td>\n",
       "      <td>DE</td>\n",
       "      <td>5,193,382.81</td>\n",
       "      <td>Dota 2</td>\n",
       "      <td>Multiplayer Online Battle Arena</td>\n",
       "    </tr>\n",
       "    <tr>\n",
       "      <th>104</th>\n",
       "      <td>18897</td>\n",
       "      <td>Topias</td>\n",
       "      <td>Taavitsainen</td>\n",
       "      <td>Topson</td>\n",
       "      <td>FI</td>\n",
       "      <td>5,470,902.57</td>\n",
       "      <td>Dota 2</td>\n",
       "      <td>Multiplayer Online Battle Arena</td>\n",
       "    </tr>\n",
       "    <tr>\n",
       "      <th>103</th>\n",
       "      <td>2811</td>\n",
       "      <td>Sébastien</td>\n",
       "      <td>Debs</td>\n",
       "      <td>Ceb</td>\n",
       "      <td>FR</td>\n",
       "      <td>5,554,297.41</td>\n",
       "      <td>Dota 2</td>\n",
       "      <td>Multiplayer Online Battle Arena</td>\n",
       "    </tr>\n",
       "    <tr>\n",
       "      <th>102</th>\n",
       "      <td>30451</td>\n",
       "      <td>Anathan</td>\n",
       "      <td>Pham</td>\n",
       "      <td>ana</td>\n",
       "      <td>AU</td>\n",
       "      <td>6,000,411.96</td>\n",
       "      <td>Dota 2</td>\n",
       "      <td>Multiplayer Online Battle Arena</td>\n",
       "    </tr>\n",
       "    <tr>\n",
       "      <th>101</th>\n",
       "      <td>3822</td>\n",
       "      <td>Jesse</td>\n",
       "      <td>Vainikka</td>\n",
       "      <td>JerAx</td>\n",
       "      <td>FI</td>\n",
       "      <td>6,470,000.02</td>\n",
       "      <td>Dota 2</td>\n",
       "      <td>Multiplayer Online Battle Arena</td>\n",
       "    </tr>\n",
       "    <tr>\n",
       "      <th>100</th>\n",
       "      <td>3304</td>\n",
       "      <td>Johan</td>\n",
       "      <td>Sundstein</td>\n",
       "      <td>N0tail</td>\n",
       "      <td>DK</td>\n",
       "      <td>6,952,596.58</td>\n",
       "      <td>Dota 2</td>\n",
       "      <td>Multiplayer Online Battle Arena</td>\n",
       "    </tr>\n",
       "  </tbody>\n",
       "</table>\n",
       "</div>"
      ],
      "text/plain": [
       "     PlayerId  NameFirst      NameLast CurrentHandle CountryCode  \\\n",
       "109     12133      Lasse    Urpalainen    Matumbaman          FI   \n",
       "108     25335     Maroun        Merhej            GH          LB   \n",
       "107     12579       Ivan        Ivanov  MinD_ContRoL          BG   \n",
       "106     14671       Amer    Al-Barkawi      Miracle-          JO   \n",
       "105      3145       Kuro     Takhasomi        KuroKy          DE   \n",
       "104     18897     Topias  Taavitsainen        Topson          FI   \n",
       "103      2811  Sébastien          Debs           Ceb          FR   \n",
       "102     30451    Anathan          Pham           ana          AU   \n",
       "101      3822      Jesse      Vainikka         JerAx          FI   \n",
       "100      3304      Johan     Sundstein        N0tail          DK   \n",
       "\n",
       "     TotalUSDPrize    Game                            Genre  \n",
       "109   3,765,369.04  Dota 2  Multiplayer Online Battle Arena  \n",
       "108   4,193,412.69  Dota 2  Multiplayer Online Battle Arena  \n",
       "107   4,579,118.16  Dota 2  Multiplayer Online Battle Arena  \n",
       "106   4,798,043.68  Dota 2  Multiplayer Online Battle Arena  \n",
       "105   5,193,382.81  Dota 2  Multiplayer Online Battle Arena  \n",
       "104   5,470,902.57  Dota 2  Multiplayer Online Battle Arena  \n",
       "103   5,554,297.41  Dota 2  Multiplayer Online Battle Arena  \n",
       "102   6,000,411.96  Dota 2  Multiplayer Online Battle Arena  \n",
       "101   6,470,000.02  Dota 2  Multiplayer Online Battle Arena  \n",
       "100   6,952,596.58  Dota 2  Multiplayer Online Battle Arena  "
      ]
     },
     "execution_count": 50,
     "metadata": {},
     "output_type": "execute_result"
    }
   ],
   "source": [
    "top_10_players"
   ]
  },
  {
   "cell_type": "code",
   "execution_count": 51,
   "id": "d70760c1-7a79-4e83-9173-a4aabfcdda0d",
   "metadata": {},
   "outputs": [
    {
     "ename": "TypeError",
     "evalue": "can only concatenate str (not \"Categorical\") to str",
     "output_type": "error",
     "traceback": [
      "\u001b[1;31m---------------------------------------------------------------------------\u001b[0m",
      "\u001b[1;31mTypeError\u001b[0m                                 Traceback (most recent call last)",
      "\u001b[1;32m<ipython-input-51-4f2484da304a>\u001b[0m in \u001b[0;36m<module>\u001b[1;34m\u001b[0m\n\u001b[0;32m      1\u001b[0m \u001b[0mfig\u001b[0m\u001b[1;33m,\u001b[0m \u001b[0max\u001b[0m \u001b[1;33m=\u001b[0m \u001b[0mplt\u001b[0m\u001b[1;33m.\u001b[0m\u001b[0msubplots\u001b[0m\u001b[1;33m(\u001b[0m\u001b[0mfigsize\u001b[0m\u001b[1;33m=\u001b[0m\u001b[1;33m(\u001b[0m\u001b[1;36m8\u001b[0m\u001b[1;33m,\u001b[0m\u001b[1;36m6\u001b[0m\u001b[1;33m)\u001b[0m\u001b[1;33m,\u001b[0m \u001b[0mdpi\u001b[0m\u001b[1;33m=\u001b[0m\u001b[1;36m90\u001b[0m\u001b[1;33m)\u001b[0m\u001b[1;33m\u001b[0m\u001b[1;33m\u001b[0m\u001b[0m\n\u001b[0;32m      2\u001b[0m \u001b[1;33m\u001b[0m\u001b[0m\n\u001b[1;32m----> 3\u001b[1;33m \u001b[0mplt\u001b[0m\u001b[1;33m.\u001b[0m\u001b[0mbarh\u001b[0m\u001b[1;33m(\u001b[0m \u001b[1;34m'('\u001b[0m \u001b[1;33m+\u001b[0m \u001b[0mtop_10_players\u001b[0m\u001b[1;33m[\u001b[0m\u001b[1;34m'Game'\u001b[0m\u001b[1;33m]\u001b[0m \u001b[1;33m+\u001b[0m \u001b[1;34m') '\u001b[0m \u001b[1;33m+\u001b[0m \u001b[0mtop_10_players\u001b[0m\u001b[1;33m[\u001b[0m\u001b[1;34m'CurrentHandle'\u001b[0m\u001b[1;33m]\u001b[0m\u001b[1;33m,\u001b[0m \u001b[0mtop_10_players\u001b[0m\u001b[1;33m[\u001b[0m\u001b[1;34m'TotalUSDPrize'\u001b[0m\u001b[1;33m]\u001b[0m\u001b[1;33m)\u001b[0m\u001b[1;33m\u001b[0m\u001b[1;33m\u001b[0m\u001b[0m\n\u001b[0m\u001b[0;32m      4\u001b[0m \u001b[1;33m\u001b[0m\u001b[0m\n\u001b[0;32m      5\u001b[0m \u001b[1;33m\u001b[0m\u001b[0m\n",
      "\u001b[1;32m~\\AppData\\Roaming\\Python\\Python38\\site-packages\\pandas\\core\\ops\\common.py\u001b[0m in \u001b[0;36mnew_method\u001b[1;34m(self, other)\u001b[0m\n\u001b[0;32m     67\u001b[0m         \u001b[0mother\u001b[0m \u001b[1;33m=\u001b[0m \u001b[0mitem_from_zerodim\u001b[0m\u001b[1;33m(\u001b[0m\u001b[0mother\u001b[0m\u001b[1;33m)\u001b[0m\u001b[1;33m\u001b[0m\u001b[1;33m\u001b[0m\u001b[0m\n\u001b[0;32m     68\u001b[0m \u001b[1;33m\u001b[0m\u001b[0m\n\u001b[1;32m---> 69\u001b[1;33m         \u001b[1;32mreturn\u001b[0m \u001b[0mmethod\u001b[0m\u001b[1;33m(\u001b[0m\u001b[0mself\u001b[0m\u001b[1;33m,\u001b[0m \u001b[0mother\u001b[0m\u001b[1;33m)\u001b[0m\u001b[1;33m\u001b[0m\u001b[1;33m\u001b[0m\u001b[0m\n\u001b[0m\u001b[0;32m     70\u001b[0m \u001b[1;33m\u001b[0m\u001b[0m\n\u001b[0;32m     71\u001b[0m     \u001b[1;32mreturn\u001b[0m \u001b[0mnew_method\u001b[0m\u001b[1;33m\u001b[0m\u001b[1;33m\u001b[0m\u001b[0m\n",
      "\u001b[1;32m~\\AppData\\Roaming\\Python\\Python38\\site-packages\\pandas\\core\\arraylike.py\u001b[0m in \u001b[0;36m__radd__\u001b[1;34m(self, other)\u001b[0m\n\u001b[0;32m     94\u001b[0m     \u001b[1;33m@\u001b[0m\u001b[0munpack_zerodim_and_defer\u001b[0m\u001b[1;33m(\u001b[0m\u001b[1;34m\"__radd__\"\u001b[0m\u001b[1;33m)\u001b[0m\u001b[1;33m\u001b[0m\u001b[1;33m\u001b[0m\u001b[0m\n\u001b[0;32m     95\u001b[0m     \u001b[1;32mdef\u001b[0m \u001b[0m__radd__\u001b[0m\u001b[1;33m(\u001b[0m\u001b[0mself\u001b[0m\u001b[1;33m,\u001b[0m \u001b[0mother\u001b[0m\u001b[1;33m)\u001b[0m\u001b[1;33m:\u001b[0m\u001b[1;33m\u001b[0m\u001b[1;33m\u001b[0m\u001b[0m\n\u001b[1;32m---> 96\u001b[1;33m         \u001b[1;32mreturn\u001b[0m \u001b[0mself\u001b[0m\u001b[1;33m.\u001b[0m\u001b[0m_arith_method\u001b[0m\u001b[1;33m(\u001b[0m\u001b[0mother\u001b[0m\u001b[1;33m,\u001b[0m \u001b[0mroperator\u001b[0m\u001b[1;33m.\u001b[0m\u001b[0mradd\u001b[0m\u001b[1;33m)\u001b[0m\u001b[1;33m\u001b[0m\u001b[1;33m\u001b[0m\u001b[0m\n\u001b[0m\u001b[0;32m     97\u001b[0m \u001b[1;33m\u001b[0m\u001b[0m\n\u001b[0;32m     98\u001b[0m     \u001b[1;33m@\u001b[0m\u001b[0munpack_zerodim_and_defer\u001b[0m\u001b[1;33m(\u001b[0m\u001b[1;34m\"__sub__\"\u001b[0m\u001b[1;33m)\u001b[0m\u001b[1;33m\u001b[0m\u001b[1;33m\u001b[0m\u001b[0m\n",
      "\u001b[1;32m~\\AppData\\Roaming\\Python\\Python38\\site-packages\\pandas\\core\\series.py\u001b[0m in \u001b[0;36m_arith_method\u001b[1;34m(self, other, op)\u001b[0m\n\u001b[0;32m   5524\u001b[0m \u001b[1;33m\u001b[0m\u001b[0m\n\u001b[0;32m   5525\u001b[0m         \u001b[1;32mwith\u001b[0m \u001b[0mnp\u001b[0m\u001b[1;33m.\u001b[0m\u001b[0merrstate\u001b[0m\u001b[1;33m(\u001b[0m\u001b[0mall\u001b[0m\u001b[1;33m=\u001b[0m\u001b[1;34m\"ignore\"\u001b[0m\u001b[1;33m)\u001b[0m\u001b[1;33m:\u001b[0m\u001b[1;33m\u001b[0m\u001b[1;33m\u001b[0m\u001b[0m\n\u001b[1;32m-> 5526\u001b[1;33m             \u001b[0mresult\u001b[0m \u001b[1;33m=\u001b[0m \u001b[0mops\u001b[0m\u001b[1;33m.\u001b[0m\u001b[0marithmetic_op\u001b[0m\u001b[1;33m(\u001b[0m\u001b[0mlvalues\u001b[0m\u001b[1;33m,\u001b[0m \u001b[0mrvalues\u001b[0m\u001b[1;33m,\u001b[0m \u001b[0mop\u001b[0m\u001b[1;33m)\u001b[0m\u001b[1;33m\u001b[0m\u001b[1;33m\u001b[0m\u001b[0m\n\u001b[0m\u001b[0;32m   5527\u001b[0m \u001b[1;33m\u001b[0m\u001b[0m\n\u001b[0;32m   5528\u001b[0m         \u001b[1;32mreturn\u001b[0m \u001b[0mself\u001b[0m\u001b[1;33m.\u001b[0m\u001b[0m_construct_result\u001b[0m\u001b[1;33m(\u001b[0m\u001b[0mresult\u001b[0m\u001b[1;33m,\u001b[0m \u001b[0mname\u001b[0m\u001b[1;33m=\u001b[0m\u001b[0mres_name\u001b[0m\u001b[1;33m)\u001b[0m\u001b[1;33m\u001b[0m\u001b[1;33m\u001b[0m\u001b[0m\n",
      "\u001b[1;32m~\\AppData\\Roaming\\Python\\Python38\\site-packages\\pandas\\core\\ops\\array_ops.py\u001b[0m in \u001b[0;36marithmetic_op\u001b[1;34m(left, right, op)\u001b[0m\n\u001b[0;32m    216\u001b[0m         \u001b[1;31m# Timedelta/Timestamp and other custom scalars are included in the check\u001b[0m\u001b[1;33m\u001b[0m\u001b[1;33m\u001b[0m\u001b[1;33m\u001b[0m\u001b[0m\n\u001b[0;32m    217\u001b[0m         \u001b[1;31m# because numexpr will fail on it, see GH#31457\u001b[0m\u001b[1;33m\u001b[0m\u001b[1;33m\u001b[0m\u001b[1;33m\u001b[0m\u001b[0m\n\u001b[1;32m--> 218\u001b[1;33m         \u001b[0mres_values\u001b[0m \u001b[1;33m=\u001b[0m \u001b[0mop\u001b[0m\u001b[1;33m(\u001b[0m\u001b[0mleft\u001b[0m\u001b[1;33m,\u001b[0m \u001b[0mright\u001b[0m\u001b[1;33m)\u001b[0m\u001b[1;33m\u001b[0m\u001b[1;33m\u001b[0m\u001b[0m\n\u001b[0m\u001b[0;32m    219\u001b[0m     \u001b[1;32melse\u001b[0m\u001b[1;33m:\u001b[0m\u001b[1;33m\u001b[0m\u001b[1;33m\u001b[0m\u001b[0m\n\u001b[0;32m    220\u001b[0m         \u001b[1;31m# TODO we should handle EAs consistently and move this check before the if/else\u001b[0m\u001b[1;33m\u001b[0m\u001b[1;33m\u001b[0m\u001b[1;33m\u001b[0m\u001b[0m\n",
      "\u001b[1;32m~\\AppData\\Roaming\\Python\\Python38\\site-packages\\pandas\\core\\roperator.py\u001b[0m in \u001b[0;36mradd\u001b[1;34m(left, right)\u001b[0m\n\u001b[0;32m      7\u001b[0m \u001b[1;33m\u001b[0m\u001b[0m\n\u001b[0;32m      8\u001b[0m \u001b[1;32mdef\u001b[0m \u001b[0mradd\u001b[0m\u001b[1;33m(\u001b[0m\u001b[0mleft\u001b[0m\u001b[1;33m,\u001b[0m \u001b[0mright\u001b[0m\u001b[1;33m)\u001b[0m\u001b[1;33m:\u001b[0m\u001b[1;33m\u001b[0m\u001b[1;33m\u001b[0m\u001b[0m\n\u001b[1;32m----> 9\u001b[1;33m     \u001b[1;32mreturn\u001b[0m \u001b[0mright\u001b[0m \u001b[1;33m+\u001b[0m \u001b[0mleft\u001b[0m\u001b[1;33m\u001b[0m\u001b[1;33m\u001b[0m\u001b[0m\n\u001b[0m\u001b[0;32m     10\u001b[0m \u001b[1;33m\u001b[0m\u001b[0m\n\u001b[0;32m     11\u001b[0m \u001b[1;33m\u001b[0m\u001b[0m\n",
      "\u001b[1;31mTypeError\u001b[0m: can only concatenate str (not \"Categorical\") to str"
     ]
    },
    {
     "data": {
      "image/png": "[encoded data removed]",
      "text/plain": [
       "<Figure size 720x540 with 1 Axes>"
      ]
     },
     "metadata": {},
     "output_type": "display_data"
    }
   ],
   "source": [
    "fig, ax = plt.subplots(figsize=(8,6), dpi=90)\n",
    "\n",
    "plt.barh( '(' + top_10_players['Game'] + ') ' + top_10_players['CurrentHandle'], top_10_players['TotalUSDPrize'])\n",
    "\n",
    "\n",
    "for idx, val in enumerate(top_10_players['TotalUSDPrize']):\n",
    "    ax.text(val - 10 ** 5, idx - 0.1, str(round(val / 10 ** 6, 2)) + 'M', ha='right', fontsize=13, color='white',fontweight='bold')\n",
    "\n",
    "\n",
    "plt.title('Top 10 Player by Earnings', color='#843030', fontsize=15, fontweight='bold')\n",
    "plt.ylabel('(Game) Nick Name', color='#843030', fontsize=12, fontweight='bold')\n",
    "plt.xlabel('Earnings (in millions)',  color='#843030', fontsize=12, fontweight='bold')\n",
    "\n",
    "plt.show()"
   ]
  },
  {
   "cell_type": "markdown",
   "id": "d3316e63-84ef-4a4e-ba7f-330d58f5272e",
   "metadata": {},
   "source": [
    "# "
   ]
  },
  {
   "cell_type": "code",
   "execution_count": null,
   "id": "9c5142c1-4632-4d2d-af20-856f5d6b9a25",
   "metadata": {},
   "outputs": [],
   "source": []
  },
  {
   "cell_type": "code",
   "execution_count": null,
   "id": "f22af632-3fbe-4b83-aec4-bfdb7a61176f",
   "metadata": {},
   "outputs": [],
   "source": [
    "merge_data.head()"
   ]
  },
  {
   "cell_type": "code",
   "execution_count": null,
   "id": "c802cbe0-9c8b-4f57-806c-1eac657c043a",
   "metadata": {},
   "outputs": [],
   "source": [
    "earnings_by_country = merge_data.groupby('Continent_Name')['TotalUSDPrize'].sum()"
   ]
  },
  {
   "cell_type": "code",
   "execution_count": null,
   "id": "682b1b1c-4a91-459e-b23e-782377954deb",
   "metadata": {},
   "outputs": [],
   "source": [
    "earnings_by_country"
   ]
  },
  {
   "cell_type": "code",
   "execution_count": null,
   "id": "c87b928f-a0b0-4a70-be63-b23eebafc843",
   "metadata": {},
   "outputs": [],
   "source": [
    "fig, ax = plt.subplots(figsize=(5,4), dpi=100)\n",
    "fig.subplots_adjust(0.3, 0, 1, 1)\n",
    "\n",
    "plt.pie(earnings_by_country, labels=earnings_by_country.index, autopct='%.2f%%')\n",
    "\n",
    "plt.title('Earnings by Country', color='#843030', fontsize=14, fontweight='bold')\n",
    "\n",
    "\n",
    "plt.legend(loc='upper right',\n",
    "           labels=['{}: ${} millions'.format(name, round(val / 10 ** 6, 2)) for name, val in zip(earnings_by_country.index, earnings_by_country)],\n",
    "           bbox_to_anchor=(1.6,1),\n",
    "           bbox_transform=fig.transFigure)\n",
    "\n",
    "plt.show()"
   ]
  },
  {
   "cell_type": "markdown",
   "id": "2095ef8f-3a88-419e-bf05-75c83afee159",
   "metadata": {},
   "source": [
    "# "
   ]
  },
  {
   "cell_type": "markdown",
   "id": "abee0aa0-05fe-4cf5-bfe0-740ceed0260c",
   "metadata": {},
   "source": [
    "### What is the proportion of earnings per genre for the top 10 games in terms of both teams and players?"
   ]
  },
  {
   "cell_type": "code",
   "execution_count": null,
   "id": "6264f371-6080-4788-a691-472b6c13a0f7",
   "metadata": {},
   "outputs": [],
   "source": [
    "merge_data.head()"
   ]
  },
  {
   "cell_type": "code",
   "execution_count": null,
   "id": "1eed16ee-9c00-4bb0-876f-10e8e08f7d65",
   "metadata": {},
   "outputs": [],
   "source": [
    "teams.head()"
   ]
  },
  {
   "cell_type": "code",
   "execution_count": null,
   "id": "c9333002-9c44-4cd3-a837-de38401d9aa5",
   "metadata": {},
   "outputs": [],
   "source": []
  },
  {
   "cell_type": "code",
   "execution_count": null,
   "id": "211064af-a59c-4af3-94b0-ac894c8355bf",
   "metadata": {},
   "outputs": [],
   "source": [
    "teams_groupedby_genre = teams.groupby('Genre')['TotalUSDPrize'].sum()"
   ]
  },
  {
   "cell_type": "code",
   "execution_count": null,
   "id": "a5fc2b7e-b0b7-4d82-930b-c77bff6518b1",
   "metadata": {},
   "outputs": [],
   "source": [
    "teams_groupedby_genre"
   ]
  },
  {
   "cell_type": "code",
   "execution_count": null,
   "id": "0c0a0b2d-0b1f-454a-ac4a-1098b6c88ccd",
   "metadata": {},
   "outputs": [],
   "source": [
    "players_groupedby_genre = players.groupby('Genre')['TotalUSDPrize'].sum()"
   ]
  },
  {
   "cell_type": "code",
   "execution_count": null,
   "id": "25f43f3f-303c-48c8-a31b-f68e986a5fc7",
   "metadata": {},
   "outputs": [],
   "source": [
    "players_groupedby_genre"
   ]
  },
  {
   "cell_type": "code",
   "execution_count": null,
   "id": "9e443a82-7ee4-4862-9ea4-d25bb5a0a962",
   "metadata": {},
   "outputs": [],
   "source": [
    "total_earnings_by_genre = teams_groupedby_genre + players_groupedby_genre"
   ]
  },
  {
   "cell_type": "code",
   "execution_count": null,
   "id": "8ac4ac32-4f0a-436f-96e7-b2afe9a2eb6e",
   "metadata": {},
   "outputs": [],
   "source": [
    "total_earnings_by_genre"
   ]
  },
  {
   "cell_type": "code",
   "execution_count": null,
   "id": "69cb8e8c-14af-4149-8694-f73c0b7746eb",
   "metadata": {},
   "outputs": [],
   "source": [
    "for idx, row in enumerate(total_earnings_by_genre):\n",
    "    percent = str(round(row / total_earnings_by_genre.sum() * 100, 2)) + '%'\n",
    "    \n",
    "    if len(percent.split('.')[0]) == 2:\n",
    "        print('[{1}] {0}'.format(total_earnings_by_genre.index[idx], percent))\n",
    "    else:\n",
    "        print('[ {1}] {0}'.format(total_earnings_by_genre.index[idx], percent))"
   ]
  },
  {
   "cell_type": "markdown",
   "id": "2eaddc33-ef0e-41c4-93b8-b6e6fba4d41e",
   "metadata": {},
   "source": [
    "# "
   ]
  },
  {
   "cell_type": "markdown",
   "id": "9eb675e2-c675-48a2-a769-8a10951ec968",
   "metadata": {},
   "source": [
    "### Which game is most popular in terms of number of tournaments?"
   ]
  },
  {
   "cell_type": "code",
   "execution_count": null,
   "id": "444a861b-bbba-44e9-a383-fcaa3492c143",
   "metadata": {},
   "outputs": [],
   "source": [
    "teams.head()"
   ]
  },
  {
   "cell_type": "code",
   "execution_count": null,
   "id": "11f2e4c2-287d-4205-98b5-7412f1ad06aa",
   "metadata": {},
   "outputs": [],
   "source": [
    "most_popular_game = teams.groupby('Game')['TotalTournaments'].sum().sort_values(ascending=False)"
   ]
  },
  {
   "cell_type": "code",
   "execution_count": null,
   "id": "c1784d99-b4a7-41ff-9214-bb6109445c75",
   "metadata": {},
   "outputs": [],
   "source": [
    "most_popular_game.head(1)"
   ]
  },
  {
   "cell_type": "markdown",
   "id": "69562dd2-a662-45e6-b2e9-d5458259e8ee",
   "metadata": {},
   "source": [
    "# "
   ]
  },
  {
   "cell_type": "markdown",
   "id": "c119d172-bc5b-4c36-9598-98c2fd6b7532",
   "metadata": {},
   "source": [
    "### Best 3 Teams by Game"
   ]
  },
  {
   "cell_type": "code",
   "execution_count": null,
   "id": "83a78dc4-5877-4a0a-aa3e-bd443ce2421f",
   "metadata": {},
   "outputs": [],
   "source": [
    "teams.head()"
   ]
  },
  {
   "cell_type": "code",
   "execution_count": null,
   "id": "971afd93-34f4-4f40-b625-73c7ef6b68a9",
   "metadata": {},
   "outputs": [],
   "source": [
    "bestTeamsByGame = teams.loc[:, ['Game','TeamName','TotalUSDPrize']].sort_values(['Game','TotalUSDPrize'], ascending=[True,False]).groupby('Game').head(3)"
   ]
  },
  {
   "cell_type": "code",
   "execution_count": null,
   "id": "4bbac441-d54d-49f1-8a65-5beb029c8aca",
   "metadata": {},
   "outputs": [],
   "source": [
    "bestTeamsByGame"
   ]
  },
  {
   "cell_type": "code",
   "execution_count": null,
   "id": "4dd918c1-d1ed-4a3e-93b0-00a3933c1ef7",
   "metadata": {},
   "outputs": [],
   "source": [
    "bestTeamsByGame = bestTeamsByGame.sort_values(['Game','TotalUSDPrize'], ascending=[True, False])"
   ]
  },
  {
   "cell_type": "code",
   "execution_count": null,
   "id": "d6d6f6c4-3719-4378-b119-4c0f7168f1e0",
   "metadata": {},
   "outputs": [],
   "source": [
    "bestTeamsByGame"
   ]
  },
  {
   "cell_type": "code",
   "execution_count": null,
   "id": "b7cd2942-7abc-429b-8bbd-275574d34f0e",
   "metadata": {},
   "outputs": [],
   "source": []
  },
  {
   "cell_type": "code",
   "execution_count": null,
   "id": "03936f64-4286-4403-bba6-d597403a11a4",
   "metadata": {},
   "outputs": [],
   "source": [
    "merge_data"
   ]
  },
  {
   "cell_type": "code",
   "execution_count": null,
   "id": "5c03ac27-3356-4c81-bd7f-ab2f053e0d6d",
   "metadata": {},
   "outputs": [],
   "source": [
    "filtered = merge_data.loc[:, ['CurrentHandle', 'Continent_Name','TotalUSDPrize']]\n",
    "hightest_player_by_continent = filtered.sort_values(['Continent_Name', 'TotalUSDPrize'], ascending=[True, False]).groupby('Continent_Name').head(5)"
   ]
  },
  {
   "cell_type": "code",
   "execution_count": null,
   "id": "489fe1e0-ca21-4f74-b050-a16362837e70",
   "metadata": {},
   "outputs": [],
   "source": [
    "hightest_player_by_continent = hightest_player_by_continent.sort_values(['Continent_Name', 'TotalUSDPrize'], ascending=[False, True]).set_index('Continent_Name')"
   ]
  },
  {
   "cell_type": "code",
   "execution_count": null,
   "id": "00162f55-f61b-422a-a50f-a2a33a5485cc",
   "metadata": {},
   "outputs": [],
   "source": [
    "hightest_player_by_continent"
   ]
  }
 ],
 "metadata": {
  "kernelspec": {
   "display_name": "Python 3",
   "language": "python",
   "name": "python3"
  },
  "language_info": {
   "codemirror_mode": {
    "name": "ipython",
    "version": 3
   },
   "file_extension": ".py",
   "mimetype": "text/x-python",
   "name": "python",
   "nbconvert_exporter": "python",
   "pygments_lexer": "ipython3",
   "version": "3.8.8"
  }
 },
 "nbformat": 4,
 "nbformat_minor": 5
}
