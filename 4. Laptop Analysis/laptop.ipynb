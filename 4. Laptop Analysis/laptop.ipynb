{
 "cells": [
  {
   "cell_type": "markdown",
   "id": "e82af838-e463-4c5e-95ef-d2c0df5f90f8",
   "metadata": {},
   "source": [
    "# Laptops - Analysis"
   ]
  },
  {
   "cell_type": "markdown",
   "id": "ea260dd8-2539-4710-89ac-17629826a8cc",
   "metadata": {
    "tags": []
   },
   "source": [
    "## Library"
   ]
  },
  {
   "cell_type": "code",
   "execution_count": 1,
   "id": "9ada9389-e1c9-4c4e-b0af-21e60ee55bce",
   "metadata": {},
   "outputs": [],
   "source": [
    "import numpy as np\n",
    "import pandas as pd\n",
    "import matplotlib.pyplot as plt\n",
    "import re\n",
    "\n",
    "%matplotlib inline"
   ]
  },
  {
   "cell_type": "markdown",
   "id": "56b08377-978d-4dfa-b5f6-2bf5e3d7d031",
   "metadata": {},
   "source": [
    "#### Format"
   ]
  },
  {
   "cell_type": "code",
   "execution_count": 2,
   "id": "18ab93e3-4c66-49a5-b44e-628bf9098f2e",
   "metadata": {},
   "outputs": [],
   "source": [
    "pd.options.display.float_format = '{:,.2f}'.format"
   ]
  },
  {
   "cell_type": "code",
   "execution_count": 3,
   "id": "5c12d2f1-e06e-44ba-bb71-382a23e5e781",
   "metadata": {},
   "outputs": [],
   "source": [
    "format_bold = '\\033[1m'\n",
    "format_end = '\\033[0m'"
   ]
  },
  {
   "cell_type": "markdown",
   "id": "daf1ce4e-8dc0-440b-9cf9-7b96695baf83",
   "metadata": {
    "tags": []
   },
   "source": [
    "# "
   ]
  },
  {
   "cell_type": "markdown",
   "id": "3b662889-2152-4bcd-86e4-576a769b6dae",
   "metadata": {},
   "source": [
    "## Load the date"
   ]
  },
  {
   "cell_type": "code",
   "execution_count": 4,
   "id": "f8886eee-a4a8-4c3a-8ad7-dc9d9bdf4438",
   "metadata": {},
   "outputs": [],
   "source": [
    "# https://www.kaggle.com/muhammetvarl/laptop-price\n",
    "\n",
    "path = '../Datasets/Laptop Prices/laptops.csv'"
   ]
  },
  {
   "cell_type": "code",
   "execution_count": 5,
   "id": "3a8c0219-2b21-44aa-aca1-47d79a54b648",
   "metadata": {},
   "outputs": [],
   "source": [
    "df = pd.read_csv(path, encoding='latin-1')"
   ]
  },
  {
   "cell_type": "markdown",
   "id": "4d77c424-bd27-46a3-931b-2a510a64f0eb",
   "metadata": {},
   "source": [
    "# "
   ]
  },
  {
   "cell_type": "markdown",
   "id": "f8f53d9e-3dc5-4531-9025-0a0c0df33db3",
   "metadata": {},
   "source": [
    "## Let's take a look"
   ]
  },
  {
   "cell_type": "code",
   "execution_count": 6,
   "id": "9dec2746-276c-4dec-94d0-8f092e4bc197",
   "metadata": {},
   "outputs": [
    {
     "data": {
      "text/html": [
       "<div>\n",
       "<style scoped>\n",
       "    .dataframe tbody tr th:only-of-type {\n",
       "        vertical-align: middle;\n",
       "    }\n",
       "\n",
       "    .dataframe tbody tr th {\n",
       "        vertical-align: top;\n",
       "    }\n",
       "\n",
       "    .dataframe thead th {\n",
       "        text-align: right;\n",
       "    }\n",
       "</style>\n",
       "<table border=\"1\" class=\"dataframe\">\n",
       "  <thead>\n",
       "    <tr style=\"text-align: right;\">\n",
       "      <th></th>\n",
       "      <th>Unnamed: 0</th>\n",
       "      <th>Company</th>\n",
       "      <th>Product</th>\n",
       "      <th>TypeName</th>\n",
       "      <th>Inches</th>\n",
       "      <th>ScreenResolution</th>\n",
       "      <th>Cpu</th>\n",
       "      <th>Ram</th>\n",
       "      <th>Memory</th>\n",
       "      <th>Gpu</th>\n",
       "      <th>OpSys</th>\n",
       "      <th>Weight</th>\n",
       "      <th>Price_euros</th>\n",
       "    </tr>\n",
       "  </thead>\n",
       "  <tbody>\n",
       "    <tr>\n",
       "      <th>0</th>\n",
       "      <td>1</td>\n",
       "      <td>Apple</td>\n",
       "      <td>MacBook Pro</td>\n",
       "      <td>Ultrabook</td>\n",
       "      <td>13.30</td>\n",
       "      <td>IPS Panel Retina Display 2560x1600</td>\n",
       "      <td>Intel Core i5 2.3GHz</td>\n",
       "      <td>8GB</td>\n",
       "      <td>128GB SSD</td>\n",
       "      <td>Intel Iris Plus Graphics 640</td>\n",
       "      <td>macOS</td>\n",
       "      <td>1.37kg</td>\n",
       "      <td>1,339.69</td>\n",
       "    </tr>\n",
       "    <tr>\n",
       "      <th>1</th>\n",
       "      <td>2</td>\n",
       "      <td>Apple</td>\n",
       "      <td>Macbook Air</td>\n",
       "      <td>Ultrabook</td>\n",
       "      <td>13.30</td>\n",
       "      <td>1440x900</td>\n",
       "      <td>Intel Core i5 1.8GHz</td>\n",
       "      <td>8GB</td>\n",
       "      <td>128GB Flash Storage</td>\n",
       "      <td>Intel HD Graphics 6000</td>\n",
       "      <td>macOS</td>\n",
       "      <td>1.34kg</td>\n",
       "      <td>898.94</td>\n",
       "    </tr>\n",
       "    <tr>\n",
       "      <th>2</th>\n",
       "      <td>3</td>\n",
       "      <td>HP</td>\n",
       "      <td>250 G6</td>\n",
       "      <td>Notebook</td>\n",
       "      <td>15.60</td>\n",
       "      <td>Full HD 1920x1080</td>\n",
       "      <td>Intel Core i5 7200U 2.5GHz</td>\n",
       "      <td>8GB</td>\n",
       "      <td>256GB SSD</td>\n",
       "      <td>Intel HD Graphics 620</td>\n",
       "      <td>No OS</td>\n",
       "      <td>1.86kg</td>\n",
       "      <td>575.00</td>\n",
       "    </tr>\n",
       "    <tr>\n",
       "      <th>3</th>\n",
       "      <td>4</td>\n",
       "      <td>Apple</td>\n",
       "      <td>MacBook Pro</td>\n",
       "      <td>Ultrabook</td>\n",
       "      <td>15.40</td>\n",
       "      <td>IPS Panel Retina Display 2880x1800</td>\n",
       "      <td>Intel Core i7 2.7GHz</td>\n",
       "      <td>16GB</td>\n",
       "      <td>512GB SSD</td>\n",
       "      <td>AMD Radeon Pro 455</td>\n",
       "      <td>macOS</td>\n",
       "      <td>1.83kg</td>\n",
       "      <td>2,537.45</td>\n",
       "    </tr>\n",
       "    <tr>\n",
       "      <th>4</th>\n",
       "      <td>5</td>\n",
       "      <td>Apple</td>\n",
       "      <td>MacBook Pro</td>\n",
       "      <td>Ultrabook</td>\n",
       "      <td>13.30</td>\n",
       "      <td>IPS Panel Retina Display 2560x1600</td>\n",
       "      <td>Intel Core i5 3.1GHz</td>\n",
       "      <td>8GB</td>\n",
       "      <td>256GB SSD</td>\n",
       "      <td>Intel Iris Plus Graphics 650</td>\n",
       "      <td>macOS</td>\n",
       "      <td>1.37kg</td>\n",
       "      <td>1,803.60</td>\n",
       "    </tr>\n",
       "  </tbody>\n",
       "</table>\n",
       "</div>"
      ],
      "text/plain": [
       "   Unnamed: 0 Company      Product   TypeName  Inches  \\\n",
       "0           1   Apple  MacBook Pro  Ultrabook   13.30   \n",
       "1           2   Apple  Macbook Air  Ultrabook   13.30   \n",
       "2           3      HP       250 G6   Notebook   15.60   \n",
       "3           4   Apple  MacBook Pro  Ultrabook   15.40   \n",
       "4           5   Apple  MacBook Pro  Ultrabook   13.30   \n",
       "\n",
       "                     ScreenResolution                         Cpu   Ram  \\\n",
       "0  IPS Panel Retina Display 2560x1600        Intel Core i5 2.3GHz   8GB   \n",
       "1                            1440x900        Intel Core i5 1.8GHz   8GB   \n",
       "2                   Full HD 1920x1080  Intel Core i5 7200U 2.5GHz   8GB   \n",
       "3  IPS Panel Retina Display 2880x1800        Intel Core i7 2.7GHz  16GB   \n",
       "4  IPS Panel Retina Display 2560x1600        Intel Core i5 3.1GHz   8GB   \n",
       "\n",
       "                Memory                           Gpu  OpSys  Weight  \\\n",
       "0            128GB SSD  Intel Iris Plus Graphics 640  macOS  1.37kg   \n",
       "1  128GB Flash Storage        Intel HD Graphics 6000  macOS  1.34kg   \n",
       "2            256GB SSD         Intel HD Graphics 620  No OS  1.86kg   \n",
       "3            512GB SSD            AMD Radeon Pro 455  macOS  1.83kg   \n",
       "4            256GB SSD  Intel Iris Plus Graphics 650  macOS  1.37kg   \n",
       "\n",
       "   Price_euros  \n",
       "0     1,339.69  \n",
       "1       898.94  \n",
       "2       575.00  \n",
       "3     2,537.45  \n",
       "4     1,803.60  "
      ]
     },
     "execution_count": 6,
     "metadata": {},
     "output_type": "execute_result"
    }
   ],
   "source": [
    "df.head()"
   ]
  },
  {
   "cell_type": "code",
   "execution_count": 7,
   "id": "93b8f956-264a-4748-ba2d-6c2c71b2ea36",
   "metadata": {},
   "outputs": [
    {
     "name": "stdout",
     "output_type": "stream",
     "text": [
      "<class 'pandas.core.frame.DataFrame'>\n",
      "RangeIndex: 1303 entries, 0 to 1302\n",
      "Data columns (total 13 columns):\n",
      " #   Column            Non-Null Count  Dtype  \n",
      "---  ------            --------------  -----  \n",
      " 0   Unnamed: 0        1303 non-null   int64  \n",
      " 1   Company           1303 non-null   object \n",
      " 2   Product           1303 non-null   object \n",
      " 3   TypeName          1303 non-null   object \n",
      " 4   Inches            1303 non-null   float64\n",
      " 5   ScreenResolution  1303 non-null   object \n",
      " 6   Cpu               1303 non-null   object \n",
      " 7   Ram               1303 non-null   object \n",
      " 8   Memory            1303 non-null   object \n",
      " 9   Gpu               1303 non-null   object \n",
      " 10  OpSys             1303 non-null   object \n",
      " 11  Weight            1303 non-null   object \n",
      " 12  Price_euros       1303 non-null   float64\n",
      "dtypes: float64(2), int64(1), object(10)\n",
      "memory usage: 914.6 KB\n"
     ]
    }
   ],
   "source": [
    "df.info(memory_usage='deep')"
   ]
  },
  {
   "cell_type": "code",
   "execution_count": 8,
   "id": "ade54ec2-bc50-41cf-b4b4-27bbb7c27620",
   "metadata": {},
   "outputs": [
    {
     "data": {
      "text/html": [
       "<div>\n",
       "<style scoped>\n",
       "    .dataframe tbody tr th:only-of-type {\n",
       "        vertical-align: middle;\n",
       "    }\n",
       "\n",
       "    .dataframe tbody tr th {\n",
       "        vertical-align: top;\n",
       "    }\n",
       "\n",
       "    .dataframe thead th {\n",
       "        text-align: right;\n",
       "    }\n",
       "</style>\n",
       "<table border=\"1\" class=\"dataframe\">\n",
       "  <thead>\n",
       "    <tr style=\"text-align: right;\">\n",
       "      <th></th>\n",
       "      <th>Company</th>\n",
       "      <th>Product</th>\n",
       "      <th>TypeName</th>\n",
       "      <th>ScreenResolution</th>\n",
       "      <th>Cpu</th>\n",
       "      <th>Ram</th>\n",
       "      <th>Memory</th>\n",
       "      <th>Gpu</th>\n",
       "      <th>OpSys</th>\n",
       "      <th>Weight</th>\n",
       "    </tr>\n",
       "  </thead>\n",
       "  <tbody>\n",
       "    <tr>\n",
       "      <th>count</th>\n",
       "      <td>1303</td>\n",
       "      <td>1303</td>\n",
       "      <td>1303</td>\n",
       "      <td>1303</td>\n",
       "      <td>1303</td>\n",
       "      <td>1303</td>\n",
       "      <td>1303</td>\n",
       "      <td>1303</td>\n",
       "      <td>1303</td>\n",
       "      <td>1303</td>\n",
       "    </tr>\n",
       "    <tr>\n",
       "      <th>unique</th>\n",
       "      <td>19</td>\n",
       "      <td>618</td>\n",
       "      <td>6</td>\n",
       "      <td>40</td>\n",
       "      <td>118</td>\n",
       "      <td>9</td>\n",
       "      <td>39</td>\n",
       "      <td>110</td>\n",
       "      <td>9</td>\n",
       "      <td>179</td>\n",
       "    </tr>\n",
       "    <tr>\n",
       "      <th>top</th>\n",
       "      <td>Dell</td>\n",
       "      <td>XPS 13</td>\n",
       "      <td>Notebook</td>\n",
       "      <td>Full HD 1920x1080</td>\n",
       "      <td>Intel Core i5 7200U 2.5GHz</td>\n",
       "      <td>8GB</td>\n",
       "      <td>256GB SSD</td>\n",
       "      <td>Intel HD Graphics 620</td>\n",
       "      <td>Windows 10</td>\n",
       "      <td>2.2kg</td>\n",
       "    </tr>\n",
       "    <tr>\n",
       "      <th>freq</th>\n",
       "      <td>297</td>\n",
       "      <td>30</td>\n",
       "      <td>727</td>\n",
       "      <td>507</td>\n",
       "      <td>190</td>\n",
       "      <td>619</td>\n",
       "      <td>412</td>\n",
       "      <td>281</td>\n",
       "      <td>1072</td>\n",
       "      <td>121</td>\n",
       "    </tr>\n",
       "  </tbody>\n",
       "</table>\n",
       "</div>"
      ],
      "text/plain": [
       "       Company Product  TypeName   ScreenResolution  \\\n",
       "count     1303    1303      1303               1303   \n",
       "unique      19     618         6                 40   \n",
       "top       Dell  XPS 13  Notebook  Full HD 1920x1080   \n",
       "freq       297      30       727                507   \n",
       "\n",
       "                               Cpu   Ram     Memory                    Gpu  \\\n",
       "count                         1303  1303       1303                   1303   \n",
       "unique                         118     9         39                    110   \n",
       "top     Intel Core i5 7200U 2.5GHz   8GB  256GB SSD  Intel HD Graphics 620   \n",
       "freq                           190   619        412                    281   \n",
       "\n",
       "             OpSys Weight  \n",
       "count         1303   1303  \n",
       "unique           9    179  \n",
       "top     Windows 10  2.2kg  \n",
       "freq          1072    121  "
      ]
     },
     "execution_count": 8,
     "metadata": {},
     "output_type": "execute_result"
    }
   ],
   "source": [
    "df.select_dtypes(include=['object']).describe()"
   ]
  },
  {
   "cell_type": "code",
   "execution_count": 9,
   "id": "ce64447f-3094-4331-8c38-aadf5940006a",
   "metadata": {},
   "outputs": [
    {
     "data": {
      "text/html": [
       "<div>\n",
       "<style scoped>\n",
       "    .dataframe tbody tr th:only-of-type {\n",
       "        vertical-align: middle;\n",
       "    }\n",
       "\n",
       "    .dataframe tbody tr th {\n",
       "        vertical-align: top;\n",
       "    }\n",
       "\n",
       "    .dataframe thead th {\n",
       "        text-align: right;\n",
       "    }\n",
       "</style>\n",
       "<table border=\"1\" class=\"dataframe\">\n",
       "  <thead>\n",
       "    <tr style=\"text-align: right;\">\n",
       "      <th></th>\n",
       "      <th>Unnamed: 0</th>\n",
       "      <th>Inches</th>\n",
       "      <th>Price_euros</th>\n",
       "    </tr>\n",
       "  </thead>\n",
       "  <tbody>\n",
       "    <tr>\n",
       "      <th>count</th>\n",
       "      <td>1,303.00</td>\n",
       "      <td>1,303.00</td>\n",
       "      <td>1,303.00</td>\n",
       "    </tr>\n",
       "    <tr>\n",
       "      <th>mean</th>\n",
       "      <td>660.16</td>\n",
       "      <td>15.02</td>\n",
       "      <td>1,123.69</td>\n",
       "    </tr>\n",
       "    <tr>\n",
       "      <th>std</th>\n",
       "      <td>381.17</td>\n",
       "      <td>1.43</td>\n",
       "      <td>699.01</td>\n",
       "    </tr>\n",
       "    <tr>\n",
       "      <th>min</th>\n",
       "      <td>1.00</td>\n",
       "      <td>10.10</td>\n",
       "      <td>174.00</td>\n",
       "    </tr>\n",
       "    <tr>\n",
       "      <th>25%</th>\n",
       "      <td>331.50</td>\n",
       "      <td>14.00</td>\n",
       "      <td>599.00</td>\n",
       "    </tr>\n",
       "    <tr>\n",
       "      <th>50%</th>\n",
       "      <td>659.00</td>\n",
       "      <td>15.60</td>\n",
       "      <td>977.00</td>\n",
       "    </tr>\n",
       "    <tr>\n",
       "      <th>75%</th>\n",
       "      <td>990.50</td>\n",
       "      <td>15.60</td>\n",
       "      <td>1,487.88</td>\n",
       "    </tr>\n",
       "    <tr>\n",
       "      <th>max</th>\n",
       "      <td>1,320.00</td>\n",
       "      <td>18.40</td>\n",
       "      <td>6,099.00</td>\n",
       "    </tr>\n",
       "  </tbody>\n",
       "</table>\n",
       "</div>"
      ],
      "text/plain": [
       "       Unnamed: 0   Inches  Price_euros\n",
       "count    1,303.00 1,303.00     1,303.00\n",
       "mean       660.16    15.02     1,123.69\n",
       "std        381.17     1.43       699.01\n",
       "min          1.00    10.10       174.00\n",
       "25%        331.50    14.00       599.00\n",
       "50%        659.00    15.60       977.00\n",
       "75%        990.50    15.60     1,487.88\n",
       "max      1,320.00    18.40     6,099.00"
      ]
     },
     "execution_count": 9,
     "metadata": {},
     "output_type": "execute_result"
    }
   ],
   "source": [
    "df.select_dtypes(exclude=['object']).describe()"
   ]
  },
  {
   "cell_type": "markdown",
   "id": "e3d3942a-8e5f-4a6d-af97-6a0f3f0b021b",
   "metadata": {},
   "source": [
    "# "
   ]
  },
  {
   "cell_type": "markdown",
   "id": "c90d0e8f-76f8-4f30-b372-f98085cf701d",
   "metadata": {},
   "source": [
    "## Data Cleaning"
   ]
  },
  {
   "cell_type": "code",
   "execution_count": 10,
   "id": "793c1ec9-c8f0-4e13-af40-46b87d76fd86",
   "metadata": {},
   "outputs": [],
   "source": [
    "# removing the unnamed/index column\n",
    "\n",
    "df.drop(columns='Unnamed: 0', inplace=True)"
   ]
  },
  {
   "cell_type": "code",
   "execution_count": 11,
   "id": "9a12a306-f45f-45b1-b2fc-28134d714683",
   "metadata": {},
   "outputs": [
    {
     "data": {
      "text/html": [
       "<div>\n",
       "<style scoped>\n",
       "    .dataframe tbody tr th:only-of-type {\n",
       "        vertical-align: middle;\n",
       "    }\n",
       "\n",
       "    .dataframe tbody tr th {\n",
       "        vertical-align: top;\n",
       "    }\n",
       "\n",
       "    .dataframe thead th {\n",
       "        text-align: right;\n",
       "    }\n",
       "</style>\n",
       "<table border=\"1\" class=\"dataframe\">\n",
       "  <thead>\n",
       "    <tr style=\"text-align: right;\">\n",
       "      <th></th>\n",
       "      <th>Company</th>\n",
       "      <th>Product</th>\n",
       "      <th>TypeName</th>\n",
       "      <th>Inches</th>\n",
       "      <th>ScreenResolution</th>\n",
       "      <th>Cpu</th>\n",
       "      <th>Ram</th>\n",
       "      <th>Memory</th>\n",
       "      <th>Gpu</th>\n",
       "      <th>OpSys</th>\n",
       "      <th>Weight</th>\n",
       "      <th>Price_euros</th>\n",
       "    </tr>\n",
       "  </thead>\n",
       "  <tbody>\n",
       "    <tr>\n",
       "      <th>0</th>\n",
       "      <td>Apple</td>\n",
       "      <td>MacBook Pro</td>\n",
       "      <td>Ultrabook</td>\n",
       "      <td>13.30</td>\n",
       "      <td>IPS Panel Retina Display 2560x1600</td>\n",
       "      <td>Intel Core i5 2.3GHz</td>\n",
       "      <td>8GB</td>\n",
       "      <td>128GB SSD</td>\n",
       "      <td>Intel Iris Plus Graphics 640</td>\n",
       "      <td>macOS</td>\n",
       "      <td>1.37kg</td>\n",
       "      <td>1,339.69</td>\n",
       "    </tr>\n",
       "    <tr>\n",
       "      <th>1</th>\n",
       "      <td>Apple</td>\n",
       "      <td>Macbook Air</td>\n",
       "      <td>Ultrabook</td>\n",
       "      <td>13.30</td>\n",
       "      <td>1440x900</td>\n",
       "      <td>Intel Core i5 1.8GHz</td>\n",
       "      <td>8GB</td>\n",
       "      <td>128GB Flash Storage</td>\n",
       "      <td>Intel HD Graphics 6000</td>\n",
       "      <td>macOS</td>\n",
       "      <td>1.34kg</td>\n",
       "      <td>898.94</td>\n",
       "    </tr>\n",
       "    <tr>\n",
       "      <th>2</th>\n",
       "      <td>HP</td>\n",
       "      <td>250 G6</td>\n",
       "      <td>Notebook</td>\n",
       "      <td>15.60</td>\n",
       "      <td>Full HD 1920x1080</td>\n",
       "      <td>Intel Core i5 7200U 2.5GHz</td>\n",
       "      <td>8GB</td>\n",
       "      <td>256GB SSD</td>\n",
       "      <td>Intel HD Graphics 620</td>\n",
       "      <td>No OS</td>\n",
       "      <td>1.86kg</td>\n",
       "      <td>575.00</td>\n",
       "    </tr>\n",
       "    <tr>\n",
       "      <th>3</th>\n",
       "      <td>Apple</td>\n",
       "      <td>MacBook Pro</td>\n",
       "      <td>Ultrabook</td>\n",
       "      <td>15.40</td>\n",
       "      <td>IPS Panel Retina Display 2880x1800</td>\n",
       "      <td>Intel Core i7 2.7GHz</td>\n",
       "      <td>16GB</td>\n",
       "      <td>512GB SSD</td>\n",
       "      <td>AMD Radeon Pro 455</td>\n",
       "      <td>macOS</td>\n",
       "      <td>1.83kg</td>\n",
       "      <td>2,537.45</td>\n",
       "    </tr>\n",
       "    <tr>\n",
       "      <th>4</th>\n",
       "      <td>Apple</td>\n",
       "      <td>MacBook Pro</td>\n",
       "      <td>Ultrabook</td>\n",
       "      <td>13.30</td>\n",
       "      <td>IPS Panel Retina Display 2560x1600</td>\n",
       "      <td>Intel Core i5 3.1GHz</td>\n",
       "      <td>8GB</td>\n",
       "      <td>256GB SSD</td>\n",
       "      <td>Intel Iris Plus Graphics 650</td>\n",
       "      <td>macOS</td>\n",
       "      <td>1.37kg</td>\n",
       "      <td>1,803.60</td>\n",
       "    </tr>\n",
       "  </tbody>\n",
       "</table>\n",
       "</div>"
      ],
      "text/plain": [
       "  Company      Product   TypeName  Inches                    ScreenResolution  \\\n",
       "0   Apple  MacBook Pro  Ultrabook   13.30  IPS Panel Retina Display 2560x1600   \n",
       "1   Apple  Macbook Air  Ultrabook   13.30                            1440x900   \n",
       "2      HP       250 G6   Notebook   15.60                   Full HD 1920x1080   \n",
       "3   Apple  MacBook Pro  Ultrabook   15.40  IPS Panel Retina Display 2880x1800   \n",
       "4   Apple  MacBook Pro  Ultrabook   13.30  IPS Panel Retina Display 2560x1600   \n",
       "\n",
       "                          Cpu   Ram               Memory  \\\n",
       "0        Intel Core i5 2.3GHz   8GB            128GB SSD   \n",
       "1        Intel Core i5 1.8GHz   8GB  128GB Flash Storage   \n",
       "2  Intel Core i5 7200U 2.5GHz   8GB            256GB SSD   \n",
       "3        Intel Core i7 2.7GHz  16GB            512GB SSD   \n",
       "4        Intel Core i5 3.1GHz   8GB            256GB SSD   \n",
       "\n",
       "                            Gpu  OpSys  Weight  Price_euros  \n",
       "0  Intel Iris Plus Graphics 640  macOS  1.37kg     1,339.69  \n",
       "1        Intel HD Graphics 6000  macOS  1.34kg       898.94  \n",
       "2         Intel HD Graphics 620  No OS  1.86kg       575.00  \n",
       "3            AMD Radeon Pro 455  macOS  1.83kg     2,537.45  \n",
       "4  Intel Iris Plus Graphics 650  macOS  1.37kg     1,803.60  "
      ]
     },
     "execution_count": 11,
     "metadata": {},
     "output_type": "execute_result"
    }
   ],
   "source": [
    "df.head()"
   ]
  },
  {
   "cell_type": "code",
   "execution_count": 12,
   "id": "aecfdd54-e95f-42f5-afde-a3977d4ac372",
   "metadata": {},
   "outputs": [
    {
     "data": {
      "text/plain": [
       "Company             0\n",
       "Product             0\n",
       "TypeName            0\n",
       "Inches              0\n",
       "ScreenResolution    0\n",
       "Cpu                 0\n",
       "Ram                 0\n",
       "Memory              0\n",
       "Gpu                 0\n",
       "OpSys               0\n",
       "Weight              0\n",
       "Price_euros         0\n",
       "dtype: int64"
      ]
     },
     "execution_count": 12,
     "metadata": {},
     "output_type": "execute_result"
    }
   ],
   "source": [
    "# checking for missing values\n",
    "\n",
    "df.isna().sum()"
   ]
  },
  {
   "cell_type": "code",
   "execution_count": 13,
   "id": "341ac216-cb83-496d-8602-c3c748e5b2f0",
   "metadata": {},
   "outputs": [
    {
     "data": {
      "text/plain": [
       "28"
      ]
     },
     "execution_count": 13,
     "metadata": {},
     "output_type": "execute_result"
    }
   ],
   "source": [
    "# the number of duplicated rows\n",
    "\n",
    "df.duplicated().sum()"
   ]
  },
  {
   "cell_type": "code",
   "execution_count": 14,
   "id": "6891f633-8e4d-4f09-a021-b0742733447e",
   "metadata": {},
   "outputs": [
    {
     "data": {
      "text/html": [
       "<div>\n",
       "<style scoped>\n",
       "    .dataframe tbody tr th:only-of-type {\n",
       "        vertical-align: middle;\n",
       "    }\n",
       "\n",
       "    .dataframe tbody tr th {\n",
       "        vertical-align: top;\n",
       "    }\n",
       "\n",
       "    .dataframe thead th {\n",
       "        text-align: right;\n",
       "    }\n",
       "</style>\n",
       "<table border=\"1\" class=\"dataframe\">\n",
       "  <thead>\n",
       "    <tr style=\"text-align: right;\">\n",
       "      <th></th>\n",
       "      <th>Company</th>\n",
       "      <th>Product</th>\n",
       "      <th>TypeName</th>\n",
       "      <th>Inches</th>\n",
       "      <th>ScreenResolution</th>\n",
       "      <th>Cpu</th>\n",
       "      <th>Ram</th>\n",
       "      <th>Memory</th>\n",
       "      <th>Gpu</th>\n",
       "      <th>OpSys</th>\n",
       "      <th>Weight</th>\n",
       "      <th>Price_euros</th>\n",
       "    </tr>\n",
       "  </thead>\n",
       "  <tbody>\n",
       "    <tr>\n",
       "      <th>1263</th>\n",
       "      <td>Acer</td>\n",
       "      <td>Aspire ES1-531</td>\n",
       "      <td>Notebook</td>\n",
       "      <td>15.60</td>\n",
       "      <td>1366x768</td>\n",
       "      <td>Intel Celeron Dual Core N3060 1.6GHz</td>\n",
       "      <td>4GB</td>\n",
       "      <td>500GB HDD</td>\n",
       "      <td>Intel HD Graphics 400</td>\n",
       "      <td>Linux</td>\n",
       "      <td>2.4kg</td>\n",
       "      <td>289.00</td>\n",
       "    </tr>\n",
       "    <tr>\n",
       "      <th>1277</th>\n",
       "      <td>Acer</td>\n",
       "      <td>Aspire ES1-531</td>\n",
       "      <td>Notebook</td>\n",
       "      <td>15.60</td>\n",
       "      <td>1366x768</td>\n",
       "      <td>Intel Celeron Dual Core N3060 1.6GHz</td>\n",
       "      <td>4GB</td>\n",
       "      <td>500GB HDD</td>\n",
       "      <td>Intel HD Graphics 400</td>\n",
       "      <td>Linux</td>\n",
       "      <td>2.4kg</td>\n",
       "      <td>289.00</td>\n",
       "    </tr>\n",
       "    <tr>\n",
       "      <th>1291</th>\n",
       "      <td>Acer</td>\n",
       "      <td>Aspire ES1-531</td>\n",
       "      <td>Notebook</td>\n",
       "      <td>15.60</td>\n",
       "      <td>1366x768</td>\n",
       "      <td>Intel Celeron Dual Core N3060 1.6GHz</td>\n",
       "      <td>4GB</td>\n",
       "      <td>500GB HDD</td>\n",
       "      <td>Intel HD Graphics 400</td>\n",
       "      <td>Linux</td>\n",
       "      <td>2.4kg</td>\n",
       "      <td>289.00</td>\n",
       "    </tr>\n",
       "    <tr>\n",
       "      <th>1274</th>\n",
       "      <td>Asus</td>\n",
       "      <td>X553SA-XX031T (N3050/4GB/500GB/W10)</td>\n",
       "      <td>Notebook</td>\n",
       "      <td>15.60</td>\n",
       "      <td>1366x768</td>\n",
       "      <td>Intel Celeron Dual Core N3050 1.6GHz</td>\n",
       "      <td>4GB</td>\n",
       "      <td>500GB HDD</td>\n",
       "      <td>Intel HD Graphics</td>\n",
       "      <td>Windows 10</td>\n",
       "      <td>2.2kg</td>\n",
       "      <td>369.00</td>\n",
       "    </tr>\n",
       "    <tr>\n",
       "      <th>1288</th>\n",
       "      <td>Asus</td>\n",
       "      <td>X553SA-XX031T (N3050/4GB/500GB/W10)</td>\n",
       "      <td>Notebook</td>\n",
       "      <td>15.60</td>\n",
       "      <td>1366x768</td>\n",
       "      <td>Intel Celeron Dual Core N3050 1.6GHz</td>\n",
       "      <td>4GB</td>\n",
       "      <td>500GB HDD</td>\n",
       "      <td>Intel HD Graphics</td>\n",
       "      <td>Windows 10</td>\n",
       "      <td>2.2kg</td>\n",
       "      <td>369.00</td>\n",
       "    </tr>\n",
       "    <tr>\n",
       "      <th>1302</th>\n",
       "      <td>Asus</td>\n",
       "      <td>X553SA-XX031T (N3050/4GB/500GB/W10)</td>\n",
       "      <td>Notebook</td>\n",
       "      <td>15.60</td>\n",
       "      <td>1366x768</td>\n",
       "      <td>Intel Celeron Dual Core N3050 1.6GHz</td>\n",
       "      <td>4GB</td>\n",
       "      <td>500GB HDD</td>\n",
       "      <td>Intel HD Graphics</td>\n",
       "      <td>Windows 10</td>\n",
       "      <td>2.2kg</td>\n",
       "      <td>369.00</td>\n",
       "    </tr>\n",
       "    <tr>\n",
       "      <th>1269</th>\n",
       "      <td>Asus</td>\n",
       "      <td>X556UJ-XO044T (i7-6500U/4GB/500GB/GeForce</td>\n",
       "      <td>Notebook</td>\n",
       "      <td>15.60</td>\n",
       "      <td>1366x768</td>\n",
       "      <td>Intel Core i7 6500U 2.5GHz</td>\n",
       "      <td>4GB</td>\n",
       "      <td>500GB HDD</td>\n",
       "      <td>Nvidia GeForce 920M</td>\n",
       "      <td>Windows 10</td>\n",
       "      <td>2.2kg</td>\n",
       "      <td>720.32</td>\n",
       "    </tr>\n",
       "    <tr>\n",
       "      <th>1283</th>\n",
       "      <td>Asus</td>\n",
       "      <td>X556UJ-XO044T (i7-6500U/4GB/500GB/GeForce</td>\n",
       "      <td>Notebook</td>\n",
       "      <td>15.60</td>\n",
       "      <td>1366x768</td>\n",
       "      <td>Intel Core i7 6500U 2.5GHz</td>\n",
       "      <td>4GB</td>\n",
       "      <td>500GB HDD</td>\n",
       "      <td>Nvidia GeForce 920M</td>\n",
       "      <td>Windows 10</td>\n",
       "      <td>2.2kg</td>\n",
       "      <td>720.32</td>\n",
       "    </tr>\n",
       "    <tr>\n",
       "      <th>1297</th>\n",
       "      <td>Asus</td>\n",
       "      <td>X556UJ-XO044T (i7-6500U/4GB/500GB/GeForce</td>\n",
       "      <td>Notebook</td>\n",
       "      <td>15.60</td>\n",
       "      <td>1366x768</td>\n",
       "      <td>Intel Core i7 6500U 2.5GHz</td>\n",
       "      <td>4GB</td>\n",
       "      <td>500GB HDD</td>\n",
       "      <td>Nvidia GeForce 920M</td>\n",
       "      <td>Windows 10</td>\n",
       "      <td>2.2kg</td>\n",
       "      <td>720.32</td>\n",
       "    </tr>\n",
       "    <tr>\n",
       "      <th>1261</th>\n",
       "      <td>Asus</td>\n",
       "      <td>ZenBook UX305CA-UBM1</td>\n",
       "      <td>Ultrabook</td>\n",
       "      <td>13.30</td>\n",
       "      <td>IPS Panel Full HD 1920x1080</td>\n",
       "      <td>Intel Core M 6Y30 0.9GHz</td>\n",
       "      <td>8GB</td>\n",
       "      <td>512GB SSD</td>\n",
       "      <td>Intel HD Graphics 515</td>\n",
       "      <td>Windows 10</td>\n",
       "      <td>1.2kg</td>\n",
       "      <td>729.00</td>\n",
       "    </tr>\n",
       "  </tbody>\n",
       "</table>\n",
       "</div>"
      ],
      "text/plain": [
       "     Company                                    Product   TypeName  Inches  \\\n",
       "1263    Acer                             Aspire ES1-531   Notebook   15.60   \n",
       "1277    Acer                             Aspire ES1-531   Notebook   15.60   \n",
       "1291    Acer                             Aspire ES1-531   Notebook   15.60   \n",
       "1274    Asus        X553SA-XX031T (N3050/4GB/500GB/W10)   Notebook   15.60   \n",
       "1288    Asus        X553SA-XX031T (N3050/4GB/500GB/W10)   Notebook   15.60   \n",
       "1302    Asus        X553SA-XX031T (N3050/4GB/500GB/W10)   Notebook   15.60   \n",
       "1269    Asus  X556UJ-XO044T (i7-6500U/4GB/500GB/GeForce   Notebook   15.60   \n",
       "1283    Asus  X556UJ-XO044T (i7-6500U/4GB/500GB/GeForce   Notebook   15.60   \n",
       "1297    Asus  X556UJ-XO044T (i7-6500U/4GB/500GB/GeForce   Notebook   15.60   \n",
       "1261    Asus                       ZenBook UX305CA-UBM1  Ultrabook   13.30   \n",
       "\n",
       "                 ScreenResolution                                   Cpu  Ram  \\\n",
       "1263                     1366x768  Intel Celeron Dual Core N3060 1.6GHz  4GB   \n",
       "1277                     1366x768  Intel Celeron Dual Core N3060 1.6GHz  4GB   \n",
       "1291                     1366x768  Intel Celeron Dual Core N3060 1.6GHz  4GB   \n",
       "1274                     1366x768  Intel Celeron Dual Core N3050 1.6GHz  4GB   \n",
       "1288                     1366x768  Intel Celeron Dual Core N3050 1.6GHz  4GB   \n",
       "1302                     1366x768  Intel Celeron Dual Core N3050 1.6GHz  4GB   \n",
       "1269                     1366x768            Intel Core i7 6500U 2.5GHz  4GB   \n",
       "1283                     1366x768            Intel Core i7 6500U 2.5GHz  4GB   \n",
       "1297                     1366x768            Intel Core i7 6500U 2.5GHz  4GB   \n",
       "1261  IPS Panel Full HD 1920x1080              Intel Core M 6Y30 0.9GHz  8GB   \n",
       "\n",
       "         Memory                    Gpu       OpSys Weight  Price_euros  \n",
       "1263  500GB HDD  Intel HD Graphics 400       Linux  2.4kg       289.00  \n",
       "1277  500GB HDD  Intel HD Graphics 400       Linux  2.4kg       289.00  \n",
       "1291  500GB HDD  Intel HD Graphics 400       Linux  2.4kg       289.00  \n",
       "1274  500GB HDD      Intel HD Graphics  Windows 10  2.2kg       369.00  \n",
       "1288  500GB HDD      Intel HD Graphics  Windows 10  2.2kg       369.00  \n",
       "1302  500GB HDD      Intel HD Graphics  Windows 10  2.2kg       369.00  \n",
       "1269  500GB HDD    Nvidia GeForce 920M  Windows 10  2.2kg       720.32  \n",
       "1283  500GB HDD    Nvidia GeForce 920M  Windows 10  2.2kg       720.32  \n",
       "1297  500GB HDD    Nvidia GeForce 920M  Windows 10  2.2kg       720.32  \n",
       "1261  512GB SSD  Intel HD Graphics 515  Windows 10  1.2kg       729.00  "
      ]
     },
     "execution_count": 14,
     "metadata": {},
     "output_type": "execute_result"
    }
   ],
   "source": [
    "# the duplicated rows\n",
    "\n",
    "df[df.duplicated(keep=False)].sort_values(by=['Company','Product']).head(10)"
   ]
  },
  {
   "cell_type": "code",
   "execution_count": 15,
   "id": "9f9c898a-5b11-4830-8dbd-be5661ce9609",
   "metadata": {},
   "outputs": [],
   "source": [
    "# removing the duplicated rows\n",
    "\n",
    "df.drop_duplicates(inplace=True)"
   ]
  },
  {
   "cell_type": "markdown",
   "id": "e76df9f0-a928-472c-b8b4-aa447248d359",
   "metadata": {},
   "source": [
    "# "
   ]
  },
  {
   "cell_type": "markdown",
   "id": "5a7a5521-57c5-427a-a405-5b25da824e35",
   "metadata": {},
   "source": [
    "### What's next?:\n",
    "#### - cleaning the columns: Ram, Memory, Wieght.\n",
    "#### - changing the type of columns: Company, TypesName, OpsSys and maybe more."
   ]
  },
  {
   "cell_type": "markdown",
   "id": "27076799-eec8-426a-9a83-0f1df2839256",
   "metadata": {},
   "source": [
    "# "
   ]
  },
  {
   "cell_type": "markdown",
   "id": "8a16525b-7b9e-4985-a8c7-1ac7b0f83c53",
   "metadata": {},
   "source": [
    "#### ➥ cleaning the 'Ram' column"
   ]
  },
  {
   "cell_type": "code",
   "execution_count": 16,
   "id": "31b2a8e7-46d3-4b7a-918b-83e8d1b938f1",
   "metadata": {},
   "outputs": [
    {
     "data": {
      "text/plain": [
       "array(['8GB', '16GB', '4GB', '2GB', '12GB', '6GB', '32GB', '24GB', '64GB'],\n",
       "      dtype=object)"
      ]
     },
     "execution_count": 16,
     "metadata": {},
     "output_type": "execute_result"
    }
   ],
   "source": [
    "df['Ram'].unique()"
   ]
  },
  {
   "cell_type": "code",
   "execution_count": 17,
   "id": "54822ef5-2c50-4ee7-8412-2d386fbb319f",
   "metadata": {},
   "outputs": [
    {
     "data": {
      "text/plain": [
       "0        8\n",
       "1        8\n",
       "2        8\n",
       "3       16\n",
       "4        8\n",
       "        ..\n",
       "1270     4\n",
       "1271    16\n",
       "1272     2\n",
       "1273     6\n",
       "1274     4\n",
       "Name: Ram, Length: 1275, dtype: object"
      ]
     },
     "execution_count": 17,
     "metadata": {},
     "output_type": "execute_result"
    }
   ],
   "source": [
    "# I'm going to remove the two words 'GB' from each row and I have to rename the columns from Ram to something like Ram GB\n",
    "\n",
    "df['Ram'].str.replace('GB', '')"
   ]
  },
  {
   "cell_type": "code",
   "execution_count": 18,
   "id": "15f98e35-7422-4e3e-89c1-23589a8d800a",
   "metadata": {},
   "outputs": [],
   "source": [
    "df['Ram'] = df['Ram'].str.replace('GB', '').astype(int)"
   ]
  },
  {
   "cell_type": "markdown",
   "id": "f7087474-f5de-4afc-8ea5-d47782d88363",
   "metadata": {},
   "source": [
    "# "
   ]
  },
  {
   "cell_type": "markdown",
   "id": "6c6748a4-b650-45f8-968d-d7cf23b45915",
   "metadata": {
    "tags": []
   },
   "source": [
    "#### ➥ cleaning the 'Memory' column"
   ]
  },
  {
   "cell_type": "code",
   "execution_count": 19,
   "id": "8ea4e7e1-5aad-46b1-8da3-efddcc288b75",
   "metadata": {},
   "outputs": [
    {
     "data": {
      "text/plain": [
       "0                 [128GB, SSD]\n",
       "1       [128GB, Flash Storage]\n",
       "2                 [256GB, SSD]\n",
       "3                 [512GB, SSD]\n",
       "4                 [256GB, SSD]\n",
       "                 ...          \n",
       "1270              [128GB, SSD]\n",
       "1271              [512GB, SSD]\n",
       "1272     [64GB, Flash Storage]\n",
       "1273                [1TB, HDD]\n",
       "1274              [500GB, HDD]\n",
       "Name: Memory, Length: 1275, dtype: object"
      ]
     },
     "execution_count": 19,
     "metadata": {},
     "output_type": "execute_result"
    }
   ],
   "source": [
    "df['Memory'].str.split(' ', n=1)"
   ]
  },
  {
   "cell_type": "code",
   "execution_count": 20,
   "id": "b0740368-ae14-4872-a639-3debb17abb1e",
   "metadata": {},
   "outputs": [
    {
     "data": {
      "text/plain": [
       "array(['128GB', '256GB', '512GB', '500GB', '1TB', '32GB', '64GB', '2TB',\n",
       "       '1.0TB', '16GB', '180GB', '240GB', '8GB', '508GB'], dtype=object)"
      ]
     },
     "execution_count": 20,
     "metadata": {},
     "output_type": "execute_result"
    }
   ],
   "source": [
    "df['Memory'].str.split(' ', n=1).str[0].unique()"
   ]
  },
  {
   "cell_type": "code",
   "execution_count": 21,
   "id": "788bd8c8-f658-420e-bf0c-b38cc9f402ad",
   "metadata": {},
   "outputs": [
    {
     "name": "stdout",
     "output_type": "stream",
     "text": [
      "\n",
      " -> As we can see in this list of unique values, we got a bad format: 1.0TB\n",
      "\n",
      " -> It's a bad format only if we want to change from text (object) column to a number (integer) column.\n",
      "\n"
     ]
    }
   ],
   "source": [
    "print('\\n -> As we can see in this list of unique values, we got a bad format: 1.0TB\\n')\n",
    "print(' -> It\\'s a bad format only if we want to change from text (object) column to a number (integer) column.\\n')"
   ]
  },
  {
   "cell_type": "code",
   "execution_count": 22,
   "id": "4f5da769-8276-4c3b-bf0a-9fbcd3d4412f",
   "metadata": {},
   "outputs": [],
   "source": [
    "storage = df['Memory'].str.split(' ', n=1).str[0]"
   ]
  },
  {
   "cell_type": "code",
   "execution_count": 23,
   "id": "33559a24-59be-4ec9-abdb-4d8a731cccf3",
   "metadata": {},
   "outputs": [
    {
     "data": {
      "text/plain": [
       "0       128GB\n",
       "1       128GB\n",
       "2       256GB\n",
       "3       512GB\n",
       "4       256GB\n",
       "        ...  \n",
       "1270    128GB\n",
       "1271    512GB\n",
       "1272     64GB\n",
       "1273      1TB\n",
       "1274    500GB\n",
       "Name: Memory, Length: 1275, dtype: object"
      ]
     },
     "execution_count": 23,
     "metadata": {},
     "output_type": "execute_result"
    }
   ],
   "source": [
    "storage"
   ]
  },
  {
   "cell_type": "code",
   "execution_count": 24,
   "id": "00f47c70-7f68-475d-8506-60c48b3ee962",
   "metadata": {},
   "outputs": [],
   "source": [
    "type_storage = df['Memory'].str.split(' ', n=1).str[1]"
   ]
  },
  {
   "cell_type": "code",
   "execution_count": 25,
   "id": "e40bef14-b05e-4ebf-a01c-c6cde75c0962",
   "metadata": {},
   "outputs": [
    {
     "data": {
      "text/plain": [
       "0                 SSD\n",
       "1       Flash Storage\n",
       "2                 SSD\n",
       "3                 SSD\n",
       "4                 SSD\n",
       "            ...      \n",
       "1270              SSD\n",
       "1271              SSD\n",
       "1272    Flash Storage\n",
       "1273              HDD\n",
       "1274              HDD\n",
       "Name: Memory, Length: 1275, dtype: object"
      ]
     },
     "execution_count": 25,
     "metadata": {},
     "output_type": "execute_result"
    }
   ],
   "source": [
    "type_storage"
   ]
  },
  {
   "cell_type": "code",
   "execution_count": 26,
   "id": "9b16554c-9e25-4cb1-9ed8-fa5378e83de9",
   "metadata": {},
   "outputs": [
    {
     "data": {
      "text/plain": [
       "0       [128, GB, ]\n",
       "1       [128, GB, ]\n",
       "2       [256, GB, ]\n",
       "3       [512, GB, ]\n",
       "4       [256, GB, ]\n",
       "           ...     \n",
       "1270    [128, GB, ]\n",
       "1271    [512, GB, ]\n",
       "1272     [64, GB, ]\n",
       "1273      [1, TB, ]\n",
       "1274    [500, GB, ]\n",
       "Name: Memory, Length: 1275, dtype: object"
      ]
     },
     "execution_count": 26,
     "metadata": {},
     "output_type": "execute_result"
    }
   ],
   "source": [
    "storage.apply(lambda x: re.split('([a-zA-Z]+)', x))"
   ]
  },
  {
   "cell_type": "code",
   "execution_count": 27,
   "id": "2eb9ca13-3446-4cea-b535-2f9f85e91107",
   "metadata": {},
   "outputs": [
    {
     "data": {
      "text/plain": [
       "array(['128', '256', '512', '500', '1', '32', '64', '2', '1.0', '16',\n",
       "       '180', '240', '8', '508'], dtype=object)"
      ]
     },
     "execution_count": 27,
     "metadata": {},
     "output_type": "execute_result"
    }
   ],
   "source": [
    "storage.apply(lambda x: re.split('([a-zA-Z]+)', x)).str[0].unique()"
   ]
  },
  {
   "cell_type": "code",
   "execution_count": 28,
   "id": "7967434c-e8d6-4785-9b85-9f519220ba41",
   "metadata": {},
   "outputs": [
    {
     "data": {
      "text/plain": [
       "array(['GB', 'TB'], dtype=object)"
      ]
     },
     "execution_count": 28,
     "metadata": {},
     "output_type": "execute_result"
    }
   ],
   "source": [
    "storage.apply(lambda x: re.split('([a-zA-Z]+)', x)).str[1].unique()"
   ]
  },
  {
   "cell_type": "code",
   "execution_count": 29,
   "id": "ca2e851f-5330-4f9a-8e08-dcfad9f6547c",
   "metadata": {},
   "outputs": [
    {
     "data": {
      "text/plain": [
       "array([''], dtype=object)"
      ]
     },
     "execution_count": 29,
     "metadata": {},
     "output_type": "execute_result"
    }
   ],
   "source": [
    "storage.apply(lambda x: re.split('([a-zA-Z]+)', x) ).str[2].unique()"
   ]
  },
  {
   "cell_type": "code",
   "execution_count": 30,
   "id": "da8c0782-7d70-460f-9c44-8639b8b8bdf9",
   "metadata": {},
   "outputs": [
    {
     "data": {
      "text/plain": [
       "array(['1TB', '2TB', '1.0TB'], dtype=object)"
      ]
     },
     "execution_count": 30,
     "metadata": {},
     "output_type": "execute_result"
    }
   ],
   "source": [
    "storage[storage.str.contains('TB')].unique()"
   ]
  },
  {
   "cell_type": "code",
   "execution_count": 31,
   "id": "1a12d437-7544-4b16-bf8a-f3e4c45e4231",
   "metadata": {},
   "outputs": [
    {
     "data": {
      "text/plain": [
       "151     1.0TB\n",
       "1010    1.0TB\n",
       "1075    1.0TB\n",
       "1135    1.0TB\n",
       "1158    1.0TB\n",
       "1176    1.0TB\n",
       "1258    1.0TB\n",
       "1266    1.0TB\n",
       "Name: Memory, dtype: object"
      ]
     },
     "execution_count": 31,
     "metadata": {},
     "output_type": "execute_result"
    }
   ],
   "source": [
    "storage[storage.str.contains('\\.')]"
   ]
  },
  {
   "cell_type": "code",
   "execution_count": 32,
   "id": "0d12ebe8-83b9-409d-9673-ab90e6c7a8a7",
   "metadata": {},
   "outputs": [
    {
     "data": {
      "text/plain": [
       "1265      1TB\n",
       "1266    1.0TB\n",
       "1267      1TB\n",
       "1268     32GB\n",
       "Name: Memory, dtype: object"
      ]
     },
     "execution_count": 32,
     "metadata": {},
     "output_type": "execute_result"
    }
   ],
   "source": [
    "storage.loc[1265:1268,]"
   ]
  },
  {
   "cell_type": "code",
   "execution_count": 33,
   "id": "b999ad4b-9862-4391-868b-2f1db0ec3ea7",
   "metadata": {},
   "outputs": [
    {
     "data": {
      "text/plain": [
       "1265     1TB\n",
       "1266     1TB\n",
       "1267     1TB\n",
       "1268    32GB\n",
       "Name: Memory, dtype: object"
      ]
     },
     "execution_count": 33,
     "metadata": {},
     "output_type": "execute_result"
    }
   ],
   "source": [
    "storage.loc[1265:1268,].str.replace('.0', '', regex=False)"
   ]
  },
  {
   "cell_type": "code",
   "execution_count": 34,
   "id": "13a4d3df-b1a9-4619-897a-60826a9c19f7",
   "metadata": {},
   "outputs": [],
   "source": [
    "storage = storage.str.replace('.0', '', regex=False)\n",
    "\n",
    "calc_capacity = storage.apply(lambda x: re.split('([a-zA-Z]+)', x))"
   ]
  },
  {
   "cell_type": "code",
   "execution_count": 35,
   "id": "894a306f-17af-4e8a-b7ef-155a5a7c7e9b",
   "metadata": {},
   "outputs": [
    {
     "data": {
      "text/plain": [
       "0       [128, GB, ]\n",
       "1       [128, GB, ]\n",
       "2       [256, GB, ]\n",
       "3       [512, GB, ]\n",
       "4       [256, GB, ]\n",
       "           ...     \n",
       "1270    [128, GB, ]\n",
       "1271    [512, GB, ]\n",
       "1272     [64, GB, ]\n",
       "1273      [1, TB, ]\n",
       "1274    [500, GB, ]\n",
       "Name: Memory, Length: 1275, dtype: object"
      ]
     },
     "execution_count": 35,
     "metadata": {},
     "output_type": "execute_result"
    }
   ],
   "source": [
    "calc_capacity"
   ]
  },
  {
   "cell_type": "code",
   "execution_count": 36,
   "id": "dd1b0cb8-b85d-46d1-9e54-5a46be6a0437",
   "metadata": {},
   "outputs": [],
   "source": [
    "storage = calc_capacity.apply(lambda element: int(element[0]) if element[1] == 'GB' else (int(element[0]) * 1000 if element[1] == 'TB' else 'Something\\'s wrong here!'))"
   ]
  },
  {
   "cell_type": "code",
   "execution_count": 37,
   "id": "27a9d251-eb30-46d7-8373-51b72645a91b",
   "metadata": {},
   "outputs": [
    {
     "data": {
      "text/plain": [
       "0        128\n",
       "1        128\n",
       "2        256\n",
       "3        512\n",
       "4        256\n",
       "        ... \n",
       "1270     128\n",
       "1271     512\n",
       "1272      64\n",
       "1273    1000\n",
       "1274     500\n",
       "Name: Memory, Length: 1275, dtype: int64"
      ]
     },
     "execution_count": 37,
     "metadata": {},
     "output_type": "execute_result"
    }
   ],
   "source": [
    "storage"
   ]
  },
  {
   "cell_type": "code",
   "execution_count": 38,
   "id": "ef6de202-2122-4096-bacd-9268d2a2ed33",
   "metadata": {},
   "outputs": [],
   "source": [
    "df['Memory'] = storage"
   ]
  },
  {
   "cell_type": "code",
   "execution_count": 39,
   "id": "f515b9d9-4c98-4353-a0de-8b3836b324bf",
   "metadata": {},
   "outputs": [],
   "source": [
    "df['Storage Type'] = type_storage"
   ]
  },
  {
   "cell_type": "code",
   "execution_count": 40,
   "id": "9049f52e-8ba4-44e7-b1c9-9e379c8af89d",
   "metadata": {},
   "outputs": [],
   "source": [
    "rename_columns={\n",
    "    'Ram': 'Ram (GB)',\n",
    "    'Memory': 'Storage Memory (GB)',\n",
    "    'Weight': 'Weight (kg)'\n",
    "}\n",
    "\n",
    "df.rename(columns=rename_columns, inplace=True)"
   ]
  },
  {
   "cell_type": "code",
   "execution_count": 41,
   "id": "fbaf9bec-e3a2-465d-bc39-eaebaef17dbd",
   "metadata": {},
   "outputs": [
    {
     "data": {
      "text/html": [
       "<div>\n",
       "<style scoped>\n",
       "    .dataframe tbody tr th:only-of-type {\n",
       "        vertical-align: middle;\n",
       "    }\n",
       "\n",
       "    .dataframe tbody tr th {\n",
       "        vertical-align: top;\n",
       "    }\n",
       "\n",
       "    .dataframe thead th {\n",
       "        text-align: right;\n",
       "    }\n",
       "</style>\n",
       "<table border=\"1\" class=\"dataframe\">\n",
       "  <thead>\n",
       "    <tr style=\"text-align: right;\">\n",
       "      <th></th>\n",
       "      <th>Company</th>\n",
       "      <th>Product</th>\n",
       "      <th>TypeName</th>\n",
       "      <th>Inches</th>\n",
       "      <th>ScreenResolution</th>\n",
       "      <th>Cpu</th>\n",
       "      <th>Ram (GB)</th>\n",
       "      <th>Storage Memory (GB)</th>\n",
       "      <th>Gpu</th>\n",
       "      <th>OpSys</th>\n",
       "      <th>Weight (kg)</th>\n",
       "      <th>Price_euros</th>\n",
       "      <th>Storage Type</th>\n",
       "    </tr>\n",
       "  </thead>\n",
       "  <tbody>\n",
       "    <tr>\n",
       "      <th>0</th>\n",
       "      <td>Apple</td>\n",
       "      <td>MacBook Pro</td>\n",
       "      <td>Ultrabook</td>\n",
       "      <td>13.30</td>\n",
       "      <td>IPS Panel Retina Display 2560x1600</td>\n",
       "      <td>Intel Core i5 2.3GHz</td>\n",
       "      <td>8</td>\n",
       "      <td>128</td>\n",
       "      <td>Intel Iris Plus Graphics 640</td>\n",
       "      <td>macOS</td>\n",
       "      <td>1.37kg</td>\n",
       "      <td>1,339.69</td>\n",
       "      <td>SSD</td>\n",
       "    </tr>\n",
       "    <tr>\n",
       "      <th>1</th>\n",
       "      <td>Apple</td>\n",
       "      <td>Macbook Air</td>\n",
       "      <td>Ultrabook</td>\n",
       "      <td>13.30</td>\n",
       "      <td>1440x900</td>\n",
       "      <td>Intel Core i5 1.8GHz</td>\n",
       "      <td>8</td>\n",
       "      <td>128</td>\n",
       "      <td>Intel HD Graphics 6000</td>\n",
       "      <td>macOS</td>\n",
       "      <td>1.34kg</td>\n",
       "      <td>898.94</td>\n",
       "      <td>Flash Storage</td>\n",
       "    </tr>\n",
       "    <tr>\n",
       "      <th>2</th>\n",
       "      <td>HP</td>\n",
       "      <td>250 G6</td>\n",
       "      <td>Notebook</td>\n",
       "      <td>15.60</td>\n",
       "      <td>Full HD 1920x1080</td>\n",
       "      <td>Intel Core i5 7200U 2.5GHz</td>\n",
       "      <td>8</td>\n",
       "      <td>256</td>\n",
       "      <td>Intel HD Graphics 620</td>\n",
       "      <td>No OS</td>\n",
       "      <td>1.86kg</td>\n",
       "      <td>575.00</td>\n",
       "      <td>SSD</td>\n",
       "    </tr>\n",
       "    <tr>\n",
       "      <th>3</th>\n",
       "      <td>Apple</td>\n",
       "      <td>MacBook Pro</td>\n",
       "      <td>Ultrabook</td>\n",
       "      <td>15.40</td>\n",
       "      <td>IPS Panel Retina Display 2880x1800</td>\n",
       "      <td>Intel Core i7 2.7GHz</td>\n",
       "      <td>16</td>\n",
       "      <td>512</td>\n",
       "      <td>AMD Radeon Pro 455</td>\n",
       "      <td>macOS</td>\n",
       "      <td>1.83kg</td>\n",
       "      <td>2,537.45</td>\n",
       "      <td>SSD</td>\n",
       "    </tr>\n",
       "    <tr>\n",
       "      <th>4</th>\n",
       "      <td>Apple</td>\n",
       "      <td>MacBook Pro</td>\n",
       "      <td>Ultrabook</td>\n",
       "      <td>13.30</td>\n",
       "      <td>IPS Panel Retina Display 2560x1600</td>\n",
       "      <td>Intel Core i5 3.1GHz</td>\n",
       "      <td>8</td>\n",
       "      <td>256</td>\n",
       "      <td>Intel Iris Plus Graphics 650</td>\n",
       "      <td>macOS</td>\n",
       "      <td>1.37kg</td>\n",
       "      <td>1,803.60</td>\n",
       "      <td>SSD</td>\n",
       "    </tr>\n",
       "  </tbody>\n",
       "</table>\n",
       "</div>"
      ],
      "text/plain": [
       "  Company      Product   TypeName  Inches                    ScreenResolution  \\\n",
       "0   Apple  MacBook Pro  Ultrabook   13.30  IPS Panel Retina Display 2560x1600   \n",
       "1   Apple  Macbook Air  Ultrabook   13.30                            1440x900   \n",
       "2      HP       250 G6   Notebook   15.60                   Full HD 1920x1080   \n",
       "3   Apple  MacBook Pro  Ultrabook   15.40  IPS Panel Retina Display 2880x1800   \n",
       "4   Apple  MacBook Pro  Ultrabook   13.30  IPS Panel Retina Display 2560x1600   \n",
       "\n",
       "                          Cpu  Ram (GB)  Storage Memory (GB)  \\\n",
       "0        Intel Core i5 2.3GHz         8                  128   \n",
       "1        Intel Core i5 1.8GHz         8                  128   \n",
       "2  Intel Core i5 7200U 2.5GHz         8                  256   \n",
       "3        Intel Core i7 2.7GHz        16                  512   \n",
       "4        Intel Core i5 3.1GHz         8                  256   \n",
       "\n",
       "                            Gpu  OpSys Weight (kg)  Price_euros   Storage Type  \n",
       "0  Intel Iris Plus Graphics 640  macOS      1.37kg     1,339.69            SSD  \n",
       "1        Intel HD Graphics 6000  macOS      1.34kg       898.94  Flash Storage  \n",
       "2         Intel HD Graphics 620  No OS      1.86kg       575.00            SSD  \n",
       "3            AMD Radeon Pro 455  macOS      1.83kg     2,537.45            SSD  \n",
       "4  Intel Iris Plus Graphics 650  macOS      1.37kg     1,803.60            SSD  "
      ]
     },
     "execution_count": 41,
     "metadata": {},
     "output_type": "execute_result"
    }
   ],
   "source": [
    "df.head()"
   ]
  },
  {
   "cell_type": "code",
   "execution_count": 42,
   "id": "3fde869d-06a6-42fd-b8a4-12ff54fb416f",
   "metadata": {},
   "outputs": [],
   "source": [
    "actual_columns = list(df.columns)\n",
    "actual_columns.remove('Storage Type')\n",
    "\n",
    "reorder_columns = []\n",
    "\n",
    "for col in actual_columns:\n",
    "    if col == 'Storage Memory (GB)':\n",
    "        reorder_columns.append(col)\n",
    "        reorder_columns.append('Storage Type')        \n",
    "    else:\n",
    "        reorder_columns.append(col)\n"
   ]
  },
  {
   "cell_type": "code",
   "execution_count": 43,
   "id": "19aed270-8e89-4d15-8c94-88d76b83f8ac",
   "metadata": {},
   "outputs": [],
   "source": [
    "df = df.loc[:, reorder_columns]"
   ]
  },
  {
   "cell_type": "code",
   "execution_count": 44,
   "id": "bf1f3e2c-2d1f-4d3e-983a-b112aa33f8f2",
   "metadata": {},
   "outputs": [
    {
     "data": {
      "text/html": [
       "<div>\n",
       "<style scoped>\n",
       "    .dataframe tbody tr th:only-of-type {\n",
       "        vertical-align: middle;\n",
       "    }\n",
       "\n",
       "    .dataframe tbody tr th {\n",
       "        vertical-align: top;\n",
       "    }\n",
       "\n",
       "    .dataframe thead th {\n",
       "        text-align: right;\n",
       "    }\n",
       "</style>\n",
       "<table border=\"1\" class=\"dataframe\">\n",
       "  <thead>\n",
       "    <tr style=\"text-align: right;\">\n",
       "      <th></th>\n",
       "      <th>Company</th>\n",
       "      <th>Product</th>\n",
       "      <th>TypeName</th>\n",
       "      <th>Inches</th>\n",
       "      <th>ScreenResolution</th>\n",
       "      <th>Cpu</th>\n",
       "      <th>Ram (GB)</th>\n",
       "      <th>Storage Memory (GB)</th>\n",
       "      <th>Storage Type</th>\n",
       "      <th>Gpu</th>\n",
       "      <th>OpSys</th>\n",
       "      <th>Weight (kg)</th>\n",
       "      <th>Price_euros</th>\n",
       "    </tr>\n",
       "  </thead>\n",
       "  <tbody>\n",
       "    <tr>\n",
       "      <th>0</th>\n",
       "      <td>Apple</td>\n",
       "      <td>MacBook Pro</td>\n",
       "      <td>Ultrabook</td>\n",
       "      <td>13.30</td>\n",
       "      <td>IPS Panel Retina Display 2560x1600</td>\n",
       "      <td>Intel Core i5 2.3GHz</td>\n",
       "      <td>8</td>\n",
       "      <td>128</td>\n",
       "      <td>SSD</td>\n",
       "      <td>Intel Iris Plus Graphics 640</td>\n",
       "      <td>macOS</td>\n",
       "      <td>1.37kg</td>\n",
       "      <td>1,339.69</td>\n",
       "    </tr>\n",
       "    <tr>\n",
       "      <th>1</th>\n",
       "      <td>Apple</td>\n",
       "      <td>Macbook Air</td>\n",
       "      <td>Ultrabook</td>\n",
       "      <td>13.30</td>\n",
       "      <td>1440x900</td>\n",
       "      <td>Intel Core i5 1.8GHz</td>\n",
       "      <td>8</td>\n",
       "      <td>128</td>\n",
       "      <td>Flash Storage</td>\n",
       "      <td>Intel HD Graphics 6000</td>\n",
       "      <td>macOS</td>\n",
       "      <td>1.34kg</td>\n",
       "      <td>898.94</td>\n",
       "    </tr>\n",
       "    <tr>\n",
       "      <th>2</th>\n",
       "      <td>HP</td>\n",
       "      <td>250 G6</td>\n",
       "      <td>Notebook</td>\n",
       "      <td>15.60</td>\n",
       "      <td>Full HD 1920x1080</td>\n",
       "      <td>Intel Core i5 7200U 2.5GHz</td>\n",
       "      <td>8</td>\n",
       "      <td>256</td>\n",
       "      <td>SSD</td>\n",
       "      <td>Intel HD Graphics 620</td>\n",
       "      <td>No OS</td>\n",
       "      <td>1.86kg</td>\n",
       "      <td>575.00</td>\n",
       "    </tr>\n",
       "    <tr>\n",
       "      <th>3</th>\n",
       "      <td>Apple</td>\n",
       "      <td>MacBook Pro</td>\n",
       "      <td>Ultrabook</td>\n",
       "      <td>15.40</td>\n",
       "      <td>IPS Panel Retina Display 2880x1800</td>\n",
       "      <td>Intel Core i7 2.7GHz</td>\n",
       "      <td>16</td>\n",
       "      <td>512</td>\n",
       "      <td>SSD</td>\n",
       "      <td>AMD Radeon Pro 455</td>\n",
       "      <td>macOS</td>\n",
       "      <td>1.83kg</td>\n",
       "      <td>2,537.45</td>\n",
       "    </tr>\n",
       "    <tr>\n",
       "      <th>4</th>\n",
       "      <td>Apple</td>\n",
       "      <td>MacBook Pro</td>\n",
       "      <td>Ultrabook</td>\n",
       "      <td>13.30</td>\n",
       "      <td>IPS Panel Retina Display 2560x1600</td>\n",
       "      <td>Intel Core i5 3.1GHz</td>\n",
       "      <td>8</td>\n",
       "      <td>256</td>\n",
       "      <td>SSD</td>\n",
       "      <td>Intel Iris Plus Graphics 650</td>\n",
       "      <td>macOS</td>\n",
       "      <td>1.37kg</td>\n",
       "      <td>1,803.60</td>\n",
       "    </tr>\n",
       "  </tbody>\n",
       "</table>\n",
       "</div>"
      ],
      "text/plain": [
       "  Company      Product   TypeName  Inches                    ScreenResolution  \\\n",
       "0   Apple  MacBook Pro  Ultrabook   13.30  IPS Panel Retina Display 2560x1600   \n",
       "1   Apple  Macbook Air  Ultrabook   13.30                            1440x900   \n",
       "2      HP       250 G6   Notebook   15.60                   Full HD 1920x1080   \n",
       "3   Apple  MacBook Pro  Ultrabook   15.40  IPS Panel Retina Display 2880x1800   \n",
       "4   Apple  MacBook Pro  Ultrabook   13.30  IPS Panel Retina Display 2560x1600   \n",
       "\n",
       "                          Cpu  Ram (GB)  Storage Memory (GB)   Storage Type  \\\n",
       "0        Intel Core i5 2.3GHz         8                  128            SSD   \n",
       "1        Intel Core i5 1.8GHz         8                  128  Flash Storage   \n",
       "2  Intel Core i5 7200U 2.5GHz         8                  256            SSD   \n",
       "3        Intel Core i7 2.7GHz        16                  512            SSD   \n",
       "4        Intel Core i5 3.1GHz         8                  256            SSD   \n",
       "\n",
       "                            Gpu  OpSys Weight (kg)  Price_euros  \n",
       "0  Intel Iris Plus Graphics 640  macOS      1.37kg     1,339.69  \n",
       "1        Intel HD Graphics 6000  macOS      1.34kg       898.94  \n",
       "2         Intel HD Graphics 620  No OS      1.86kg       575.00  \n",
       "3            AMD Radeon Pro 455  macOS      1.83kg     2,537.45  \n",
       "4  Intel Iris Plus Graphics 650  macOS      1.37kg     1,803.60  "
      ]
     },
     "execution_count": 44,
     "metadata": {},
     "output_type": "execute_result"
    }
   ],
   "source": [
    "df.head()"
   ]
  },
  {
   "cell_type": "markdown",
   "id": "2c100a14-0a38-4e64-9ddb-a7d908546c8a",
   "metadata": {},
   "source": [
    "# "
   ]
  },
  {
   "cell_type": "markdown",
   "id": "beb16f59-13c0-45a3-88b0-da958556df25",
   "metadata": {},
   "source": [
    "#### ➥ cleaning the 'Weight' column"
   ]
  },
  {
   "cell_type": "code",
   "execution_count": 45,
   "id": "d7100f3f-5084-48ad-ba4a-71abfe2ca78f",
   "metadata": {},
   "outputs": [
    {
     "data": {
      "text/plain": [
       "0       [1.37, kg, ]\n",
       "1       [1.34, kg, ]\n",
       "2       [1.86, kg, ]\n",
       "3       [1.83, kg, ]\n",
       "4       [1.37, kg, ]\n",
       "            ...     \n",
       "1270     [1.8, kg, ]\n",
       "1271     [1.3, kg, ]\n",
       "1272     [1.5, kg, ]\n",
       "1273    [2.19, kg, ]\n",
       "1274     [2.2, kg, ]\n",
       "Name: Weight (kg), Length: 1275, dtype: object"
      ]
     },
     "execution_count": 45,
     "metadata": {},
     "output_type": "execute_result"
    }
   ],
   "source": [
    "df['Weight (kg)'].apply(lambda x: re.split('([a-zA-Z]+)', x))"
   ]
  },
  {
   "cell_type": "code",
   "execution_count": 46,
   "id": "7ca0fb47-e4eb-4374-a7a1-713292dba761",
   "metadata": {},
   "outputs": [
    {
     "data": {
      "text/plain": [
       "array(['kg'], dtype=object)"
      ]
     },
     "execution_count": 46,
     "metadata": {},
     "output_type": "execute_result"
    }
   ],
   "source": [
    "df['Weight (kg)'].apply(lambda x: re.split('([a-zA-Z]+)', x)).str[1].unique()"
   ]
  },
  {
   "cell_type": "code",
   "execution_count": 47,
   "id": "e1117813-7686-4bc5-a082-68ccc6391c07",
   "metadata": {},
   "outputs": [],
   "source": [
    "df['Weight (kg)'] = df['Weight (kg)'].apply(lambda x: re.split('([a-zA-Z]+)', x)).str[0].astype(float)"
   ]
  },
  {
   "cell_type": "code",
   "execution_count": 48,
   "id": "c580cbe1-31fb-45d3-8de3-2b60cb63cbdf",
   "metadata": {},
   "outputs": [
    {
     "data": {
      "text/html": [
       "<div>\n",
       "<style scoped>\n",
       "    .dataframe tbody tr th:only-of-type {\n",
       "        vertical-align: middle;\n",
       "    }\n",
       "\n",
       "    .dataframe tbody tr th {\n",
       "        vertical-align: top;\n",
       "    }\n",
       "\n",
       "    .dataframe thead th {\n",
       "        text-align: right;\n",
       "    }\n",
       "</style>\n",
       "<table border=\"1\" class=\"dataframe\">\n",
       "  <thead>\n",
       "    <tr style=\"text-align: right;\">\n",
       "      <th></th>\n",
       "      <th>Company</th>\n",
       "      <th>Product</th>\n",
       "      <th>TypeName</th>\n",
       "      <th>Inches</th>\n",
       "      <th>ScreenResolution</th>\n",
       "      <th>Cpu</th>\n",
       "      <th>Ram (GB)</th>\n",
       "      <th>Storage Memory (GB)</th>\n",
       "      <th>Storage Type</th>\n",
       "      <th>Gpu</th>\n",
       "      <th>OpSys</th>\n",
       "      <th>Weight (kg)</th>\n",
       "      <th>Price_euros</th>\n",
       "    </tr>\n",
       "  </thead>\n",
       "  <tbody>\n",
       "    <tr>\n",
       "      <th>0</th>\n",
       "      <td>Apple</td>\n",
       "      <td>MacBook Pro</td>\n",
       "      <td>Ultrabook</td>\n",
       "      <td>13.30</td>\n",
       "      <td>IPS Panel Retina Display 2560x1600</td>\n",
       "      <td>Intel Core i5 2.3GHz</td>\n",
       "      <td>8</td>\n",
       "      <td>128</td>\n",
       "      <td>SSD</td>\n",
       "      <td>Intel Iris Plus Graphics 640</td>\n",
       "      <td>macOS</td>\n",
       "      <td>1.37</td>\n",
       "      <td>1,339.69</td>\n",
       "    </tr>\n",
       "    <tr>\n",
       "      <th>1</th>\n",
       "      <td>Apple</td>\n",
       "      <td>Macbook Air</td>\n",
       "      <td>Ultrabook</td>\n",
       "      <td>13.30</td>\n",
       "      <td>1440x900</td>\n",
       "      <td>Intel Core i5 1.8GHz</td>\n",
       "      <td>8</td>\n",
       "      <td>128</td>\n",
       "      <td>Flash Storage</td>\n",
       "      <td>Intel HD Graphics 6000</td>\n",
       "      <td>macOS</td>\n",
       "      <td>1.34</td>\n",
       "      <td>898.94</td>\n",
       "    </tr>\n",
       "    <tr>\n",
       "      <th>2</th>\n",
       "      <td>HP</td>\n",
       "      <td>250 G6</td>\n",
       "      <td>Notebook</td>\n",
       "      <td>15.60</td>\n",
       "      <td>Full HD 1920x1080</td>\n",
       "      <td>Intel Core i5 7200U 2.5GHz</td>\n",
       "      <td>8</td>\n",
       "      <td>256</td>\n",
       "      <td>SSD</td>\n",
       "      <td>Intel HD Graphics 620</td>\n",
       "      <td>No OS</td>\n",
       "      <td>1.86</td>\n",
       "      <td>575.00</td>\n",
       "    </tr>\n",
       "    <tr>\n",
       "      <th>3</th>\n",
       "      <td>Apple</td>\n",
       "      <td>MacBook Pro</td>\n",
       "      <td>Ultrabook</td>\n",
       "      <td>15.40</td>\n",
       "      <td>IPS Panel Retina Display 2880x1800</td>\n",
       "      <td>Intel Core i7 2.7GHz</td>\n",
       "      <td>16</td>\n",
       "      <td>512</td>\n",
       "      <td>SSD</td>\n",
       "      <td>AMD Radeon Pro 455</td>\n",
       "      <td>macOS</td>\n",
       "      <td>1.83</td>\n",
       "      <td>2,537.45</td>\n",
       "    </tr>\n",
       "    <tr>\n",
       "      <th>4</th>\n",
       "      <td>Apple</td>\n",
       "      <td>MacBook Pro</td>\n",
       "      <td>Ultrabook</td>\n",
       "      <td>13.30</td>\n",
       "      <td>IPS Panel Retina Display 2560x1600</td>\n",
       "      <td>Intel Core i5 3.1GHz</td>\n",
       "      <td>8</td>\n",
       "      <td>256</td>\n",
       "      <td>SSD</td>\n",
       "      <td>Intel Iris Plus Graphics 650</td>\n",
       "      <td>macOS</td>\n",
       "      <td>1.37</td>\n",
       "      <td>1,803.60</td>\n",
       "    </tr>\n",
       "  </tbody>\n",
       "</table>\n",
       "</div>"
      ],
      "text/plain": [
       "  Company      Product   TypeName  Inches                    ScreenResolution  \\\n",
       "0   Apple  MacBook Pro  Ultrabook   13.30  IPS Panel Retina Display 2560x1600   \n",
       "1   Apple  Macbook Air  Ultrabook   13.30                            1440x900   \n",
       "2      HP       250 G6   Notebook   15.60                   Full HD 1920x1080   \n",
       "3   Apple  MacBook Pro  Ultrabook   15.40  IPS Panel Retina Display 2880x1800   \n",
       "4   Apple  MacBook Pro  Ultrabook   13.30  IPS Panel Retina Display 2560x1600   \n",
       "\n",
       "                          Cpu  Ram (GB)  Storage Memory (GB)   Storage Type  \\\n",
       "0        Intel Core i5 2.3GHz         8                  128            SSD   \n",
       "1        Intel Core i5 1.8GHz         8                  128  Flash Storage   \n",
       "2  Intel Core i5 7200U 2.5GHz         8                  256            SSD   \n",
       "3        Intel Core i7 2.7GHz        16                  512            SSD   \n",
       "4        Intel Core i5 3.1GHz         8                  256            SSD   \n",
       "\n",
       "                            Gpu  OpSys  Weight (kg)  Price_euros  \n",
       "0  Intel Iris Plus Graphics 640  macOS         1.37     1,339.69  \n",
       "1        Intel HD Graphics 6000  macOS         1.34       898.94  \n",
       "2         Intel HD Graphics 620  No OS         1.86       575.00  \n",
       "3            AMD Radeon Pro 455  macOS         1.83     2,537.45  \n",
       "4  Intel Iris Plus Graphics 650  macOS         1.37     1,803.60  "
      ]
     },
     "execution_count": 48,
     "metadata": {},
     "output_type": "execute_result"
    }
   ],
   "source": [
    "df.head()"
   ]
  },
  {
   "cell_type": "code",
   "execution_count": 49,
   "id": "9f22e447-ac55-436a-9d22-56b4c0131210",
   "metadata": {},
   "outputs": [
    {
     "data": {
      "text/plain": [
       "(1275, 13)"
      ]
     },
     "execution_count": 49,
     "metadata": {},
     "output_type": "execute_result"
    }
   ],
   "source": [
    "df.shape"
   ]
  },
  {
   "cell_type": "code",
   "execution_count": 50,
   "id": "68fb32d0-e2c7-4dee-93e3-9e1e1e76f0bf",
   "metadata": {},
   "outputs": [
    {
     "data": {
      "text/plain": [
       "Company                 object\n",
       "Product                 object\n",
       "TypeName                object\n",
       "Inches                 float64\n",
       "ScreenResolution        object\n",
       "Cpu                     object\n",
       "Ram (GB)                 int32\n",
       "Storage Memory (GB)      int64\n",
       "Storage Type            object\n",
       "Gpu                     object\n",
       "OpSys                   object\n",
       "Weight (kg)            float64\n",
       "Price_euros            float64\n",
       "dtype: object"
      ]
     },
     "execution_count": 50,
     "metadata": {},
     "output_type": "execute_result"
    }
   ],
   "source": [
    "df.dtypes"
   ]
  },
  {
   "cell_type": "code",
   "execution_count": 51,
   "id": "bb867f4e-43c4-44a9-8d4b-458049e2d83f",
   "metadata": {},
   "outputs": [
    {
     "data": {
      "text/html": [
       "<div>\n",
       "<style scoped>\n",
       "    .dataframe tbody tr th:only-of-type {\n",
       "        vertical-align: middle;\n",
       "    }\n",
       "\n",
       "    .dataframe tbody tr th {\n",
       "        vertical-align: top;\n",
       "    }\n",
       "\n",
       "    .dataframe thead th {\n",
       "        text-align: right;\n",
       "    }\n",
       "</style>\n",
       "<table border=\"1\" class=\"dataframe\">\n",
       "  <thead>\n",
       "    <tr style=\"text-align: right;\">\n",
       "      <th></th>\n",
       "      <th>Company</th>\n",
       "      <th>Product</th>\n",
       "      <th>TypeName</th>\n",
       "      <th>ScreenResolution</th>\n",
       "      <th>Cpu</th>\n",
       "      <th>Storage Type</th>\n",
       "      <th>Gpu</th>\n",
       "      <th>OpSys</th>\n",
       "    </tr>\n",
       "  </thead>\n",
       "  <tbody>\n",
       "    <tr>\n",
       "      <th>count</th>\n",
       "      <td>1275</td>\n",
       "      <td>1275</td>\n",
       "      <td>1275</td>\n",
       "      <td>1275</td>\n",
       "      <td>1275</td>\n",
       "      <td>1275</td>\n",
       "      <td>1275</td>\n",
       "      <td>1275</td>\n",
       "    </tr>\n",
       "    <tr>\n",
       "      <th>unique</th>\n",
       "      <td>19</td>\n",
       "      <td>618</td>\n",
       "      <td>6</td>\n",
       "      <td>40</td>\n",
       "      <td>118</td>\n",
       "      <td>12</td>\n",
       "      <td>110</td>\n",
       "      <td>9</td>\n",
       "    </tr>\n",
       "    <tr>\n",
       "      <th>top</th>\n",
       "      <td>Dell</td>\n",
       "      <td>XPS 13</td>\n",
       "      <td>Notebook</td>\n",
       "      <td>Full HD 1920x1080</td>\n",
       "      <td>Intel Core i5 7200U 2.5GHz</td>\n",
       "      <td>SSD</td>\n",
       "      <td>Intel HD Graphics 620</td>\n",
       "      <td>Windows 10</td>\n",
       "    </tr>\n",
       "    <tr>\n",
       "      <th>freq</th>\n",
       "      <td>291</td>\n",
       "      <td>30</td>\n",
       "      <td>707</td>\n",
       "      <td>505</td>\n",
       "      <td>190</td>\n",
       "      <td>631</td>\n",
       "      <td>279</td>\n",
       "      <td>1048</td>\n",
       "    </tr>\n",
       "  </tbody>\n",
       "</table>\n",
       "</div>"
      ],
      "text/plain": [
       "       Company Product  TypeName   ScreenResolution  \\\n",
       "count     1275    1275      1275               1275   \n",
       "unique      19     618         6                 40   \n",
       "top       Dell  XPS 13  Notebook  Full HD 1920x1080   \n",
       "freq       291      30       707                505   \n",
       "\n",
       "                               Cpu Storage Type                    Gpu  \\\n",
       "count                         1275         1275                   1275   \n",
       "unique                         118           12                    110   \n",
       "top     Intel Core i5 7200U 2.5GHz          SSD  Intel HD Graphics 620   \n",
       "freq                           190          631                    279   \n",
       "\n",
       "             OpSys  \n",
       "count         1275  \n",
       "unique           9  \n",
       "top     Windows 10  \n",
       "freq          1048  "
      ]
     },
     "execution_count": 51,
     "metadata": {},
     "output_type": "execute_result"
    }
   ],
   "source": [
    "df.select_dtypes(include='object').describe()"
   ]
  },
  {
   "cell_type": "markdown",
   "id": "26ac7fb9-e854-4660-9a49-eedddfbb5ccf",
   "metadata": {},
   "source": [
    "# "
   ]
  },
  {
   "cell_type": "markdown",
   "id": "6caf80b0-107d-448d-84e8-888cc7b0a046",
   "metadata": {},
   "source": [
    "#### ➥ changing the type of columns"
   ]
  },
  {
   "cell_type": "code",
   "execution_count": 52,
   "id": "964506e3-acd8-4266-9a60-3a9d22ec61eb",
   "metadata": {},
   "outputs": [
    {
     "data": {
      "text/html": [
       "<div>\n",
       "<style scoped>\n",
       "    .dataframe tbody tr th:only-of-type {\n",
       "        vertical-align: middle;\n",
       "    }\n",
       "\n",
       "    .dataframe tbody tr th {\n",
       "        vertical-align: top;\n",
       "    }\n",
       "\n",
       "    .dataframe thead th {\n",
       "        text-align: right;\n",
       "    }\n",
       "</style>\n",
       "<table border=\"1\" class=\"dataframe\">\n",
       "  <thead>\n",
       "    <tr style=\"text-align: right;\">\n",
       "      <th></th>\n",
       "      <th>Company</th>\n",
       "      <th>Product</th>\n",
       "      <th>TypeName</th>\n",
       "      <th>Inches</th>\n",
       "      <th>ScreenResolution</th>\n",
       "      <th>Cpu</th>\n",
       "      <th>Ram (GB)</th>\n",
       "      <th>Storage Memory (GB)</th>\n",
       "      <th>Storage Type</th>\n",
       "      <th>Gpu</th>\n",
       "      <th>OpSys</th>\n",
       "      <th>Weight (kg)</th>\n",
       "      <th>Price_euros</th>\n",
       "    </tr>\n",
       "  </thead>\n",
       "  <tbody>\n",
       "    <tr>\n",
       "      <th>0</th>\n",
       "      <td>Apple</td>\n",
       "      <td>MacBook Pro</td>\n",
       "      <td>Ultrabook</td>\n",
       "      <td>13.30</td>\n",
       "      <td>IPS Panel Retina Display 2560x1600</td>\n",
       "      <td>Intel Core i5 2.3GHz</td>\n",
       "      <td>8</td>\n",
       "      <td>128</td>\n",
       "      <td>SSD</td>\n",
       "      <td>Intel Iris Plus Graphics 640</td>\n",
       "      <td>macOS</td>\n",
       "      <td>1.37</td>\n",
       "      <td>1,339.69</td>\n",
       "    </tr>\n",
       "    <tr>\n",
       "      <th>1</th>\n",
       "      <td>Apple</td>\n",
       "      <td>Macbook Air</td>\n",
       "      <td>Ultrabook</td>\n",
       "      <td>13.30</td>\n",
       "      <td>1440x900</td>\n",
       "      <td>Intel Core i5 1.8GHz</td>\n",
       "      <td>8</td>\n",
       "      <td>128</td>\n",
       "      <td>Flash Storage</td>\n",
       "      <td>Intel HD Graphics 6000</td>\n",
       "      <td>macOS</td>\n",
       "      <td>1.34</td>\n",
       "      <td>898.94</td>\n",
       "    </tr>\n",
       "    <tr>\n",
       "      <th>2</th>\n",
       "      <td>HP</td>\n",
       "      <td>250 G6</td>\n",
       "      <td>Notebook</td>\n",
       "      <td>15.60</td>\n",
       "      <td>Full HD 1920x1080</td>\n",
       "      <td>Intel Core i5 7200U 2.5GHz</td>\n",
       "      <td>8</td>\n",
       "      <td>256</td>\n",
       "      <td>SSD</td>\n",
       "      <td>Intel HD Graphics 620</td>\n",
       "      <td>No OS</td>\n",
       "      <td>1.86</td>\n",
       "      <td>575.00</td>\n",
       "    </tr>\n",
       "    <tr>\n",
       "      <th>3</th>\n",
       "      <td>Apple</td>\n",
       "      <td>MacBook Pro</td>\n",
       "      <td>Ultrabook</td>\n",
       "      <td>15.40</td>\n",
       "      <td>IPS Panel Retina Display 2880x1800</td>\n",
       "      <td>Intel Core i7 2.7GHz</td>\n",
       "      <td>16</td>\n",
       "      <td>512</td>\n",
       "      <td>SSD</td>\n",
       "      <td>AMD Radeon Pro 455</td>\n",
       "      <td>macOS</td>\n",
       "      <td>1.83</td>\n",
       "      <td>2,537.45</td>\n",
       "    </tr>\n",
       "    <tr>\n",
       "      <th>4</th>\n",
       "      <td>Apple</td>\n",
       "      <td>MacBook Pro</td>\n",
       "      <td>Ultrabook</td>\n",
       "      <td>13.30</td>\n",
       "      <td>IPS Panel Retina Display 2560x1600</td>\n",
       "      <td>Intel Core i5 3.1GHz</td>\n",
       "      <td>8</td>\n",
       "      <td>256</td>\n",
       "      <td>SSD</td>\n",
       "      <td>Intel Iris Plus Graphics 650</td>\n",
       "      <td>macOS</td>\n",
       "      <td>1.37</td>\n",
       "      <td>1,803.60</td>\n",
       "    </tr>\n",
       "  </tbody>\n",
       "</table>\n",
       "</div>"
      ],
      "text/plain": [
       "  Company      Product   TypeName  Inches                    ScreenResolution  \\\n",
       "0   Apple  MacBook Pro  Ultrabook   13.30  IPS Panel Retina Display 2560x1600   \n",
       "1   Apple  Macbook Air  Ultrabook   13.30                            1440x900   \n",
       "2      HP       250 G6   Notebook   15.60                   Full HD 1920x1080   \n",
       "3   Apple  MacBook Pro  Ultrabook   15.40  IPS Panel Retina Display 2880x1800   \n",
       "4   Apple  MacBook Pro  Ultrabook   13.30  IPS Panel Retina Display 2560x1600   \n",
       "\n",
       "                          Cpu  Ram (GB)  Storage Memory (GB)   Storage Type  \\\n",
       "0        Intel Core i5 2.3GHz         8                  128            SSD   \n",
       "1        Intel Core i5 1.8GHz         8                  128  Flash Storage   \n",
       "2  Intel Core i5 7200U 2.5GHz         8                  256            SSD   \n",
       "3        Intel Core i7 2.7GHz        16                  512            SSD   \n",
       "4        Intel Core i5 3.1GHz         8                  256            SSD   \n",
       "\n",
       "                            Gpu  OpSys  Weight (kg)  Price_euros  \n",
       "0  Intel Iris Plus Graphics 640  macOS         1.37     1,339.69  \n",
       "1        Intel HD Graphics 6000  macOS         1.34       898.94  \n",
       "2         Intel HD Graphics 620  No OS         1.86       575.00  \n",
       "3            AMD Radeon Pro 455  macOS         1.83     2,537.45  \n",
       "4  Intel Iris Plus Graphics 650  macOS         1.37     1,803.60  "
      ]
     },
     "execution_count": 52,
     "metadata": {},
     "output_type": "execute_result"
    }
   ],
   "source": [
    "df.head()"
   ]
  },
  {
   "cell_type": "code",
   "execution_count": 53,
   "id": "fc2404a3-dae3-4407-8e1a-c6841dd0f344",
   "metadata": {},
   "outputs": [
    {
     "name": "stdout",
     "output_type": "stream",
     "text": [
      "<class 'pandas.core.frame.DataFrame'>\n",
      "Int64Index: 1275 entries, 0 to 1274\n",
      "Data columns (total 13 columns):\n",
      " #   Column               Non-Null Count  Dtype  \n",
      "---  ------               --------------  -----  \n",
      " 0   Company              1275 non-null   object \n",
      " 1   Product              1275 non-null   object \n",
      " 2   TypeName             1275 non-null   object \n",
      " 3   Inches               1275 non-null   float64\n",
      " 4   ScreenResolution     1275 non-null   object \n",
      " 5   Cpu                  1275 non-null   object \n",
      " 6   Ram (GB)             1275 non-null   int32  \n",
      " 7   Storage Memory (GB)  1275 non-null   int64  \n",
      " 8   Storage Type         1275 non-null   object \n",
      " 9   Gpu                  1275 non-null   object \n",
      " 10  OpSys                1275 non-null   object \n",
      " 11  Weight (kg)          1275 non-null   float64\n",
      " 12  Price_euros          1275 non-null   float64\n",
      "dtypes: float64(3), int32(1), int64(1), object(8)\n",
      "memory usage: 792.4 KB\n"
     ]
    }
   ],
   "source": [
    "df.info(memory_usage='deep')"
   ]
  },
  {
   "cell_type": "code",
   "execution_count": 54,
   "id": "e0a5df49-480e-4d6f-92fe-9e277bef832a",
   "metadata": {},
   "outputs": [],
   "source": [
    "change_types = {\n",
    "    'Company':'category',\n",
    "    'TypeName':'category',\n",
    "    'ScreenResolution':'category',\n",
    "    'Cpu':'category',\n",
    "    'Storage Type':'category',\n",
    "    'Gpu':'category',\n",
    "    'OpSys':'category'\n",
    "}\n",
    "\n",
    "df = df.astype(change_types)"
   ]
  },
  {
   "cell_type": "code",
   "execution_count": 55,
   "id": "050f6001-b150-4cff-b083-f31c71ddf7ab",
   "metadata": {},
   "outputs": [
    {
     "data": {
      "text/plain": [
       "Company                category\n",
       "Product                  object\n",
       "TypeName               category\n",
       "Inches                  float64\n",
       "ScreenResolution       category\n",
       "Cpu                    category\n",
       "Ram (GB)                  int32\n",
       "Storage Memory (GB)       int64\n",
       "Storage Type           category\n",
       "Gpu                    category\n",
       "OpSys                  category\n",
       "Weight (kg)             float64\n",
       "Price_euros             float64\n",
       "dtype: object"
      ]
     },
     "execution_count": 55,
     "metadata": {},
     "output_type": "execute_result"
    }
   ],
   "source": [
    "df.dtypes"
   ]
  },
  {
   "cell_type": "code",
   "execution_count": 56,
   "id": "2ec55b45-9dbb-42d6-a85a-9a757969fdff",
   "metadata": {},
   "outputs": [
    {
     "name": "stdout",
     "output_type": "stream",
     "text": [
      "<class 'pandas.core.frame.DataFrame'>\n",
      "Int64Index: 1275 entries, 0 to 1274\n",
      "Data columns (total 13 columns):\n",
      " #   Column               Non-Null Count  Dtype   \n",
      "---  ------               --------------  -----   \n",
      " 0   Company              1275 non-null   category\n",
      " 1   Product              1275 non-null   object  \n",
      " 2   TypeName             1275 non-null   category\n",
      " 3   Inches               1275 non-null   float64 \n",
      " 4   ScreenResolution     1275 non-null   category\n",
      " 5   Cpu                  1275 non-null   category\n",
      " 6   Ram (GB)             1275 non-null   int32   \n",
      " 7   Storage Memory (GB)  1275 non-null   int64   \n",
      " 8   Storage Type         1275 non-null   category\n",
      " 9   Gpu                  1275 non-null   category\n",
      " 10  OpSys                1275 non-null   category\n",
      " 11  Weight (kg)          1275 non-null   float64 \n",
      " 12  Price_euros          1275 non-null   float64 \n",
      "dtypes: category(7), float64(3), int32(1), int64(1), object(1)\n",
      "memory usage: 220.7 KB\n"
     ]
    }
   ],
   "source": [
    "df.info(memory_usage='deep')"
   ]
  },
  {
   "cell_type": "markdown",
   "id": "77e4732d-44e9-438e-bd4d-285d82adaa4a",
   "metadata": {},
   "source": [
    "# "
   ]
  },
  {
   "cell_type": "markdown",
   "id": "fa25907f-0506-43fb-8f62-50cad678d2ab",
   "metadata": {},
   "source": [
    "# "
   ]
  },
  {
   "cell_type": "markdown",
   "id": "8f1d63f1-15ae-4085-85b0-61341f4b7d95",
   "metadata": {},
   "source": [
    "## Data Visualization"
   ]
  },
  {
   "cell_type": "markdown",
   "id": "564fcd3b-a654-40ad-a55e-ac4d9f00c535",
   "metadata": {},
   "source": [
    "#### - What company has the most variety of laptops?\n",
    "#### - What is the average price of a laptop by the company?\n",
    "#### - What is the price of the most expensive laptop of each company?\n",
    "#### - What are the best top 5 Laptops reported at price?"
   ]
  },
  {
   "cell_type": "markdown",
   "id": "133b1e43-8d6d-4dc1-bccf-f48da4bb9285",
   "metadata": {},
   "source": [
    "# "
   ]
  },
  {
   "cell_type": "markdown",
   "id": "0ad8e2a4-341b-470c-a425-23990ed3a913",
   "metadata": {},
   "source": [
    "### ➥ What company has the most variety of laptops?"
   ]
  },
  {
   "cell_type": "code",
   "execution_count": 57,
   "id": "c1e094be-bb69-480e-b08d-f570ccf9dc03",
   "metadata": {},
   "outputs": [],
   "source": [
    "count_laptops = df['Company'].value_counts(sort=True, ascending=True)"
   ]
  },
  {
   "cell_type": "code",
   "execution_count": 58,
   "id": "59b2627e-7da7-41e1-b182-e3b4dd0f8341",
   "metadata": {},
   "outputs": [
    {
     "data": {
      "image/png": "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\n",
      "text/plain": [
       "<Figure size 990x550 with 1 Axes>"
      ]
     },
     "metadata": {
      "needs_background": "light"
     },
     "output_type": "display_data"
    }
   ],
   "source": [
    "fig, ax = plt.subplots(figsize=(9,5), dpi=110)\n",
    "\n",
    "plt.barh(count_laptops.index, count_laptops)\n",
    "\n",
    "plt.title('\\nNumber of Laptops by the Company\\n', color='#180C48', fontsize=12, fontweight='bold')\n",
    "plt.xticks(ticks= np.arange(0, 351, 50))\n",
    "\n",
    "for idx, val in enumerate(count_laptops):\n",
    "    ax.text(val+2, idx, str(val), va='center', fontsize=9)\n",
    "\n",
    "\n",
    "\n",
    "ax.set_axisbelow(True)\n",
    "ax.grid(color='#D1D1D1', linestyle='dotted')\n",
    "plt.show()\n"
   ]
  },
  {
   "cell_type": "code",
   "execution_count": 59,
   "id": "92c69a13-62e2-4892-b3de-bc9ab999d228",
   "metadata": {},
   "outputs": [],
   "source": [
    "num_laptops = count_laptops.sort_values(ascending=False)\n",
    "num_laptops = num_laptops.rename('Number of Laptops')"
   ]
  },
  {
   "cell_type": "code",
   "execution_count": 60,
   "id": "01da4d47-99db-49e9-9801-f325842b9d99",
   "metadata": {},
   "outputs": [],
   "source": [
    "percent_laptops = count_laptops.sort_values(ascending=False) / count_laptops.sum() * 100\n",
    "percent_laptops = percent_laptops.apply(lambda x: str(round(x, 2)) + '%')\n",
    "percent_laptops = percent_laptops.rename('Percentage of Laptops')"
   ]
  },
  {
   "cell_type": "code",
   "execution_count": 61,
   "id": "b228cf3c-675b-48ee-9681-bf9b7195819a",
   "metadata": {},
   "outputs": [],
   "source": [
    "df_num_laptops = pd.concat([num_laptops, percent_laptops], axis=1)"
   ]
  },
  {
   "cell_type": "code",
   "execution_count": 62,
   "id": "a42d4283-6d7d-459e-b4df-c58d4448f965",
   "metadata": {},
   "outputs": [
    {
     "name": "stdout",
     "output_type": "stream",
     "text": [
      "\n",
      " -> The best 5 companies with a lot of laptop variety are:\n",
      "\n"
     ]
    },
    {
     "data": {
      "text/html": [
       "<div>\n",
       "<style scoped>\n",
       "    .dataframe tbody tr th:only-of-type {\n",
       "        vertical-align: middle;\n",
       "    }\n",
       "\n",
       "    .dataframe tbody tr th {\n",
       "        vertical-align: top;\n",
       "    }\n",
       "\n",
       "    .dataframe thead th {\n",
       "        text-align: right;\n",
       "    }\n",
       "</style>\n",
       "<table border=\"1\" class=\"dataframe\">\n",
       "  <thead>\n",
       "    <tr style=\"text-align: right;\">\n",
       "      <th></th>\n",
       "      <th>Number of Laptops</th>\n",
       "      <th>Percentage of Laptops</th>\n",
       "    </tr>\n",
       "  </thead>\n",
       "  <tbody>\n",
       "    <tr>\n",
       "      <th>Dell</th>\n",
       "      <td>291</td>\n",
       "      <td>22.82%</td>\n",
       "    </tr>\n",
       "    <tr>\n",
       "      <th>Lenovo</th>\n",
       "      <td>289</td>\n",
       "      <td>22.67%</td>\n",
       "    </tr>\n",
       "    <tr>\n",
       "      <th>HP</th>\n",
       "      <td>268</td>\n",
       "      <td>21.02%</td>\n",
       "    </tr>\n",
       "    <tr>\n",
       "      <th>Asus</th>\n",
       "      <td>152</td>\n",
       "      <td>11.92%</td>\n",
       "    </tr>\n",
       "    <tr>\n",
       "      <th>Acer</th>\n",
       "      <td>101</td>\n",
       "      <td>7.92%</td>\n",
       "    </tr>\n",
       "  </tbody>\n",
       "</table>\n",
       "</div>"
      ],
      "text/plain": [
       "        Number of Laptops Percentage of Laptops\n",
       "Dell                  291                22.82%\n",
       "Lenovo                289                22.67%\n",
       "HP                    268                21.02%\n",
       "Asus                  152                11.92%\n",
       "Acer                  101                 7.92%"
      ]
     },
     "execution_count": 62,
     "metadata": {},
     "output_type": "execute_result"
    }
   ],
   "source": [
    "print('\\n -> The best 5 companies with a lot of laptop variety are:\\n')\n",
    "df_num_laptops[:5]"
   ]
  },
  {
   "cell_type": "markdown",
   "id": "a820fa32-f468-4cfd-bcdf-09ce4c837833",
   "metadata": {},
   "source": [
    "# "
   ]
  },
  {
   "cell_type": "markdown",
   "id": "a89edca9-4175-4a2b-8542-3639b91696d2",
   "metadata": {},
   "source": [
    "### ➥ What's the average price of a laptop by the company?"
   ]
  },
  {
   "cell_type": "code",
   "execution_count": 63,
   "id": "59eff0c3-44ab-4669-b4b8-32f592ebfe9c",
   "metadata": {},
   "outputs": [],
   "source": [
    "average_price = df.loc[:, ['Company','Price_euros']].groupby('Company').mean()"
   ]
  },
  {
   "cell_type": "code",
   "execution_count": 64,
   "id": "772cd8a4-f399-4463-b3fc-caa59f904832",
   "metadata": {},
   "outputs": [],
   "source": [
    "average_price = average_price.sort_values('Price_euros')"
   ]
  },
  {
   "cell_type": "code",
   "execution_count": 65,
   "id": "a244284e-4fc9-4167-a03c-ca9c570e559c",
   "metadata": {},
   "outputs": [
    {
     "data": {
      "text/html": [
       "<div>\n",
       "<style scoped>\n",
       "    .dataframe tbody tr th:only-of-type {\n",
       "        vertical-align: middle;\n",
       "    }\n",
       "\n",
       "    .dataframe tbody tr th {\n",
       "        vertical-align: top;\n",
       "    }\n",
       "\n",
       "    .dataframe thead th {\n",
       "        text-align: right;\n",
       "    }\n",
       "</style>\n",
       "<table border=\"1\" class=\"dataframe\">\n",
       "  <thead>\n",
       "    <tr style=\"text-align: right;\">\n",
       "      <th></th>\n",
       "      <th>Price_euros</th>\n",
       "    </tr>\n",
       "    <tr>\n",
       "      <th>Company</th>\n",
       "      <th></th>\n",
       "    </tr>\n",
       "  </thead>\n",
       "  <tbody>\n",
       "    <tr>\n",
       "      <th>Vero</th>\n",
       "      <td>217.43</td>\n",
       "    </tr>\n",
       "    <tr>\n",
       "      <th>Mediacom</th>\n",
       "      <td>295.00</td>\n",
       "    </tr>\n",
       "    <tr>\n",
       "      <th>Chuwi</th>\n",
       "      <td>314.30</td>\n",
       "    </tr>\n",
       "    <tr>\n",
       "      <th>Acer</th>\n",
       "      <td>633.46</td>\n",
       "    </tr>\n",
       "    <tr>\n",
       "      <th>Fujitsu</th>\n",
       "      <td>729.00</td>\n",
       "    </tr>\n",
       "    <tr>\n",
       "      <th>HP</th>\n",
       "      <td>1,080.31</td>\n",
       "    </tr>\n",
       "    <tr>\n",
       "      <th>Lenovo</th>\n",
       "      <td>1,093.86</td>\n",
       "    </tr>\n",
       "    <tr>\n",
       "      <th>Asus</th>\n",
       "      <td>1,123.83</td>\n",
       "    </tr>\n",
       "    <tr>\n",
       "      <th>Xiaomi</th>\n",
       "      <td>1,133.46</td>\n",
       "    </tr>\n",
       "    <tr>\n",
       "      <th>Dell</th>\n",
       "      <td>1,199.23</td>\n",
       "    </tr>\n",
       "    <tr>\n",
       "      <th>Toshiba</th>\n",
       "      <td>1,267.81</td>\n",
       "    </tr>\n",
       "    <tr>\n",
       "      <th>Samsung</th>\n",
       "      <td>1,413.44</td>\n",
       "    </tr>\n",
       "    <tr>\n",
       "      <th>Huawei</th>\n",
       "      <td>1,424.00</td>\n",
       "    </tr>\n",
       "    <tr>\n",
       "      <th>Apple</th>\n",
       "      <td>1,564.20</td>\n",
       "    </tr>\n",
       "    <tr>\n",
       "      <th>Microsoft</th>\n",
       "      <td>1,612.31</td>\n",
       "    </tr>\n",
       "    <tr>\n",
       "      <th>Google</th>\n",
       "      <td>1,677.67</td>\n",
       "    </tr>\n",
       "    <tr>\n",
       "      <th>MSI</th>\n",
       "      <td>1,728.91</td>\n",
       "    </tr>\n",
       "    <tr>\n",
       "      <th>LG</th>\n",
       "      <td>2,099.00</td>\n",
       "    </tr>\n",
       "    <tr>\n",
       "      <th>Razer</th>\n",
       "      <td>3,346.14</td>\n",
       "    </tr>\n",
       "  </tbody>\n",
       "</table>\n",
       "</div>"
      ],
      "text/plain": [
       "           Price_euros\n",
       "Company               \n",
       "Vero            217.43\n",
       "Mediacom        295.00\n",
       "Chuwi           314.30\n",
       "Acer            633.46\n",
       "Fujitsu         729.00\n",
       "HP            1,080.31\n",
       "Lenovo        1,093.86\n",
       "Asus          1,123.83\n",
       "Xiaomi        1,133.46\n",
       "Dell          1,199.23\n",
       "Toshiba       1,267.81\n",
       "Samsung       1,413.44\n",
       "Huawei        1,424.00\n",
       "Apple         1,564.20\n",
       "Microsoft     1,612.31\n",
       "Google        1,677.67\n",
       "MSI           1,728.91\n",
       "LG            2,099.00\n",
       "Razer         3,346.14"
      ]
     },
     "execution_count": 65,
     "metadata": {},
     "output_type": "execute_result"
    }
   ],
   "source": [
    "average_price"
   ]
  },
  {
   "cell_type": "code",
   "execution_count": 66,
   "id": "090b32a1-2901-4847-a931-fd00b7958b45",
   "metadata": {},
   "outputs": [],
   "source": [
    "average_price = average_price['Price_euros'].apply(lambda x: np.round(x, 2))"
   ]
  },
  {
   "cell_type": "code",
   "execution_count": 67,
   "id": "38bdfe4b-654d-4f8f-9561-9727dbedfc67",
   "metadata": {},
   "outputs": [
    {
     "data": {
      "text/plain": [
       "Company\n",
       "Vero          217.42\n",
       "Mediacom      295.00\n",
       "Chuwi         314.30\n",
       "Acer          633.46\n",
       "Fujitsu       729.00\n",
       "HP          1,080.31\n",
       "Lenovo      1,093.86\n",
       "Asus        1,123.83\n",
       "Xiaomi      1,133.46\n",
       "Dell        1,199.23\n",
       "Toshiba     1,267.81\n",
       "Samsung     1,413.44\n",
       "Huawei      1,424.00\n",
       "Apple       1,564.20\n",
       "Microsoft   1,612.31\n",
       "Google      1,677.67\n",
       "MSI         1,728.91\n",
       "LG          2,099.00\n",
       "Razer       3,346.14\n",
       "Name: Price_euros, dtype: float64"
      ]
     },
     "execution_count": 67,
     "metadata": {},
     "output_type": "execute_result"
    }
   ],
   "source": [
    "average_price"
   ]
  },
  {
   "cell_type": "code",
   "execution_count": 68,
   "id": "154df819-d037-4c27-b81c-c9274c7434b5",
   "metadata": {},
   "outputs": [],
   "source": [
    "average_price_text_format = average_price.apply(lambda x: '€' + str(x) if len(str(x).split('.')[-1]) == 2 else '€' + str(x) + '0') "
   ]
  },
  {
   "cell_type": "code",
   "execution_count": 69,
   "id": "db104771-19c2-400c-9d03-7f3b34825afd",
   "metadata": {},
   "outputs": [
    {
     "data": {
      "image/png": "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\n",
      "text/plain": [
       "<Figure size 990x660 with 1 Axes>"
      ]
     },
     "metadata": {
      "needs_background": "light"
     },
     "output_type": "display_data"
    }
   ],
   "source": [
    "fig, ax = plt.subplots(figsize=(9,6), dpi=110)\n",
    "\n",
    "plt.barh(average_price.index, average_price)\n",
    "\n",
    "plt.title('\\nThe average Price of a Laptop by the Company\\n', color='#180C48', fontsize=12, fontweight='bold')\n",
    "plt.xticks(ticks=np.arange(0, 4001, 500))\n",
    "\n",
    "for (idx, val), price in zip(enumerate(average_price), average_price_text_format):\n",
    "    ax.text(val+20, idx, price, va='center', color='#5F1414', fontweight='light')\n",
    "\n",
    "\n",
    "ax.set_axisbelow(True)\n",
    "ax.grid(color='#D1D1D1', linestyle='dotted')\n",
    "plt.show()"
   ]
  },
  {
   "cell_type": "markdown",
   "id": "118d1da3-dcbf-49f4-a9b2-4b7d760fb9f3",
   "metadata": {},
   "source": [
    "# "
   ]
  },
  {
   "cell_type": "markdown",
   "id": "0db23854-baac-4ee4-9437-1bfabdd6a044",
   "metadata": {},
   "source": [
    "### ➥ What is the price of the most expensive laptop of each company?"
   ]
  },
  {
   "cell_type": "code",
   "execution_count": 70,
   "id": "73129908-89e2-4dd4-9ca2-420965327a42",
   "metadata": {},
   "outputs": [],
   "source": [
    "max_price = df.groupby('Company')['Price_euros'].max()\n",
    "max_price = max_price.rename('Max_price')"
   ]
  },
  {
   "cell_type": "code",
   "execution_count": 71,
   "id": "2fa75328-3380-49dc-b9df-8a41552f7496",
   "metadata": {},
   "outputs": [],
   "source": [
    "min_price = df.groupby('Company')['Price_euros'].min()\n",
    "min_price = min_price.rename('Min_price')"
   ]
  },
  {
   "cell_type": "code",
   "execution_count": 72,
   "id": "82f78137-aa12-4462-aba6-1bf09164e07a",
   "metadata": {},
   "outputs": [],
   "source": [
    "most_expensive_and_cheapest = pd.concat([ min_price, max_price], axis=1)"
   ]
  },
  {
   "cell_type": "code",
   "execution_count": 73,
   "id": "37f09f7b-5f59-4128-8de3-9de0cbc21d69",
   "metadata": {},
   "outputs": [],
   "source": [
    "most_expensive_and_cheapest.sort_values('Max_price', ascending=False, inplace=True)"
   ]
  },
  {
   "cell_type": "code",
   "execution_count": 74,
   "id": "56fa1890-485b-4642-90fc-106084d17194",
   "metadata": {},
   "outputs": [
    {
     "data": {
      "text/html": [
       "<div>\n",
       "<style scoped>\n",
       "    .dataframe tbody tr th:only-of-type {\n",
       "        vertical-align: middle;\n",
       "    }\n",
       "\n",
       "    .dataframe tbody tr th {\n",
       "        vertical-align: top;\n",
       "    }\n",
       "\n",
       "    .dataframe thead th {\n",
       "        text-align: right;\n",
       "    }\n",
       "</style>\n",
       "<table border=\"1\" class=\"dataframe\">\n",
       "  <thead>\n",
       "    <tr style=\"text-align: right;\">\n",
       "      <th></th>\n",
       "      <th>Min_price</th>\n",
       "      <th>Max_price</th>\n",
       "    </tr>\n",
       "    <tr>\n",
       "      <th>Company</th>\n",
       "      <th></th>\n",
       "      <th></th>\n",
       "    </tr>\n",
       "  </thead>\n",
       "  <tbody>\n",
       "    <tr>\n",
       "      <th>Razer</th>\n",
       "      <td>1,029.00</td>\n",
       "      <td>6,099.00</td>\n",
       "    </tr>\n",
       "    <tr>\n",
       "      <th>Lenovo</th>\n",
       "      <td>229.00</td>\n",
       "      <td>4,899.00</td>\n",
       "    </tr>\n",
       "    <tr>\n",
       "      <th>HP</th>\n",
       "      <td>209.00</td>\n",
       "      <td>4,389.00</td>\n",
       "    </tr>\n",
       "    <tr>\n",
       "      <th>Asus</th>\n",
       "      <td>191.90</td>\n",
       "      <td>3,975.00</td>\n",
       "    </tr>\n",
       "    <tr>\n",
       "      <th>Dell</th>\n",
       "      <td>274.90</td>\n",
       "      <td>3,659.40</td>\n",
       "    </tr>\n",
       "    <tr>\n",
       "      <th>Apple</th>\n",
       "      <td>898.94</td>\n",
       "      <td>2,858.00</td>\n",
       "    </tr>\n",
       "    <tr>\n",
       "      <th>Toshiba</th>\n",
       "      <td>447.00</td>\n",
       "      <td>2,799.00</td>\n",
       "    </tr>\n",
       "    <tr>\n",
       "      <th>MSI</th>\n",
       "      <td>839.00</td>\n",
       "      <td>2,799.00</td>\n",
       "    </tr>\n",
       "    <tr>\n",
       "      <th>Acer</th>\n",
       "      <td>174.00</td>\n",
       "      <td>2,599.00</td>\n",
       "    </tr>\n",
       "    <tr>\n",
       "      <th>Microsoft</th>\n",
       "      <td>989.00</td>\n",
       "      <td>2,589.00</td>\n",
       "    </tr>\n",
       "    <tr>\n",
       "      <th>LG</th>\n",
       "      <td>1,899.00</td>\n",
       "      <td>2,299.00</td>\n",
       "    </tr>\n",
       "    <tr>\n",
       "      <th>Google</th>\n",
       "      <td>1,275.00</td>\n",
       "      <td>2,199.00</td>\n",
       "    </tr>\n",
       "    <tr>\n",
       "      <th>Samsung</th>\n",
       "      <td>269.00</td>\n",
       "      <td>1,849.00</td>\n",
       "    </tr>\n",
       "    <tr>\n",
       "      <th>Huawei</th>\n",
       "      <td>1,349.00</td>\n",
       "      <td>1,499.00</td>\n",
       "    </tr>\n",
       "    <tr>\n",
       "      <th>Xiaomi</th>\n",
       "      <td>935.00</td>\n",
       "      <td>1,399.95</td>\n",
       "    </tr>\n",
       "    <tr>\n",
       "      <th>Fujitsu</th>\n",
       "      <td>649.00</td>\n",
       "      <td>799.00</td>\n",
       "    </tr>\n",
       "    <tr>\n",
       "      <th>Chuwi</th>\n",
       "      <td>244.99</td>\n",
       "      <td>449.00</td>\n",
       "    </tr>\n",
       "    <tr>\n",
       "      <th>Mediacom</th>\n",
       "      <td>239.00</td>\n",
       "      <td>389.00</td>\n",
       "    </tr>\n",
       "    <tr>\n",
       "      <th>Vero</th>\n",
       "      <td>196.00</td>\n",
       "      <td>260.00</td>\n",
       "    </tr>\n",
       "  </tbody>\n",
       "</table>\n",
       "</div>"
      ],
      "text/plain": [
       "           Min_price  Max_price\n",
       "Company                        \n",
       "Razer       1,029.00   6,099.00\n",
       "Lenovo        229.00   4,899.00\n",
       "HP            209.00   4,389.00\n",
       "Asus          191.90   3,975.00\n",
       "Dell          274.90   3,659.40\n",
       "Apple         898.94   2,858.00\n",
       "Toshiba       447.00   2,799.00\n",
       "MSI           839.00   2,799.00\n",
       "Acer          174.00   2,599.00\n",
       "Microsoft     989.00   2,589.00\n",
       "LG          1,899.00   2,299.00\n",
       "Google      1,275.00   2,199.00\n",
       "Samsung       269.00   1,849.00\n",
       "Huawei      1,349.00   1,499.00\n",
       "Xiaomi        935.00   1,399.95\n",
       "Fujitsu       649.00     799.00\n",
       "Chuwi         244.99     449.00\n",
       "Mediacom      239.00     389.00\n",
       "Vero          196.00     260.00"
      ]
     },
     "execution_count": 74,
     "metadata": {},
     "output_type": "execute_result"
    }
   ],
   "source": [
    "most_expensive_and_cheapest"
   ]
  },
  {
   "cell_type": "code",
   "execution_count": 75,
   "id": "5b193509-41ae-4aa7-b33a-44a52b3d2206",
   "metadata": {},
   "outputs": [
    {
     "data": {
      "text/plain": [
       "(19, 2)"
      ]
     },
     "execution_count": 75,
     "metadata": {},
     "output_type": "execute_result"
    }
   ],
   "source": [
    "most_expensive_and_cheapest.shape"
   ]
  },
  {
   "cell_type": "code",
   "execution_count": 76,
   "id": "bc84ff21-9fa0-412d-80fa-5db5d91b3b13",
   "metadata": {},
   "outputs": [
    {
     "data": {
      "image/png": "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\n",
      "text/plain": [
       "<Figure size 1320x660 with 1 Axes>"
      ]
     },
     "metadata": {
      "needs_background": "light"
     },
     "output_type": "display_data"
    },
    {
     "name": "stdout",
     "output_type": "stream",
     "text": [
      "\n",
      " -> A quick note: The Prices from the graph are the maximum price of a laptop by the company!\n",
      "\n"
     ]
    }
   ],
   "source": [
    "fig, ax = plt.subplots(figsize=(12,6), dpi=110)\n",
    "\n",
    "plt.bar(most_expensive_and_cheapest.index, most_expensive_and_cheapest['Max_price'], label='The most expensive')\n",
    "plt.bar(most_expensive_and_cheapest.index, most_expensive_and_cheapest['Min_price'], label='The cheapest')\n",
    "\n",
    "\n",
    "plt.title('\\nThe price of the most expensive laptop of each company\\n', color='#180C48', fontsize=12, fontweight='bold')\n",
    "plt.xticks(rotation=45)\n",
    "plt.yticks(ticks=np.arange(0, 8001, 2000))\n",
    "\n",
    "\n",
    "for idx, val in enumerate(most_expensive_and_cheapest['Max_price']):\n",
    "    ax.text(idx, val+80, f'€{round(val):,}', ha='center', color='#5F1414', fontweight='light', fontsize=8)\n",
    "\n",
    "\n",
    "    \n",
    "plt.legend()\n",
    "ax.set_axisbelow(True)\n",
    "ax.grid(color='#D1D1D1', linestyle='dotted')\n",
    "plt.show()\n",
    "\n",
    "print('\\n -> A quick note: The Prices from the graph are the maximum price of a laptop by the company!\\n')"
   ]
  },
  {
   "cell_type": "markdown",
   "id": "b6b6efd2-6447-4070-ad85-86cfe2bb3f43",
   "metadata": {},
   "source": [
    "# "
   ]
  },
  {
   "cell_type": "markdown",
   "id": "8900a4b9-6c2b-43c9-a254-6ae2873dadb6",
   "metadata": {},
   "source": [
    "### ➥ What are the best top 5 Laptops?"
   ]
  },
  {
   "cell_type": "code",
   "execution_count": 77,
   "id": "6500c81d-55de-422a-8594-087c882e6a6d",
   "metadata": {},
   "outputs": [],
   "source": [
    "top5_laptops = df.sort_values('Price_euros', ascending=False).head(5)"
   ]
  },
  {
   "cell_type": "code",
   "execution_count": 78,
   "id": "bb163e26-fdb8-472d-901a-b963b001fa6a",
   "metadata": {},
   "outputs": [
    {
     "data": {
      "text/html": [
       "<div>\n",
       "<style scoped>\n",
       "    .dataframe tbody tr th:only-of-type {\n",
       "        vertical-align: middle;\n",
       "    }\n",
       "\n",
       "    .dataframe tbody tr th {\n",
       "        vertical-align: top;\n",
       "    }\n",
       "\n",
       "    .dataframe thead th {\n",
       "        text-align: right;\n",
       "    }\n",
       "</style>\n",
       "<table border=\"1\" class=\"dataframe\">\n",
       "  <thead>\n",
       "    <tr style=\"text-align: right;\">\n",
       "      <th></th>\n",
       "      <th>Company</th>\n",
       "      <th>Product</th>\n",
       "      <th>TypeName</th>\n",
       "      <th>Inches</th>\n",
       "      <th>ScreenResolution</th>\n",
       "      <th>Cpu</th>\n",
       "      <th>Ram (GB)</th>\n",
       "      <th>Storage Memory (GB)</th>\n",
       "      <th>Storage Type</th>\n",
       "      <th>Gpu</th>\n",
       "      <th>OpSys</th>\n",
       "      <th>Weight (kg)</th>\n",
       "      <th>Price_euros</th>\n",
       "    </tr>\n",
       "  </thead>\n",
       "  <tbody>\n",
       "    <tr>\n",
       "      <th>196</th>\n",
       "      <td>Razer</td>\n",
       "      <td>Blade Pro</td>\n",
       "      <td>Gaming</td>\n",
       "      <td>17.30</td>\n",
       "      <td>4K Ultra HD / Touchscreen 3840x2160</td>\n",
       "      <td>Intel Core i7 7820HK 2.9GHz</td>\n",
       "      <td>32</td>\n",
       "      <td>1000</td>\n",
       "      <td>SSD</td>\n",
       "      <td>Nvidia GeForce GTX 1080</td>\n",
       "      <td>Windows 10</td>\n",
       "      <td>3.49</td>\n",
       "      <td>6,099.00</td>\n",
       "    </tr>\n",
       "    <tr>\n",
       "      <th>830</th>\n",
       "      <td>Razer</td>\n",
       "      <td>Blade Pro</td>\n",
       "      <td>Gaming</td>\n",
       "      <td>17.30</td>\n",
       "      <td>4K Ultra HD / Touchscreen 3840x2160</td>\n",
       "      <td>Intel Core i7 7820HK 2.9GHz</td>\n",
       "      <td>32</td>\n",
       "      <td>512</td>\n",
       "      <td>SSD</td>\n",
       "      <td>Nvidia GeForce GTX 1080</td>\n",
       "      <td>Windows 10</td>\n",
       "      <td>3.49</td>\n",
       "      <td>5,499.00</td>\n",
       "    </tr>\n",
       "    <tr>\n",
       "      <th>610</th>\n",
       "      <td>Lenovo</td>\n",
       "      <td>Thinkpad P51</td>\n",
       "      <td>Notebook</td>\n",
       "      <td>15.60</td>\n",
       "      <td>IPS Panel 4K Ultra HD 3840x2160</td>\n",
       "      <td>Intel Xeon E3-1535M v6 3.1GHz</td>\n",
       "      <td>32</td>\n",
       "      <td>1000</td>\n",
       "      <td>SSD</td>\n",
       "      <td>Nvidia Quadro M2200M</td>\n",
       "      <td>Windows 10</td>\n",
       "      <td>2.50</td>\n",
       "      <td>4,899.00</td>\n",
       "    </tr>\n",
       "    <tr>\n",
       "      <th>749</th>\n",
       "      <td>HP</td>\n",
       "      <td>Zbook 17</td>\n",
       "      <td>Workstation</td>\n",
       "      <td>17.30</td>\n",
       "      <td>IPS Panel Full HD 1920x1080</td>\n",
       "      <td>Intel Xeon E3-1535M v5 2.9GHz</td>\n",
       "      <td>16</td>\n",
       "      <td>256</td>\n",
       "      <td>SSD</td>\n",
       "      <td>Nvidia Quadro M2000M</td>\n",
       "      <td>Windows 7</td>\n",
       "      <td>3.00</td>\n",
       "      <td>4,389.00</td>\n",
       "    </tr>\n",
       "    <tr>\n",
       "      <th>1066</th>\n",
       "      <td>Asus</td>\n",
       "      <td>ROG G701VO</td>\n",
       "      <td>Gaming</td>\n",
       "      <td>17.30</td>\n",
       "      <td>IPS Panel Full HD 1920x1080</td>\n",
       "      <td>Intel Core i7 6820HK 2.7GHz</td>\n",
       "      <td>64</td>\n",
       "      <td>1000</td>\n",
       "      <td>SSD</td>\n",
       "      <td>Nvidia GeForce GTX 980</td>\n",
       "      <td>Windows 10</td>\n",
       "      <td>3.58</td>\n",
       "      <td>3,975.00</td>\n",
       "    </tr>\n",
       "  </tbody>\n",
       "</table>\n",
       "</div>"
      ],
      "text/plain": [
       "     Company       Product     TypeName  Inches  \\\n",
       "196    Razer     Blade Pro       Gaming   17.30   \n",
       "830    Razer     Blade Pro       Gaming   17.30   \n",
       "610   Lenovo  Thinkpad P51     Notebook   15.60   \n",
       "749       HP      Zbook 17  Workstation   17.30   \n",
       "1066    Asus    ROG G701VO       Gaming   17.30   \n",
       "\n",
       "                         ScreenResolution                            Cpu  \\\n",
       "196   4K Ultra HD / Touchscreen 3840x2160    Intel Core i7 7820HK 2.9GHz   \n",
       "830   4K Ultra HD / Touchscreen 3840x2160    Intel Core i7 7820HK 2.9GHz   \n",
       "610       IPS Panel 4K Ultra HD 3840x2160  Intel Xeon E3-1535M v6 3.1GHz   \n",
       "749           IPS Panel Full HD 1920x1080  Intel Xeon E3-1535M v5 2.9GHz   \n",
       "1066          IPS Panel Full HD 1920x1080    Intel Core i7 6820HK 2.7GHz   \n",
       "\n",
       "      Ram (GB)  Storage Memory (GB) Storage Type                      Gpu  \\\n",
       "196         32                 1000          SSD  Nvidia GeForce GTX 1080   \n",
       "830         32                  512          SSD  Nvidia GeForce GTX 1080   \n",
       "610         32                 1000          SSD     Nvidia Quadro M2200M   \n",
       "749         16                  256          SSD     Nvidia Quadro M2000M   \n",
       "1066        64                 1000          SSD  Nvidia GeForce GTX 980    \n",
       "\n",
       "           OpSys  Weight (kg)  Price_euros  \n",
       "196   Windows 10         3.49     6,099.00  \n",
       "830   Windows 10         3.49     5,499.00  \n",
       "610   Windows 10         2.50     4,899.00  \n",
       "749    Windows 7         3.00     4,389.00  \n",
       "1066  Windows 10         3.58     3,975.00  "
      ]
     },
     "execution_count": 78,
     "metadata": {},
     "output_type": "execute_result"
    }
   ],
   "source": [
    "top5_laptops"
   ]
  },
  {
   "cell_type": "code",
   "execution_count": 79,
   "id": "f0d84f32-ab22-4f25-831e-64e9d1d8ce8b",
   "metadata": {},
   "outputs": [],
   "source": [
    "top5_laptops['Laptop'] = top5_laptops['Company'].astype('object') + ' ' + top5_laptops['Product'].astype('object')"
   ]
  },
  {
   "cell_type": "code",
   "execution_count": 80,
   "id": "044dd174-21e2-4fc2-bd18-830508369137",
   "metadata": {},
   "outputs": [],
   "source": [
    "top5_laptops = top5_laptops.loc[:, ['Laptop', 'Price_euros']]\n",
    "top5_laptops = top5_laptops.reset_index(drop=True)"
   ]
  },
  {
   "cell_type": "code",
   "execution_count": 81,
   "id": "2dde182a-411f-4606-9a65-f006d792eeea",
   "metadata": {},
   "outputs": [],
   "source": [
    "condition = top5_laptops['Price_euros'] == 6099.00\n",
    "\n",
    "top5_laptops.loc[condition, 'Laptop'] = 'Razer Blade Pro '"
   ]
  },
  {
   "cell_type": "code",
   "execution_count": 82,
   "id": "4ff4d540-9c84-4d0f-8858-1165f51e24a4",
   "metadata": {},
   "outputs": [
    {
     "data": {
      "text/html": [
       "<div>\n",
       "<style scoped>\n",
       "    .dataframe tbody tr th:only-of-type {\n",
       "        vertical-align: middle;\n",
       "    }\n",
       "\n",
       "    .dataframe tbody tr th {\n",
       "        vertical-align: top;\n",
       "    }\n",
       "\n",
       "    .dataframe thead th {\n",
       "        text-align: right;\n",
       "    }\n",
       "</style>\n",
       "<table border=\"1\" class=\"dataframe\">\n",
       "  <thead>\n",
       "    <tr style=\"text-align: right;\">\n",
       "      <th></th>\n",
       "      <th>Laptop</th>\n",
       "      <th>Price_euros</th>\n",
       "    </tr>\n",
       "  </thead>\n",
       "  <tbody>\n",
       "    <tr>\n",
       "      <th>0</th>\n",
       "      <td>Razer Blade Pro</td>\n",
       "      <td>6,099.00</td>\n",
       "    </tr>\n",
       "    <tr>\n",
       "      <th>1</th>\n",
       "      <td>Razer Blade Pro</td>\n",
       "      <td>5,499.00</td>\n",
       "    </tr>\n",
       "    <tr>\n",
       "      <th>2</th>\n",
       "      <td>Lenovo Thinkpad P51</td>\n",
       "      <td>4,899.00</td>\n",
       "    </tr>\n",
       "    <tr>\n",
       "      <th>3</th>\n",
       "      <td>HP Zbook 17</td>\n",
       "      <td>4,389.00</td>\n",
       "    </tr>\n",
       "    <tr>\n",
       "      <th>4</th>\n",
       "      <td>Asus ROG G701VO</td>\n",
       "      <td>3,975.00</td>\n",
       "    </tr>\n",
       "  </tbody>\n",
       "</table>\n",
       "</div>"
      ],
      "text/plain": [
       "                Laptop  Price_euros\n",
       "0     Razer Blade Pro      6,099.00\n",
       "1      Razer Blade Pro     5,499.00\n",
       "2  Lenovo Thinkpad P51     4,899.00\n",
       "3          HP Zbook 17     4,389.00\n",
       "4      Asus ROG G701VO     3,975.00"
      ]
     },
     "execution_count": 82,
     "metadata": {},
     "output_type": "execute_result"
    }
   ],
   "source": [
    "top5_laptops"
   ]
  },
  {
   "cell_type": "code",
   "execution_count": 83,
   "id": "c613a36b-0168-46bf-b723-08e692b715e1",
   "metadata": {},
   "outputs": [
    {
     "data": {
      "image/png": "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\n",
      "text/plain": [
       "<Figure size 720x450 with 1 Axes>"
      ]
     },
     "metadata": {
      "needs_background": "light"
     },
     "output_type": "display_data"
    }
   ],
   "source": [
    "fig, ax = plt.subplots(figsize=(8,5), dpi=90)\n",
    "\n",
    "\n",
    "plt.bar(top5_laptops['Laptop'], top5_laptops['Price_euros'])\n",
    "\n",
    "\n",
    "plt.title('\\nTop 5 Best Laptops\\n', color='#180C48', fontsize=12, fontweight='bold')\n",
    "plt.xticks(rotation=25)\n",
    "plt.yticks(ticks=np.arange(0, 8001, 2000))\n",
    "\n",
    "for idx, val in enumerate(top5_laptops['Price_euros']):\n",
    "    ax.text(idx, val+80, f'€{round(val):,}', ha='center', color='#5F1414', fontweight='light', fontsize=11.8)\n",
    "\n",
    "\n",
    "ax.set_axisbelow(True)\n",
    "ax.grid(color='#D1D1D1', linestyle='dotted')\n",
    "plt.show()"
   ]
  },
  {
   "cell_type": "markdown",
   "id": "89e72217-104c-4fa4-89c7-cfa57746118e",
   "metadata": {},
   "source": [
    "# "
   ]
  }
 ],
 "metadata": {
  "kernelspec": {
   "display_name": "Python 3 (ipykernel)",
   "language": "python",
   "name": "python3"
  },
  "language_info": {
   "codemirror_mode": {
    "name": "ipython",
    "version": 3
   },
   "file_extension": ".py",
   "mimetype": "text/x-python",
   "name": "python",
   "nbconvert_exporter": "python",
   "pygments_lexer": "ipython3",
   "version": "3.9.7"
  }
 },
 "nbformat": 4,
 "nbformat_minor": 5
}
vxlpU+2sgIZxG4t+Qf4n/bn8/jqLlBeV7XPwbFyYP502djNVwqcFqBN4vFarTTlcDKVj3i9QD3wBXACom3VysX3XsJTuWNLMvhfUlY2t4X5uBo02fY096AOPDF7/mHkd1hW+sL3mPYk0Tvx1raNg40y56on+s2cRexfrRqQFrqMkHwPHiv9PusyT2e65/if0u938tVq9GVdjFd1iTkAyMSSfxb8C/xH+3vx9HEdMQDG/vkfGvwjsUBEEQBEEQBEEQ4gS5R1AQBEEQBEEQBCHOkIagIAiCIAiCIAhCnCENQUEQBEEQBEEQhDhDGoKCIAiCIAiCIAhxhjQEBUEQBEEQBEEQ4gxpCAqCIAiCIAiCIMQZ0hAUBEEQBEEQBEGIM6QhKAiCIAiCIAiCEGdIQ1AQBEEQBEEQBCHOkIagIAiCIAiCIAhCnCENQUEQBEEQBEEQhDhDGoKCIAiCIAiCIAhxxv8DljKwpVDv7tcAAAAASUVORK5CYII=\n",
      "text/plain": [
       "<Figure size 990x660 with 1 Axes>"
      ]
     },
     "metadata": {
      "needs_background": "light"
     },
     "output_type": "display_data"
    }
   ],
   "source": [
    "fig, ax = plt.subplots(figsize=(9,6), dpi=110)\n",
    "\n",
    "plt.barh(average_price.index, average_price)\n",
    "\n",
    "plt.title('\\nThe average Price of a Laptop by the Company\\n', color='#180C48', fontsize=12, fontweight='bold')\n",
    "plt.xticks(ticks=np.arange(0, 4001, 500))\n",
    "\n",
    "for (idx, val), price in zip(enumerate(average_price), average_price_text_format):\n",
    "    ax.text(val+20, idx, price, va='center', color='#5F1414', fontweight='light')\n",
    "\n",
    "\n",
    "ax.set_axisbelow(True)\n",
    "ax.grid(color='#D1D1D1', linestyle='dotted')\n",
    "plt.show()"
   ]
  },
  {
   "cell_type": "markdown",
   "id": "118d1da3-dcbf-49f4-a9b2-4b7d760fb9f3",
   "metadata": {},
   "source": [
    "# "
   ]
  },
  {
   "cell_type": "markdown",
   "id": "0db23854-baac-4ee4-9437-1bfabdd6a044",
   "metadata": {},
   "source": [
    "### ➥ What is the most expensive laptop of a company?"
   ]
  },
  {
   "cell_type": "code",
   "execution_count": 70,
   "id": "73129908-89e2-4dd4-9ca2-420965327a42",
   "metadata": {},
   "outputs": [],
   "source": [
    "max_price = df.groupby('Company')['Price_euros'].max()\n",
    "max_price = max_price.rename('Max_price')"
   ]
  },
  {
   "cell_type": "code",
   "execution_count": 71,
   "id": "2fa75328-3380-49dc-b9df-8a41552f7496",
   "metadata": {},
   "outputs": [],
   "source": [
    "min_price = df.groupby('Company')['Price_euros'].min()\n",
    "min_price = min_price.rename('Min_price')"
   ]
  },
  {
   "cell_type": "code",
   "execution_count": 72,
   "id": "82f78137-aa12-4462-aba6-1bf09164e07a",
   "metadata": {},
   "outputs": [],
   "source": [
    "most_expensive_and_cheapest = pd.concat([ min_price, max_price], axis=1)"
   ]
  },
  {
   "cell_type": "code",
   "execution_count": 73,
   "id": "37f09f7b-5f59-4128-8de3-9de0cbc21d69",
   "metadata": {},
   "outputs": [],
   "source": [
    "most_expensive_and_cheapest.sort_values('Max_price', ascending=False, inplace=True)"
   ]
  },
  {
   "cell_type": "code",
   "execution_count": 74,
   "id": "56fa1890-485b-4642-90fc-106084d17194",
   "metadata": {},
   "outputs": [
    {
     "data": {
      "text/html": [
       "<div>\n",
       "<style scoped>\n",
       "    .dataframe tbody tr th:only-of-type {\n",
       "        vertical-align: middle;\n",
       "    }\n",
       "\n",
       "    .dataframe tbody tr th {\n",
       "        vertical-align: top;\n",
       "    }\n",
       "\n",
       "    .dataframe thead th {\n",
       "        text-align: right;\n",
       "    }\n",
       "</style>\n",
       "<table border=\"1\" class=\"dataframe\">\n",
       "  <thead>\n",
       "    <tr style=\"text-align: right;\">\n",
       "      <th></th>\n",
       "      <th>Min_price</th>\n",
       "      <th>Max_price</th>\n",
       "    </tr>\n",
       "    <tr>\n",
       "      <th>Company</th>\n",
       "      <th></th>\n",
       "      <th></th>\n",
       "    </tr>\n",
       "  </thead>\n",
       "  <tbody>\n",
       "    <tr>\n",
       "      <th>Razer</th>\n",
       "      <td>1,029.00</td>\n",
       "      <td>6,099.00</td>\n",
       "    </tr>\n",
       "    <tr>\n",
       "      <th>Lenovo</th>\n",
       "      <td>229.00</td>\n",
       "      <td>4,899.00</td>\n",
       "    </tr>\n",
       "    <tr>\n",
       "      <th>HP</th>\n",
       "      <td>209.00</td>\n",
       "      <td>4,389.00</td>\n",
       "    </tr>\n",
       "    <tr>\n",
       "      <th>Asus</th>\n",
       "      <td>191.90</td>\n",
       "      <td>3,975.00</td>\n",
       "    </tr>\n",
       "    <tr>\n",
       "      <th>Dell</th>\n",
       "      <td>274.90</td>\n",
       "      <td>3,659.40</td>\n",
       "    </tr>\n",
       "    <tr>\n",
       "      <th>Apple</th>\n",
       "      <td>898.94</td>\n",
       "      <td>2,858.00</td>\n",
       "    </tr>\n",
       "    <tr>\n",
       "      <th>Toshiba</th>\n",
       "      <td>447.00</td>\n",
       "      <td>2,799.00</td>\n",
       "    </tr>\n",
       "    <tr>\n",
       "      <th>MSI</th>\n",
       "      <td>839.00</td>\n",
       "      <td>2,799.00</td>\n",
       "    </tr>\n",
       "    <tr>\n",
       "      <th>Acer</th>\n",
       "      <td>174.00</td>\n",
       "      <td>2,599.00</td>\n",
       "    </tr>\n",
       "    <tr>\n",
       "      <th>Microsoft</th>\n",
       "      <td>989.00</td>\n",
       "      <td>2,589.00</td>\n",
       "    </tr>\n",
       "    <tr>\n",
       "      <th>LG</th>\n",
       "      <td>1,899.00</td>\n",
       "      <td>2,299.00</td>\n",
       "    </tr>\n",
       "    <tr>\n",
       "      <th>Google</th>\n",
       "      <td>1,275.00</td>\n",
       "      <td>2,199.00</td>\n",
       "    </tr>\n",
       "    <tr>\n",
       "      <th>Samsung</th>\n",
       "      <td>269.00</td>\n",
       "      <td>1,849.00</td>\n",
       "    </tr>\n",
       "    <tr>\n",
       "      <th>Huawei</th>\n",
       "      <td>1,349.00</td>\n",
       "      <td>1,499.00</td>\n",
       "    </tr>\n",
       "    <tr>\n",
       "      <th>Xiaomi</th>\n",
       "      <td>935.00</td>\n",
       "      <td>1,399.95</td>\n",
       "    </tr>\n",
       "    <tr>\n",
       "      <th>Fujitsu</th>\n",
       "      <td>649.00</td>\n",
       "      <td>799.00</td>\n",
       "    </tr>\n",
       "    <tr>\n",
       "      <th>Chuwi</th>\n",
       "      <td>244.99</td>\n",
       "      <td>449.00</td>\n",
       "    </tr>\n",
       "    <tr>\n",
       "      <th>Mediacom</th>\n",
       "      <td>239.00</td>\n",
       "      <td>389.00</td>\n",
       "    </tr>\n",
       "    <tr>\n",
       "      <th>Vero</th>\n",
       "      <td>196.00</td>\n",
       "      <td>260.00</td>\n",
       "    </tr>\n",
       "  </tbody>\n",
       "</table>\n",
       "</div>"
      ],
      "text/plain": [
       "           Min_price  Max_price\n",
       "Company                        \n",
       "Razer       1,029.00   6,099.00\n",
       "Lenovo        229.00   4,899.00\n",
       "HP            209.00   4,389.00\n",
       "Asus          191.90   3,975.00\n",
       "Dell          274.90   3,659.40\n",
       "Apple         898.94   2,858.00\n",
       "Toshiba       447.00   2,799.00\n",
       "MSI           839.00   2,799.00\n",
       "Acer          174.00   2,599.00\n",
       "Microsoft     989.00   2,589.00\n",
       "LG          1,899.00   2,299.00\n",
       "Google      1,275.00   2,199.00\n",
       "Samsung       269.00   1,849.00\n",
       "Huawei      1,349.00   1,499.00\n",
       "Xiaomi        935.00   1,399.95\n",
       "Fujitsu       649.00     799.00\n",
       "Chuwi         244.99     449.00\n",
       "Mediacom      239.00     389.00\n",
       "Vero          196.00     260.00"
      ]
     },
     "execution_count": 74,
     "metadata": {},
     "output_type": "execute_result"
    }
   ],
   "source": [
    "most_expensive_and_cheapest"
   ]
  },
  {
   "cell_type": "code",
   "execution_count": 75,
   "id": "5b193509-41ae-4aa7-b33a-44a52b3d2206",
   "metadata": {},
   "outputs": [
    {
     "data": {
      "text/plain": [
       "(19, 2)"
      ]
     },
     "execution_count": 75,
     "metadata": {},
     "output_type": "execute_result"
    }
   ],
   "source": [
    "most_expensive_and_cheapest.shape"
   ]
  },
  {
   "cell_type": "code",
   "execution_count": 76,
   "id": "bc84ff21-9fa0-412d-80fa-5db5d91b3b13",
   "metadata": {},
   "outputs": [
    {
     "data": {
      "image/png": "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\n",
      "text/plain": [
       "<Figure size 1320x660 with 1 Axes>"
      ]
     },
     "metadata": {
      "needs_background": "light"
     },
     "output_type": "display_data"
    },
    {
     "name": "stdout",
     "output_type": "stream",
     "text": [
      "\n",
      " -> A quick note: The Prices from the graph are the maximum price of a laptop by the company!\n",
      "\n"
     ]
    }
   ],
   "source": [
    "fig, ax = plt.subplots(figsize=(12,6), dpi=110)\n",
    "\n",
    "plt.bar(most_expensive_and_cheapest.index, most_expensive_and_cheapest['Max_price'], label='Max Price')\n",
    "plt.bar(most_expensive_and_cheapest.index, most_expensive_and_cheapest['Min_price'], label='Min Price')\n",
    "\n",
    "\n",
    "plt.title('\\nThe most expensive laptop of a company\\n', color='#180C48', fontsize=12, fontweight='bold')\n",
    "plt.xticks(rotation=45)\n",
    "plt.yticks(ticks=np.arange(0, 8001, 2000))\n",
    "\n",
    "\n",
    "for idx, val in enumerate(most_expensive_and_cheapest['Max_price']):\n",
    "    ax.text(idx, val+80, f'€{round(val):,}', ha='center', color='#5F1414', fontweight='light', fontsize=8)\n",
    "    \n",
    "    \n",
    "plt.legend()\n",
    "ax.set_axisbelow(True)\n",
    "ax.grid(color='#D1D1D1', linestyle='dotted')\n",
    "plt.show()\n",
    "\n",
    "print('\\n -> A quick note: The Prices from the graph are the maximum price of a laptop by the company!\\n')"
   ]
  },
  {
   "cell_type": "markdown",
   "id": "b6b6efd2-6447-4070-ad85-86cfe2bb3f43",
   "metadata": {},
   "source": [
    "# "
   ]
  },
  {
   "cell_type": "markdown",
   "id": "8900a4b9-6c2b-43c9-a254-6ae2873dadb6",
   "metadata": {},
   "source": [
    "### ➥ What are the best top 5 Laptops?"
   ]
  },
  {
   "cell_type": "code",
   "execution_count": 77,
   "id": "6500c81d-55de-422a-8594-087c882e6a6d",
   "metadata": {},
   "outputs": [],
   "source": [
    "top5_laptops = df.sort_values('Price_euros', ascending=False).head(5)"
   ]
  },
  {
   "cell_type": "code",
   "execution_count": 78,
   "id": "bb163e26-fdb8-472d-901a-b963b001fa6a",
   "metadata": {},
   "outputs": [
    {
     "data": {
      "text/html": [
       "<div>\n",
       "<style scoped>\n",
       "    .dataframe tbody tr th:only-of-type {\n",
       "        vertical-align: middle;\n",
       "    }\n",
       "\n",
       "    .dataframe tbody tr th {\n",
       "        vertical-align: top;\n",
       "    }\n",
       "\n",
       "    .dataframe thead th {\n",
       "        text-align: right;\n",
       "    }\n",
       "</style>\n",
       "<table border=\"1\" class=\"dataframe\">\n",
       "  <thead>\n",
       "    <tr style=\"text-align: right;\">\n",
       "      <th></th>\n",
       "      <th>Company</th>\n",
       "      <th>Product</th>\n",
       "      <th>TypeName</th>\n",
       "      <th>Inches</th>\n",
       "      <th>ScreenResolution</th>\n",
       "      <th>Cpu</th>\n",
       "      <th>Ram (GB)</th>\n",
       "      <th>Storage Memory (GB)</th>\n",
       "      <th>Storage Type</th>\n",
       "      <th>Gpu</th>\n",
       "      <th>OpSys</th>\n",
       "      <th>Weight (kg)</th>\n",
       "      <th>Price_euros</th>\n",
       "    </tr>\n",
       "  </thead>\n",
       "  <tbody>\n",
       "    <tr>\n",
       "      <th>196</th>\n",
       "      <td>Razer</td>\n",
       "      <td>Blade Pro</td>\n",
       "      <td>Gaming</td>\n",
       "      <td>17.30</td>\n",
       "      <td>4K Ultra HD / Touchscreen 3840x2160</td>\n",
       "      <td>Intel Core i7 7820HK 2.9GHz</td>\n",
       "      <td>32</td>\n",
       "      <td>1000</td>\n",
       "      <td>SSD</td>\n",
       "      <td>Nvidia GeForce GTX 1080</td>\n",
       "      <td>Windows 10</td>\n",
       "      <td>3.49</td>\n",
       "      <td>6,099.00</td>\n",
       "    </tr>\n",
       "    <tr>\n",
       "      <th>830</th>\n",
       "      <td>Razer</td>\n",
       "      <td>Blade Pro</td>\n",
       "      <td>Gaming</td>\n",
       "      <td>17.30</td>\n",
       "      <td>4K Ultra HD / Touchscreen 3840x2160</td>\n",
       "      <td>Intel Core i7 7820HK 2.9GHz</td>\n",
       "      <td>32</td>\n",
       "      <td>512</td>\n",
       "      <td>SSD</td>\n",
       "      <td>Nvidia GeForce GTX 1080</td>\n",
       "      <td>Windows 10</td>\n",
       "      <td>3.49</td>\n",
       "      <td>5,499.00</td>\n",
       "    </tr>\n",
       "    <tr>\n",
       "      <th>610</th>\n",
       "      <td>Lenovo</td>\n",
       "      <td>Thinkpad P51</td>\n",
       "      <td>Notebook</td>\n",
       "      <td>15.60</td>\n",
       "      <td>IPS Panel 4K Ultra HD 3840x2160</td>\n",
       "      <td>Intel Xeon E3-1535M v6 3.1GHz</td>\n",
       "      <td>32</td>\n",
       "      <td>1000</td>\n",
       "      <td>SSD</td>\n",
       "      <td>Nvidia Quadro M2200M</td>\n",
       "      <td>Windows 10</td>\n",
       "      <td>2.50</td>\n",
       "      <td>4,899.00</td>\n",
       "    </tr>\n",
       "    <tr>\n",
       "      <th>749</th>\n",
       "      <td>HP</td>\n",
       "      <td>Zbook 17</td>\n",
       "      <td>Workstation</td>\n",
       "      <td>17.30</td>\n",
       "      <td>IPS Panel Full HD 1920x1080</td>\n",
       "      <td>Intel Xeon E3-1535M v5 2.9GHz</td>\n",
       "      <td>16</td>\n",
       "      <td>256</td>\n",
       "      <td>SSD</td>\n",
       "      <td>Nvidia Quadro M2000M</td>\n",
       "      <td>Windows 7</td>\n",
       "      <td>3.00</td>\n",
       "      <td>4,389.00</td>\n",
       "    </tr>\n",
       "    <tr>\n",
       "      <th>1066</th>\n",
       "      <td>Asus</td>\n",
       "      <td>ROG G701VO</td>\n",
       "      <td>Gaming</td>\n",
       "      <td>17.30</td>\n",
       "      <td>IPS Panel Full HD 1920x1080</td>\n",
       "      <td>Intel Core i7 6820HK 2.7GHz</td>\n",
       "      <td>64</td>\n",
       "      <td>1000</td>\n",
       "      <td>SSD</td>\n",
       "      <td>Nvidia GeForce GTX 980</td>\n",
       "      <td>Windows 10</td>\n",
       "      <td>3.58</td>\n",
       "      <td>3,975.00</td>\n",
       "    </tr>\n",
       "  </tbody>\n",
       "</table>\n",
       "</div>"
      ],
      "text/plain": [
       "     Company       Product     TypeName  Inches  \\\n",
       "196    Razer     Blade Pro       Gaming   17.30   \n",
       "830    Razer     Blade Pro       Gaming   17.30   \n",
       "610   Lenovo  Thinkpad P51     Notebook   15.60   \n",
       "749       HP      Zbook 17  Workstation   17.30   \n",
       "1066    Asus    ROG G701VO       Gaming   17.30   \n",
       "\n",
       "                         ScreenResolution                            Cpu  \\\n",
       "196   4K Ultra HD / Touchscreen 3840x2160    Intel Core i7 7820HK 2.9GHz   \n",
       "830   4K Ultra HD / Touchscreen 3840x2160    Intel Core i7 7820HK 2.9GHz   \n",
       "610       IPS Panel 4K Ultra HD 3840x2160  Intel Xeon E3-1535M v6 3.1GHz   \n",
       "749           IPS Panel Full HD 1920x1080  Intel Xeon E3-1535M v5 2.9GHz   \n",
       "1066          IPS Panel Full HD 1920x1080    Intel Core i7 6820HK 2.7GHz   \n",
       "\n",
       "      Ram (GB)  Storage Memory (GB) Storage Type                      Gpu  \\\n",
       "196         32                 1000          SSD  Nvidia GeForce GTX 1080   \n",
       "830         32                  512          SSD  Nvidia GeForce GTX 1080   \n",
       "610         32                 1000          SSD     Nvidia Quadro M2200M   \n",
       "749         16                  256          SSD     Nvidia Quadro M2000M   \n",
       "1066        64                 1000          SSD  Nvidia GeForce GTX 980    \n",
       "\n",
       "           OpSys  Weight (kg)  Price_euros  \n",
       "196   Windows 10         3.49     6,099.00  \n",
       "830   Windows 10         3.49     5,499.00  \n",
       "610   Windows 10         2.50     4,899.00  \n",
       "749    Windows 7         3.00     4,389.00  \n",
       "1066  Windows 10         3.58     3,975.00  "
      ]
     },
     "execution_count": 78,
     "metadata": {},
     "output_type": "execute_result"
    }
   ],
   "source": [
    "top5_laptops"
   ]
  },
  {
   "cell_type": "code",
   "execution_count": 79,
   "id": "f0d84f32-ab22-4f25-831e-64e9d1d8ce8b",
   "metadata": {},
   "outputs": [],
   "source": [
    "top5_laptops['Laptop'] = top5_laptops['Company'].astype('object') + ' ' + top5_laptops['Product'].astype('object')"
   ]
  },
  {
   "cell_type": "code",
   "execution_count": 80,
   "id": "044dd174-21e2-4fc2-bd18-830508369137",
   "metadata": {},
   "outputs": [],
   "source": [
    "top5_laptops = top5_laptops.loc[:, ['Laptop', 'Price_euros']]\n",
    "top5_laptops = top5_laptops.reset_index(drop=True)"
   ]
  },
  {
   "cell_type": "code",
   "execution_count": 81,
   "id": "2dde182a-411f-4606-9a65-f006d792eeea",
   "metadata": {},
   "outputs": [],
   "source": [
    "condition = top5_laptops['Price_euros'] == 6099.00\n",
    "\n",
    "top5_laptops.loc[condition, 'Laptop'] = 'Razer Blade Pro '"
   ]
  },
  {
   "cell_type": "code",
   "execution_count": 82,
   "id": "4ff4d540-9c84-4d0f-8858-1165f51e24a4",
   "metadata": {},
   "outputs": [
    {
     "data": {
      "text/html": [
       "<div>\n",
       "<style scoped>\n",
       "    .dataframe tbody tr th:only-of-type {\n",
       "        vertical-align: middle;\n",
       "    }\n",
       "\n",
       "    .dataframe tbody tr th {\n",
       "        vertical-align: top;\n",
       "    }\n",
       "\n",
       "    .dataframe thead th {\n",
       "        text-align: right;\n",
       "    }\n",
       "</style>\n",
       "<table border=\"1\" class=\"dataframe\">\n",
       "  <thead>\n",
       "    <tr style=\"text-align: right;\">\n",
       "      <th></th>\n",
       "      <th>Laptop</th>\n",
       "      <th>Price_euros</th>\n",
       "    </tr>\n",
       "  </thead>\n",
       "  <tbody>\n",
       "    <tr>\n",
       "      <th>0</th>\n",
       "      <td>Razer Blade Pro</td>\n",
       "      <td>6,099.00</td>\n",
       "    </tr>\n",
       "    <tr>\n",
       "      <th>1</th>\n",
       "      <td>Razer Blade Pro</td>\n",
       "      <td>5,499.00</td>\n",
       "    </tr>\n",
       "    <tr>\n",
       "      <th>2</th>\n",
       "      <td>Lenovo Thinkpad P51</td>\n",
       "      <td>4,899.00</td>\n",
       "    </tr>\n",
       "    <tr>\n",
       "      <th>3</th>\n",
       "      <td>HP Zbook 17</td>\n",
       "      <td>4,389.00</td>\n",
       "    </tr>\n",
       "    <tr>\n",
       "      <th>4</th>\n",
       "      <td>Asus ROG G701VO</td>\n",
       "      <td>3,975.00</td>\n",
       "    </tr>\n",
       "  </tbody>\n",
       "</table>\n",
       "</div>"
      ],
      "text/plain": [
       "                Laptop  Price_euros\n",
       "0     Razer Blade Pro      6,099.00\n",
       "1      Razer Blade Pro     5,499.00\n",
       "2  Lenovo Thinkpad P51     4,899.00\n",
       "3          HP Zbook 17     4,389.00\n",
       "4      Asus ROG G701VO     3,975.00"
      ]
     },
     "execution_count": 82,
     "metadata": {},
     "output_type": "execute_result"
    }
   ],
   "source": [
    "top5_laptops"
   ]
  },
  {
   "cell_type": "code",
   "execution_count": 83,
   "id": "c613a36b-0168-46bf-b723-08e692b715e1",
   "metadata": {},
   "outputs": [
    {
     "data": {
      "image/png": "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
