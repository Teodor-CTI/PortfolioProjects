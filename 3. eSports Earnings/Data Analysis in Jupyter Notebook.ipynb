{
 "cells": [
  {
   "cell_type": "markdown",
   "id": "f5405992-e62a-4090-a98c-9acc7a69ef13",
   "metadata": {},
   "source": [
    "# eSports Earnings - Data Analysis"
   ]
  },
  {
   "cell_type": "markdown",
   "id": "6aa203af-3c30-4e38-94cb-4865788791c4",
   "metadata": {},
   "source": [
    "## Import necessary Libraries"
   ]
  },
  {
   "cell_type": "code",
   "execution_count": 1,
   "id": "2ea5a368-5618-43f8-b01b-f7db57455c39",
   "metadata": {},
   "outputs": [],
   "source": [
    "import numpy as np\n",
    "import pandas as pd\n",
    "import matplotlib.pyplot as plt\n",
    "\n",
    "%matplotlib inline"
   ]
  },
  {
   "cell_type": "markdown",
   "id": "7f763d66-cabe-4d49-9f65-501090f75e0d",
   "metadata": {},
   "source": [
    "### Format options"
   ]
  },
  {
   "cell_type": "code",
   "execution_count": 2,
   "id": "5ee18f53-112a-4e5c-bdb0-062b93de4da2",
   "metadata": {},
   "outputs": [],
   "source": [
    "pd.options.display.float_format = '{:,.2f}'.format"
   ]
  },
  {
   "cell_type": "code",
   "execution_count": 3,
   "id": "1a15bdec-7e87-4e86-9562-5af65519f82e",
   "metadata": {},
   "outputs": [],
   "source": [
    "plt.style.use('seaborn')"
   ]
  },
  {
   "cell_type": "code",
   "execution_count": 4,
   "id": "b8700885-1052-46fe-a73f-d0084636ae83",
   "metadata": {},
   "outputs": [],
   "source": [
    "#plt.style.available"
   ]
  },
  {
   "cell_type": "markdown",
   "id": "39939ade-7bf9-46da-884d-9474ec3b454e",
   "metadata": {},
   "source": [
    "# "
   ]
  },
  {
   "cell_type": "markdown",
   "id": "f233bd2f-925c-409a-88c9-b9db6b2a7bb6",
   "metadata": {},
   "source": [
    "## Load the Data"
   ]
  },
  {
   "cell_type": "code",
   "execution_count": 5,
   "id": "ad1a356b-9401-4ea8-8194-91d499a7cd03",
   "metadata": {},
   "outputs": [],
   "source": [
    "# Dataset: https://www.kaggle.com/jackdaoud/esports-earnings-for-players-teams-by-game"
   ]
  },
  {
   "cell_type": "code",
   "execution_count": 6,
   "id": "3e5a9149-e4af-49c6-861d-5b2122b9c2f7",
   "metadata": {},
   "outputs": [],
   "source": [
    "path = './Datasets/eSports/'"
   ]
  },
  {
   "cell_type": "code",
   "execution_count": 7,
   "id": "f96dc467-cc34-4038-8d9c-f19dc3f3cddf",
   "metadata": {},
   "outputs": [
    {
     "ename": "FileNotFoundError",
     "evalue": "[Errno 2] No such file or directory: './Datasets/eSports/country-and-continent-codes-list.csv'",
     "output_type": "error",
     "traceback": [
      "\u001b[1;31m---------------------------------------------------------------------------\u001b[0m",
      "\u001b[1;31mFileNotFoundError\u001b[0m                         Traceback (most recent call last)",
      "\u001b[1;32m<ipython-input-7-fc2ded99504a>\u001b[0m in \u001b[0;36m<module>\u001b[1;34m\u001b[0m\n\u001b[1;32m----> 1\u001b[1;33m \u001b[0mcountries\u001b[0m \u001b[1;33m=\u001b[0m \u001b[0mpd\u001b[0m\u001b[1;33m.\u001b[0m\u001b[0mread_csv\u001b[0m\u001b[1;33m(\u001b[0m\u001b[0mpath\u001b[0m \u001b[1;33m+\u001b[0m \u001b[1;34m'country-and-continent-codes-list.csv'\u001b[0m\u001b[1;33m)\u001b[0m\u001b[1;33m\u001b[0m\u001b[1;33m\u001b[0m\u001b[0m\n\u001b[0m\u001b[0;32m      2\u001b[0m \u001b[0mplayers\u001b[0m \u001b[1;33m=\u001b[0m \u001b[0mpd\u001b[0m\u001b[1;33m.\u001b[0m\u001b[0mread_csv\u001b[0m\u001b[1;33m(\u001b[0m\u001b[0mpath\u001b[0m \u001b[1;33m+\u001b[0m \u001b[1;34m'highest_earning_players.csv'\u001b[0m\u001b[1;33m)\u001b[0m\u001b[1;33m\u001b[0m\u001b[1;33m\u001b[0m\u001b[0m\n\u001b[0;32m      3\u001b[0m \u001b[0mteams\u001b[0m \u001b[1;33m=\u001b[0m \u001b[0mpd\u001b[0m\u001b[1;33m.\u001b[0m\u001b[0mread_csv\u001b[0m\u001b[1;33m(\u001b[0m\u001b[0mpath\u001b[0m \u001b[1;33m+\u001b[0m \u001b[1;34m'highest_earning_teams.csv'\u001b[0m\u001b[1;33m)\u001b[0m\u001b[1;33m\u001b[0m\u001b[1;33m\u001b[0m\u001b[0m\n",
      "\u001b[1;32m~\\AppData\\Roaming\\Python\\Python38\\site-packages\\pandas\\util\\_decorators.py\u001b[0m in \u001b[0;36mwrapper\u001b[1;34m(*args, **kwargs)\u001b[0m\n\u001b[0;32m    309\u001b[0m                     \u001b[0mstacklevel\u001b[0m\u001b[1;33m=\u001b[0m\u001b[0mstacklevel\u001b[0m\u001b[1;33m,\u001b[0m\u001b[1;33m\u001b[0m\u001b[1;33m\u001b[0m\u001b[0m\n\u001b[0;32m    310\u001b[0m                 )\n\u001b[1;32m--> 311\u001b[1;33m             \u001b[1;32mreturn\u001b[0m \u001b[0mfunc\u001b[0m\u001b[1;33m(\u001b[0m\u001b[1;33m*\u001b[0m\u001b[0margs\u001b[0m\u001b[1;33m,\u001b[0m \u001b[1;33m**\u001b[0m\u001b[0mkwargs\u001b[0m\u001b[1;33m)\u001b[0m\u001b[1;33m\u001b[0m\u001b[1;33m\u001b[0m\u001b[0m\n\u001b[0m\u001b[0;32m    312\u001b[0m \u001b[1;33m\u001b[0m\u001b[0m\n\u001b[0;32m    313\u001b[0m         \u001b[1;32mreturn\u001b[0m \u001b[0mwrapper\u001b[0m\u001b[1;33m\u001b[0m\u001b[1;33m\u001b[0m\u001b[0m\n",
      "\u001b[1;32m~\\AppData\\Roaming\\Python\\Python38\\site-packages\\pandas\\io\\parsers\\readers.py\u001b[0m in \u001b[0;36mread_csv\u001b[1;34m(filepath_or_buffer, sep, delimiter, header, names, index_col, usecols, squeeze, prefix, mangle_dupe_cols, dtype, engine, converters, true_values, false_values, skipinitialspace, skiprows, skipfooter, nrows, na_values, keep_default_na, na_filter, verbose, skip_blank_lines, parse_dates, infer_datetime_format, keep_date_col, date_parser, dayfirst, cache_dates, iterator, chunksize, compression, thousands, decimal, lineterminator, quotechar, quoting, doublequote, escapechar, comment, encoding, encoding_errors, dialect, error_bad_lines, warn_bad_lines, on_bad_lines, delim_whitespace, low_memory, memory_map, float_precision, storage_options)\u001b[0m\n\u001b[0;32m    584\u001b[0m     \u001b[0mkwds\u001b[0m\u001b[1;33m.\u001b[0m\u001b[0mupdate\u001b[0m\u001b[1;33m(\u001b[0m\u001b[0mkwds_defaults\u001b[0m\u001b[1;33m)\u001b[0m\u001b[1;33m\u001b[0m\u001b[1;33m\u001b[0m\u001b[0m\n\u001b[0;32m    585\u001b[0m \u001b[1;33m\u001b[0m\u001b[0m\n\u001b[1;32m--> 586\u001b[1;33m     \u001b[1;32mreturn\u001b[0m \u001b[0m_read\u001b[0m\u001b[1;33m(\u001b[0m\u001b[0mfilepath_or_buffer\u001b[0m\u001b[1;33m,\u001b[0m \u001b[0mkwds\u001b[0m\u001b[1;33m)\u001b[0m\u001b[1;33m\u001b[0m\u001b[1;33m\u001b[0m\u001b[0m\n\u001b[0m\u001b[0;32m    587\u001b[0m \u001b[1;33m\u001b[0m\u001b[0m\n\u001b[0;32m    588\u001b[0m \u001b[1;33m\u001b[0m\u001b[0m\n",
      "\u001b[1;32m~\\AppData\\Roaming\\Python\\Python38\\site-packages\\pandas\\io\\parsers\\readers.py\u001b[0m in \u001b[0;36m_read\u001b[1;34m(filepath_or_buffer, kwds)\u001b[0m\n\u001b[0;32m    480\u001b[0m \u001b[1;33m\u001b[0m\u001b[0m\n\u001b[0;32m    481\u001b[0m     \u001b[1;31m# Create the parser.\u001b[0m\u001b[1;33m\u001b[0m\u001b[1;33m\u001b[0m\u001b[1;33m\u001b[0m\u001b[0m\n\u001b[1;32m--> 482\u001b[1;33m     \u001b[0mparser\u001b[0m \u001b[1;33m=\u001b[0m \u001b[0mTextFileReader\u001b[0m\u001b[1;33m(\u001b[0m\u001b[0mfilepath_or_buffer\u001b[0m\u001b[1;33m,\u001b[0m \u001b[1;33m**\u001b[0m\u001b[0mkwds\u001b[0m\u001b[1;33m)\u001b[0m\u001b[1;33m\u001b[0m\u001b[1;33m\u001b[0m\u001b[0m\n\u001b[0m\u001b[0;32m    483\u001b[0m \u001b[1;33m\u001b[0m\u001b[0m\n\u001b[0;32m    484\u001b[0m     \u001b[1;32mif\u001b[0m \u001b[0mchunksize\u001b[0m \u001b[1;32mor\u001b[0m \u001b[0miterator\u001b[0m\u001b[1;33m:\u001b[0m\u001b[1;33m\u001b[0m\u001b[1;33m\u001b[0m\u001b[0m\n",
      "\u001b[1;32m~\\AppData\\Roaming\\Python\\Python38\\site-packages\\pandas\\io\\parsers\\readers.py\u001b[0m in \u001b[0;36m__init__\u001b[1;34m(self, f, engine, **kwds)\u001b[0m\n\u001b[0;32m    809\u001b[0m             \u001b[0mself\u001b[0m\u001b[1;33m.\u001b[0m\u001b[0moptions\u001b[0m\u001b[1;33m[\u001b[0m\u001b[1;34m\"has_index_names\"\u001b[0m\u001b[1;33m]\u001b[0m \u001b[1;33m=\u001b[0m \u001b[0mkwds\u001b[0m\u001b[1;33m[\u001b[0m\u001b[1;34m\"has_index_names\"\u001b[0m\u001b[1;33m]\u001b[0m\u001b[1;33m\u001b[0m\u001b[1;33m\u001b[0m\u001b[0m\n\u001b[0;32m    810\u001b[0m \u001b[1;33m\u001b[0m\u001b[0m\n\u001b[1;32m--> 811\u001b[1;33m         \u001b[0mself\u001b[0m\u001b[1;33m.\u001b[0m\u001b[0m_engine\u001b[0m \u001b[1;33m=\u001b[0m \u001b[0mself\u001b[0m\u001b[1;33m.\u001b[0m\u001b[0m_make_engine\u001b[0m\u001b[1;33m(\u001b[0m\u001b[0mself\u001b[0m\u001b[1;33m.\u001b[0m\u001b[0mengine\u001b[0m\u001b[1;33m)\u001b[0m\u001b[1;33m\u001b[0m\u001b[1;33m\u001b[0m\u001b[0m\n\u001b[0m\u001b[0;32m    812\u001b[0m \u001b[1;33m\u001b[0m\u001b[0m\n\u001b[0;32m    813\u001b[0m     \u001b[1;32mdef\u001b[0m \u001b[0mclose\u001b[0m\u001b[1;33m(\u001b[0m\u001b[0mself\u001b[0m\u001b[1;33m)\u001b[0m\u001b[1;33m:\u001b[0m\u001b[1;33m\u001b[0m\u001b[1;33m\u001b[0m\u001b[0m\n",
      "\u001b[1;32m~\\AppData\\Roaming\\Python\\Python38\\site-packages\\pandas\\io\\parsers\\readers.py\u001b[0m in \u001b[0;36m_make_engine\u001b[1;34m(self, engine)\u001b[0m\n\u001b[0;32m   1038\u001b[0m             )\n\u001b[0;32m   1039\u001b[0m         \u001b[1;31m# error: Too many arguments for \"ParserBase\"\u001b[0m\u001b[1;33m\u001b[0m\u001b[1;33m\u001b[0m\u001b[1;33m\u001b[0m\u001b[0m\n\u001b[1;32m-> 1040\u001b[1;33m         \u001b[1;32mreturn\u001b[0m \u001b[0mmapping\u001b[0m\u001b[1;33m[\u001b[0m\u001b[0mengine\u001b[0m\u001b[1;33m]\u001b[0m\u001b[1;33m(\u001b[0m\u001b[0mself\u001b[0m\u001b[1;33m.\u001b[0m\u001b[0mf\u001b[0m\u001b[1;33m,\u001b[0m \u001b[1;33m**\u001b[0m\u001b[0mself\u001b[0m\u001b[1;33m.\u001b[0m\u001b[0moptions\u001b[0m\u001b[1;33m)\u001b[0m  \u001b[1;31m# type: ignore[call-arg]\u001b[0m\u001b[1;33m\u001b[0m\u001b[1;33m\u001b[0m\u001b[0m\n\u001b[0m\u001b[0;32m   1041\u001b[0m \u001b[1;33m\u001b[0m\u001b[0m\n\u001b[0;32m   1042\u001b[0m     \u001b[1;32mdef\u001b[0m \u001b[0m_failover_to_python\u001b[0m\u001b[1;33m(\u001b[0m\u001b[0mself\u001b[0m\u001b[1;33m)\u001b[0m\u001b[1;33m:\u001b[0m\u001b[1;33m\u001b[0m\u001b[1;33m\u001b[0m\u001b[0m\n",
      "\u001b[1;32m~\\AppData\\Roaming\\Python\\Python38\\site-packages\\pandas\\io\\parsers\\c_parser_wrapper.py\u001b[0m in \u001b[0;36m__init__\u001b[1;34m(self, src, **kwds)\u001b[0m\n\u001b[0;32m     49\u001b[0m \u001b[1;33m\u001b[0m\u001b[0m\n\u001b[0;32m     50\u001b[0m         \u001b[1;31m# open handles\u001b[0m\u001b[1;33m\u001b[0m\u001b[1;33m\u001b[0m\u001b[1;33m\u001b[0m\u001b[0m\n\u001b[1;32m---> 51\u001b[1;33m         \u001b[0mself\u001b[0m\u001b[1;33m.\u001b[0m\u001b[0m_open_handles\u001b[0m\u001b[1;33m(\u001b[0m\u001b[0msrc\u001b[0m\u001b[1;33m,\u001b[0m \u001b[0mkwds\u001b[0m\u001b[1;33m)\u001b[0m\u001b[1;33m\u001b[0m\u001b[1;33m\u001b[0m\u001b[0m\n\u001b[0m\u001b[0;32m     52\u001b[0m         \u001b[1;32massert\u001b[0m \u001b[0mself\u001b[0m\u001b[1;33m.\u001b[0m\u001b[0mhandles\u001b[0m \u001b[1;32mis\u001b[0m \u001b[1;32mnot\u001b[0m \u001b[1;32mNone\u001b[0m\u001b[1;33m\u001b[0m\u001b[1;33m\u001b[0m\u001b[0m\n\u001b[0;32m     53\u001b[0m \u001b[1;33m\u001b[0m\u001b[0m\n",
      "\u001b[1;32m~\\AppData\\Roaming\\Python\\Python38\\site-packages\\pandas\\io\\parsers\\base_parser.py\u001b[0m in \u001b[0;36m_open_handles\u001b[1;34m(self, src, kwds)\u001b[0m\n\u001b[0;32m    220\u001b[0m         \u001b[0mLet\u001b[0m \u001b[0mthe\u001b[0m \u001b[0mreaders\u001b[0m \u001b[0mopen\u001b[0m \u001b[0mIOHandles\u001b[0m \u001b[0mafter\u001b[0m \u001b[0mthey\u001b[0m \u001b[0mare\u001b[0m \u001b[0mdone\u001b[0m \u001b[1;32mwith\u001b[0m \u001b[0mtheir\u001b[0m \u001b[0mpotential\u001b[0m \u001b[0mraises\u001b[0m\u001b[1;33m.\u001b[0m\u001b[1;33m\u001b[0m\u001b[1;33m\u001b[0m\u001b[0m\n\u001b[0;32m    221\u001b[0m         \"\"\"\n\u001b[1;32m--> 222\u001b[1;33m         self.handles = get_handle(\n\u001b[0m\u001b[0;32m    223\u001b[0m             \u001b[0msrc\u001b[0m\u001b[1;33m,\u001b[0m\u001b[1;33m\u001b[0m\u001b[1;33m\u001b[0m\u001b[0m\n\u001b[0;32m    224\u001b[0m             \u001b[1;34m\"r\"\u001b[0m\u001b[1;33m,\u001b[0m\u001b[1;33m\u001b[0m\u001b[1;33m\u001b[0m\u001b[0m\n",
      "\u001b[1;32m~\\AppData\\Roaming\\Python\\Python38\\site-packages\\pandas\\io\\common.py\u001b[0m in \u001b[0;36mget_handle\u001b[1;34m(path_or_buf, mode, encoding, compression, memory_map, is_text, errors, storage_options)\u001b[0m\n\u001b[0;32m    700\u001b[0m         \u001b[1;32mif\u001b[0m \u001b[0mioargs\u001b[0m\u001b[1;33m.\u001b[0m\u001b[0mencoding\u001b[0m \u001b[1;32mand\u001b[0m \u001b[1;34m\"b\"\u001b[0m \u001b[1;32mnot\u001b[0m \u001b[1;32min\u001b[0m \u001b[0mioargs\u001b[0m\u001b[1;33m.\u001b[0m\u001b[0mmode\u001b[0m\u001b[1;33m:\u001b[0m\u001b[1;33m\u001b[0m\u001b[1;33m\u001b[0m\u001b[0m\n\u001b[0;32m    701\u001b[0m             \u001b[1;31m# Encoding\u001b[0m\u001b[1;33m\u001b[0m\u001b[1;33m\u001b[0m\u001b[1;33m\u001b[0m\u001b[0m\n\u001b[1;32m--> 702\u001b[1;33m             handle = open(\n\u001b[0m\u001b[0;32m    703\u001b[0m                 \u001b[0mhandle\u001b[0m\u001b[1;33m,\u001b[0m\u001b[1;33m\u001b[0m\u001b[1;33m\u001b[0m\u001b[0m\n\u001b[0;32m    704\u001b[0m                 \u001b[0mioargs\u001b[0m\u001b[1;33m.\u001b[0m\u001b[0mmode\u001b[0m\u001b[1;33m,\u001b[0m\u001b[1;33m\u001b[0m\u001b[1;33m\u001b[0m\u001b[0m\n",
      "\u001b[1;31mFileNotFoundError\u001b[0m: [Errno 2] No such file or directory: './Datasets/eSports/country-and-continent-codes-list.csv'"
     ]
    }
   ],
   "source": [
    "countries = pd.read_csv(path + 'country-and-continent-codes-list.csv')\n",
    "players = pd.read_csv(path + 'highest_earning_players.csv')\n",
    "teams = pd.read_csv(path + 'highest_earning_teams.csv')"
   ]
  },
  {
   "cell_type": "markdown",
   "id": "0f956973-3bea-4446-b174-0a1f7aa181aa",
   "metadata": {},
   "source": [
    "# "
   ]
  },
  {
   "cell_type": "markdown",
   "id": "941c6024-5e44-4a76-8fa9-2edcafbbf13a",
   "metadata": {},
   "source": [
    "## Data Exploratory"
   ]
  },
  {
   "cell_type": "code",
   "execution_count": null,
   "id": "fbdfd880-99e7-4d7e-bd84-fedbd5c224b6",
   "metadata": {},
   "outputs": [],
   "source": [
    "countries.head()"
   ]
  },
  {
   "cell_type": "code",
   "execution_count": null,
   "id": "626ed47d-5357-4165-a074-689a46a24686",
   "metadata": {},
   "outputs": [],
   "source": [
    "countries['Country_Number'].isnull().sum()"
   ]
  },
  {
   "cell_type": "code",
   "execution_count": null,
   "id": "e4584813-f4c7-4ec3-a178-5979ef446bc5",
   "metadata": {},
   "outputs": [],
   "source": [
    "countries[countries['Country_Number'].isnull()]"
   ]
  },
  {
   "cell_type": "code",
   "execution_count": null,
   "id": "eca48af5-8fdc-4b44-a8fb-023f07f79ab5",
   "metadata": {},
   "outputs": [],
   "source": [
    "countries.shape"
   ]
  },
  {
   "cell_type": "code",
   "execution_count": null,
   "id": "9a1b3f0c-cf51-46ec-84bd-3a8a55bcb6f7",
   "metadata": {},
   "outputs": [],
   "source": [
    "players.head()"
   ]
  },
  {
   "cell_type": "code",
   "execution_count": null,
   "id": "4cd9c9da-f0ea-4eb5-ac24-912211382ecf",
   "metadata": {},
   "outputs": [],
   "source": [
    "players.shape"
   ]
  },
  {
   "cell_type": "code",
   "execution_count": null,
   "id": "80dd7019-190f-4fb2-b90c-beeb81f94539",
   "metadata": {},
   "outputs": [],
   "source": [
    "teams.head()"
   ]
  },
  {
   "cell_type": "code",
   "execution_count": null,
   "id": "573c0fcd-0814-4b28-9a36-2c25944dc29f",
   "metadata": {},
   "outputs": [],
   "source": [
    "teams.shape"
   ]
  },
  {
   "cell_type": "markdown",
   "id": "3cea721b-eaa5-46f9-aea8-f238bca879b1",
   "metadata": {},
   "source": [
    "# "
   ]
  },
  {
   "cell_type": "code",
   "execution_count": null,
   "id": "e530078b-5b5d-4f5f-a58a-93756814e1ed",
   "metadata": {},
   "outputs": [],
   "source": [
    "countries.info(memory_usage='deep')"
   ]
  },
  {
   "cell_type": "code",
   "execution_count": null,
   "id": "6b3e7cd7-3299-4ac5-a69d-8556ccb6a479",
   "metadata": {},
   "outputs": [],
   "source": [
    "countries.memory_usage(deep=True)"
   ]
  },
  {
   "cell_type": "markdown",
   "id": "739a2a5d-252a-44ae-94a1-f1aa02c9b466",
   "metadata": {},
   "source": [
    "#"
   ]
  },
  {
   "cell_type": "code",
   "execution_count": null,
   "id": "dae274e5-0b59-4d6e-a0af-a649e88c26d4",
   "metadata": {},
   "outputs": [],
   "source": [
    "players.info(memory_usage='deep')"
   ]
  },
  {
   "cell_type": "code",
   "execution_count": null,
   "id": "fbbd08fb-b5ec-43cd-8f5d-fd44f5e991ea",
   "metadata": {},
   "outputs": [],
   "source": [
    "players.memory_usage(deep=True)"
   ]
  },
  {
   "cell_type": "markdown",
   "id": "6b6d5f27-9d9b-4359-a486-014ca06fc039",
   "metadata": {
    "tags": []
   },
   "source": [
    "#"
   ]
  },
  {
   "cell_type": "code",
   "execution_count": null,
   "id": "e3f2932e-0af5-4508-879d-b08f9b6e61b2",
   "metadata": {},
   "outputs": [],
   "source": [
    "teams.info(memory_usage='deep')"
   ]
  },
  {
   "cell_type": "code",
   "execution_count": null,
   "id": "9074005f-6c17-47bd-b943-6108a707f93d",
   "metadata": {},
   "outputs": [],
   "source": [
    "teams.memory_usage(deep=True)"
   ]
  },
  {
   "cell_type": "code",
   "execution_count": null,
   "id": "af58f1fb-7ad9-4223-9b2c-6eadc80a2721",
   "metadata": {},
   "outputs": [],
   "source": [
    "# we could change some types e.g.: game and genre as category but here are only 400 KB"
   ]
  },
  {
   "cell_type": "markdown",
   "id": "f515c763-9017-454a-bd0b-0e7919038625",
   "metadata": {
    "tags": []
   },
   "source": [
    "# "
   ]
  },
  {
   "cell_type": "code",
   "execution_count": null,
   "id": "6cecb261-c9f8-4090-be50-275fb61f214c",
   "metadata": {},
   "outputs": [],
   "source": [
    "countries.isnull().sum()"
   ]
  },
  {
   "cell_type": "code",
   "execution_count": null,
   "id": "e3fd1e35-e716-4961-914e-d1bdf5cc9f0d",
   "metadata": {},
   "outputs": [],
   "source": [
    "print('Missing Values (in countries DataFrame)', end='\\n\\n')\n",
    "for col in countries.columns:\n",
    "    miss_val = countries[col].isnull().mean()\n",
    "    if len(str(miss_val * 100).split('.')[0]) == 1:\n",
    "        print(f'[ {round(miss_val * 100, 1)}%]', col)\n",
    "    else:\n",
    "        print(f'[{round(miss_val * 100, 1)}%]', col)\n",
    "    "
   ]
  },
  {
   "cell_type": "code",
   "execution_count": null,
   "id": "4ebe229a-58e3-4af9-acde-580394f3545d",
   "metadata": {},
   "outputs": [],
   "source": [
    "countries.duplicated().sum()"
   ]
  },
  {
   "cell_type": "code",
   "execution_count": null,
   "id": "8fa8e87a-5524-4cd6-831e-2f5e74e164c8",
   "metadata": {},
   "outputs": [],
   "source": []
  },
  {
   "cell_type": "code",
   "execution_count": null,
   "id": "407b4c79-c211-4cb7-9ba4-5fdd146d6f71",
   "metadata": {},
   "outputs": [],
   "source": [
    "players.isnull().sum()"
   ]
  },
  {
   "cell_type": "code",
   "execution_count": null,
   "id": "235e6390-45b2-480a-9435-ada666481265",
   "metadata": {},
   "outputs": [],
   "source": [
    "players.duplicated().sum()"
   ]
  },
  {
   "cell_type": "code",
   "execution_count": null,
   "id": "2abe4903-07a4-43a9-bb70-4e0f6d86bc27",
   "metadata": {},
   "outputs": [],
   "source": []
  },
  {
   "cell_type": "code",
   "execution_count": null,
   "id": "a2bb2ac0-94d1-407a-9d3a-613aaa1e3d27",
   "metadata": {},
   "outputs": [],
   "source": [
    "teams.isnull().sum()"
   ]
  },
  {
   "cell_type": "code",
   "execution_count": null,
   "id": "69a562dd-f590-4b9e-a59e-87471b33a406",
   "metadata": {},
   "outputs": [],
   "source": [
    "teams.duplicated().sum()"
   ]
  },
  {
   "cell_type": "markdown",
   "id": "122e1a5f-a9c4-4b8c-ad64-da14b8dec545",
   "metadata": {},
   "source": [
    "## Data Cleaning"
   ]
  },
  {
   "cell_type": "code",
   "execution_count": null,
   "id": "4871cb02-ba78-475c-9df9-6245b3133a74",
   "metadata": {},
   "outputs": [],
   "source": [
    "players.head()"
   ]
  },
  {
   "cell_type": "code",
   "execution_count": null,
   "id": "da5732a5-6fec-498c-b1b8-bb8dccfafa26",
   "metadata": {},
   "outputs": [],
   "source": [
    "players.groupby(['Genre', 'Game'])['PlayerId'].count()"
   ]
  },
  {
   "cell_type": "code",
   "execution_count": null,
   "id": "06b6b584-9904-4172-985c-d0b5a475d510",
   "metadata": {},
   "outputs": [],
   "source": [
    "print('So.. we have 100 players per game!')"
   ]
  },
  {
   "cell_type": "markdown",
   "id": "04e3bc7e-d9dd-4b81-8793-73f04b6e2efc",
   "metadata": {},
   "source": [
    "# "
   ]
  },
  {
   "cell_type": "markdown",
   "id": "dec3f718-86fe-4754-9342-e0cae7a2186c",
   "metadata": {},
   "source": [
    "## Data Transformation"
   ]
  },
  {
   "cell_type": "code",
   "execution_count": null,
   "id": "be4b029b-c435-47b8-869f-095162822c2c",
   "metadata": {},
   "outputs": [],
   "source": [
    "players.head()"
   ]
  },
  {
   "cell_type": "code",
   "execution_count": null,
   "id": "6800c193-e52b-4f74-af0d-bd3e5221692a",
   "metadata": {},
   "outputs": [],
   "source": [
    "players['CountryCode'].str.upper()"
   ]
  },
  {
   "cell_type": "code",
   "execution_count": null,
   "id": "01b1b1c1-c277-4f46-be83-b579c81c472d",
   "metadata": {},
   "outputs": [],
   "source": [
    "players['CountryCode'] = players['CountryCode'].str.upper()"
   ]
  },
  {
   "cell_type": "markdown",
   "id": "f11d8fe5-443b-4591-85e0-1380aa99fdc4",
   "metadata": {},
   "source": [
    "# "
   ]
  },
  {
   "cell_type": "code",
   "execution_count": null,
   "id": "58730769-0d29-4a0b-a537-9cff1e50659c",
   "metadata": {},
   "outputs": [],
   "source": [
    "countries.head()"
   ]
  },
  {
   "cell_type": "code",
   "execution_count": null,
   "id": "dc03094e-1192-4680-ac91-7c04e397e1c6",
   "metadata": {},
   "outputs": [],
   "source": [
    "filtered = countries['Two_Letter_Country_Code'].notnull()     # if we don't use that filter, we will get an error about NaN values\n",
    "countries[filtered]['Two_Letter_Country_Code'].apply(lambda x: x.upper())"
   ]
  },
  {
   "cell_type": "code",
   "execution_count": null,
   "id": "481de070-5264-4230-a013-396758ccd726",
   "metadata": {},
   "outputs": [],
   "source": [
    "countries['Two_Letter_Country_Code'] = countries[filtered]['Two_Letter_Country_Code'].apply(lambda x: x.upper())"
   ]
  },
  {
   "cell_type": "markdown",
   "id": "9498f0e5-29a4-4837-9672-721485d16459",
   "metadata": {},
   "source": [
    "# "
   ]
  },
  {
   "cell_type": "code",
   "execution_count": null,
   "id": "6c6aca44-a824-42db-8aef-f2f6cce45060",
   "metadata": {},
   "outputs": [],
   "source": [
    "merge_data = pd.merge(countries, players, left_on='Two_Letter_Country_Code', right_on='CountryCode')"
   ]
  },
  {
   "cell_type": "code",
   "execution_count": null,
   "id": "785f1cea-2301-4c35-a76a-9a0665136540",
   "metadata": {},
   "outputs": [],
   "source": [
    "merge_data = merge_data.loc[:, ['PlayerId', 'NameFirst', 'NameLast', 'CurrentHandle', 'TotalUSDPrize', 'Game', 'Genre','Continent_Name', 'Country_Name', 'Country_Number']]"
   ]
  },
  {
   "cell_type": "code",
   "execution_count": null,
   "id": "974015f4-2dd2-4887-afb5-e09c25bba7f9",
   "metadata": {},
   "outputs": [],
   "source": [
    "merge_data.head()"
   ]
  },
  {
   "cell_type": "markdown",
   "id": "d349ed7b-e1b4-4faf-811f-5a2acd6f6040",
   "metadata": {},
   "source": [
    "# "
   ]
  },
  {
   "cell_type": "markdown",
   "id": "4b6b8701-2884-443f-8817-23c91f266191",
   "metadata": {},
   "source": [
    "## Visualization"
   ]
  },
  {
   "cell_type": "markdown",
   "id": "f391ce62-5ca5-4aed-afa9-966aa521ecb4",
   "metadata": {},
   "source": [
    "### Top Games Graph"
   ]
  },
  {
   "cell_type": "code",
   "execution_count": null,
   "id": "dad97f60-ddd3-4801-a90d-f9e60f03ed98",
   "metadata": {},
   "outputs": [],
   "source": [
    "top_games = players.groupby('Game')['TotalUSDPrize'].sum().sort_values(ascending=False)"
   ]
  },
  {
   "cell_type": "code",
   "execution_count": null,
   "id": "049a4527-3054-4570-9187-420beba6f3dc",
   "metadata": {},
   "outputs": [],
   "source": [
    "top_games"
   ]
  },
  {
   "cell_type": "code",
   "execution_count": null,
   "id": "7cc5af65-308d-42a1-817d-9d7e4457e037",
   "metadata": {},
   "outputs": [],
   "source": [
    "fig, ax = plt.subplots(figsize=(8,5), dpi=100)\n",
    "\n",
    "plt.bar(top_games.index, top_games)\n",
    "\n",
    "\n",
    "y_position = 3 * (10 ** 6)\n",
    "for idx, val in enumerate(top_games):\n",
    "    ax.text(idx, val + y_position, str(round(val / 10 ** 6, 1)) + 'M', ha='center', color='#36518B', fontweight='bold', fontsize=9.5)\n",
    "\n",
    "\n",
    "plt.title('Top Games by Earnings', fontsize=14, color='#802323', fontweight='bold')\n",
    "plt.ylabel('Total Earnings (in milion)', fontsize=12.5, color='#802323')\n",
    "\n",
    "x = 10 ** 8    # 100,000,000\n",
    "plt.yticks([0.25*x, 0.5*x, 0.75*x, 1*x, 1.25*x, 1.5*x, 1.75*x, 2*x])\n",
    "plt.xticks(rotation=90)\n",
    "\n",
    "#plt.grid(axis='y')\n",
    "plt.show()"
   ]
  },
  {
   "cell_type": "markdown",
   "id": "dd3a2194-10af-4a27-8275-281d68133ba2",
   "metadata": {},
   "source": [
    "# "
   ]
  },
  {
   "cell_type": "markdown",
   "id": "b0d80bf5-4394-4271-8a2b-c35ea6492f89",
   "metadata": {},
   "source": [
    "### Top 10 Players (by Earnings)"
   ]
  },
  {
   "cell_type": "code",
   "execution_count": null,
   "id": "7a3aead1-eb7a-471c-90ea-20076434d8eb",
   "metadata": {},
   "outputs": [],
   "source": [
    "players.head()"
   ]
  },
  {
   "cell_type": "code",
   "execution_count": null,
   "id": "9c7fe364-06da-443d-bfbd-82e08c790622",
   "metadata": {},
   "outputs": [],
   "source": [
    "top_10_players = players.sort_values('TotalUSDPrize', ascending=False).head(10)"
   ]
  },
  {
   "cell_type": "code",
   "execution_count": null,
   "id": "241f90ef-21d6-456e-a162-9c854c0c8592",
   "metadata": {},
   "outputs": [],
   "source": [
    "top_10_players = top_10_players.sort_values('TotalUSDPrize')"
   ]
  },
  {
   "cell_type": "code",
   "execution_count": null,
   "id": "0ff039e2-1ce0-4152-88d8-6cb13ac378db",
   "metadata": {},
   "outputs": [],
   "source": [
    "top_10_players"
   ]
  },
  {
   "cell_type": "code",
   "execution_count": null,
   "id": "d70760c1-7a79-4e83-9173-a4aabfcdda0d",
   "metadata": {},
   "outputs": [],
   "source": [
    "fig, ax = plt.subplots(figsize=(8,6), dpi=90)\n",
    "\n",
    "plt.barh( '(' + top_10_players['Game'] + ') ' + top_10_players['CurrentHandle'], top_10_players['TotalUSDPrize'])\n",
    "\n",
    "\n",
    "for idx, val in enumerate(top_10_players['TotalUSDPrize']):\n",
    "    ax.text(val - 10 ** 5, idx - 0.1, str(round(val / 10 ** 6, 2)) + 'M', ha='right', fontsize=13, color='white',fontweight='bold')\n",
    "\n",
    "\n",
    "plt.title('Top 10 Player by Earnings', color='#843030', fontsize=15, fontweight='bold')\n",
    "plt.ylabel('(Game) Nick Name', color='#843030', fontsize=12, fontweight='bold')\n",
    "plt.xlabel('Earnings (in millions)',  color='#843030', fontsize=12, fontweight='bold')\n",
    "\n",
    "plt.show()"
   ]
  },
  {
   "cell_type": "markdown",
   "id": "d3316e63-84ef-4a4e-ba7f-330d58f5272e",
   "metadata": {},
   "source": [
    "# "
   ]
  },
  {
   "cell_type": "code",
   "execution_count": null,
   "id": "9c5142c1-4632-4d2d-af20-856f5d6b9a25",
   "metadata": {},
   "outputs": [],
   "source": []
  },
  {
   "cell_type": "code",
   "execution_count": null,
   "id": "f22af632-3fbe-4b83-aec4-bfdb7a61176f",
   "metadata": {},
   "outputs": [],
   "source": [
    "merge_data.head()"
   ]
  },
  {
   "cell_type": "code",
   "execution_count": null,
   "id": "c802cbe0-9c8b-4f57-806c-1eac657c043a",
   "metadata": {},
   "outputs": [],
   "source": [
    "earnings_by_country = merge_data.groupby('Continent_Name')['TotalUSDPrize'].sum()"
   ]
  },
  {
   "cell_type": "code",
   "execution_count": null,
   "id": "682b1b1c-4a91-459e-b23e-782377954deb",
   "metadata": {},
   "outputs": [],
   "source": [
    "earnings_by_country"
   ]
  },
  {
   "cell_type": "code",
   "execution_count": null,
   "id": "c87b928f-a0b0-4a70-be63-b23eebafc843",
   "metadata": {},
   "outputs": [],
   "source": [
    "fig, ax = plt.subplots(figsize=(5,4), dpi=100)\n",
    "fig.subplots_adjust(0.3, 0, 1, 1)\n",
    "\n",
    "plt.pie(earnings_by_country, labels=earnings_by_country.index, autopct='%.2f%%')\n",
    "\n",
    "plt.title('Earnings by Country', color='#843030', fontsize=14, fontweight='bold')\n",
    "\n",
    "\n",
    "plt.legend(loc='upper right',\n",
    "           labels=['{}: ${} millions'.format(name, round(val / 10 ** 6, 2)) for name, val in zip(earnings_by_country.index, earnings_by_country)],\n",
    "           bbox_to_anchor=(1.6,1),\n",
    "           bbox_transform=fig.transFigure)\n",
    "\n",
    "plt.show()"
   ]
  },
  {
   "cell_type": "markdown",
   "id": "2095ef8f-3a88-419e-bf05-75c83afee159",
   "metadata": {},
   "source": [
    "# "
   ]
  },
  {
   "cell_type": "markdown",
   "id": "abee0aa0-05fe-4cf5-bfe0-740ceed0260c",
   "metadata": {},
   "source": [
    "### What is the proportion of earnings per genre for the top 10 games in terms of both teams and players?"
   ]
  },
  {
   "cell_type": "code",
   "execution_count": null,
   "id": "6264f371-6080-4788-a691-472b6c13a0f7",
   "metadata": {},
   "outputs": [],
   "source": [
    "merge_data.head()"
   ]
  },
  {
   "cell_type": "code",
   "execution_count": null,
   "id": "1eed16ee-9c00-4bb0-876f-10e8e08f7d65",
   "metadata": {},
   "outputs": [],
   "source": [
    "teams.head()"
   ]
  },
  {
   "cell_type": "code",
   "execution_count": null,
   "id": "c9333002-9c44-4cd3-a837-de38401d9aa5",
   "metadata": {},
   "outputs": [],
   "source": []
  },
  {
   "cell_type": "code",
   "execution_count": null,
   "id": "211064af-a59c-4af3-94b0-ac894c8355bf",
   "metadata": {},
   "outputs": [],
   "source": [
    "teams_groupedby_genre = teams.groupby('Genre')['TotalUSDPrize'].sum()"
   ]
  },
  {
   "cell_type": "code",
   "execution_count": null,
   "id": "a5fc2b7e-b0b7-4d82-930b-c77bff6518b1",
   "metadata": {},
   "outputs": [],
   "source": [
    "teams_groupedby_genre"
   ]
  },
  {
   "cell_type": "code",
   "execution_count": null,
   "id": "0c0a0b2d-0b1f-454a-ac4a-1098b6c88ccd",
   "metadata": {},
   "outputs": [],
   "source": [
    "players_groupedby_genre = players.groupby('Genre')['TotalUSDPrize'].sum()"
   ]
  },
  {
   "cell_type": "code",
   "execution_count": null,
   "id": "25f43f3f-303c-48c8-a31b-f68e986a5fc7",
   "metadata": {},
   "outputs": [],
   "source": [
    "players_groupedby_genre"
   ]
  },
  {
   "cell_type": "code",
   "execution_count": null,
   "id": "9e443a82-7ee4-4862-9ea4-d25bb5a0a962",
   "metadata": {},
   "outputs": [],
   "source": [
    "total_earnings_by_genre = teams_groupedby_genre + players_groupedby_genre"
   ]
  },
  {
   "cell_type": "code",
   "execution_count": null,
   "id": "8ac4ac32-4f0a-436f-96e7-b2afe9a2eb6e",
   "metadata": {},
   "outputs": [],
   "source": [
    "total_earnings_by_genre"
   ]
  },
  {
   "cell_type": "code",
   "execution_count": null,
   "id": "69cb8e8c-14af-4149-8694-f73c0b7746eb",
   "metadata": {},
   "outputs": [],
   "source": [
    "for idx, row in enumerate(total_earnings_by_genre):\n",
    "    percent = str(round(row / total_earnings_by_genre.sum() * 100, 2)) + '%'\n",
    "    \n",
    "    if len(percent.split('.')[0]) == 2:\n",
    "        print('[{1}] {0}'.format(total_earnings_by_genre.index[idx], percent))\n",
    "    else:\n",
    "        print('[ {1}] {0}'.format(total_earnings_by_genre.index[idx], percent))"
   ]
  },
  {
   "cell_type": "markdown",
   "id": "2eaddc33-ef0e-41c4-93b8-b6e6fba4d41e",
   "metadata": {},
   "source": [
    "# "
   ]
  },
  {
   "cell_type": "markdown",
   "id": "9eb675e2-c675-48a2-a769-8a10951ec968",
   "metadata": {},
   "source": [
    "### Which game is most popular in terms of number of tournaments?"
   ]
  },
  {
   "cell_type": "code",
   "execution_count": null,
   "id": "444a861b-bbba-44e9-a383-fcaa3492c143",
   "metadata": {},
   "outputs": [],
   "source": [
    "teams.head()"
   ]
  },
  {
   "cell_type": "code",
   "execution_count": null,
   "id": "11f2e4c2-287d-4205-98b5-7412f1ad06aa",
   "metadata": {},
   "outputs": [],
   "source": [
    "most_popular_game = teams.groupby('Game')['TotalTournaments'].sum().sort_values(ascending=False)"
   ]
  },
  {
   "cell_type": "code",
   "execution_count": null,
   "id": "c1784d99-b4a7-41ff-9214-bb6109445c75",
   "metadata": {},
   "outputs": [],
   "source": [
    "most_popular_game.head(1)"
   ]
  },
  {
   "cell_type": "markdown",
   "id": "69562dd2-a662-45e6-b2e9-d5458259e8ee",
   "metadata": {},
   "source": [
    "# "
   ]
  },
  {
   "cell_type": "markdown",
   "id": "c119d172-bc5b-4c36-9598-98c2fd6b7532",
   "metadata": {},
   "source": [
    "### Best 3 Teams by Game"
   ]
  },
  {
   "cell_type": "code",
   "execution_count": null,
   "id": "83a78dc4-5877-4a0a-aa3e-bd443ce2421f",
   "metadata": {},
   "outputs": [],
   "source": [
    "teams.head()"
   ]
  },
  {
   "cell_type": "code",
   "execution_count": null,
   "id": "971afd93-34f4-4f40-b625-73c7ef6b68a9",
   "metadata": {},
   "outputs": [],
   "source": [
    "bestTeamsByGame = teams.loc[:, ['Game','TeamName','TotalUSDPrize']].sort_values(['Game','TotalUSDPrize'], ascending=[True,False]).groupby('Game').head(3)"
   ]
  },
  {
   "cell_type": "code",
   "execution_count": null,
   "id": "4bbac441-d54d-49f1-8a65-5beb029c8aca",
   "metadata": {},
   "outputs": [],
   "source": [
    "bestTeamsByGame"
   ]
  },
  {
   "cell_type": "code",
   "execution_count": null,
   "id": "4dd918c1-d1ed-4a3e-93b0-00a3933c1ef7",
   "metadata": {},
   "outputs": [],
   "source": [
    "bestTeamsByGame = bestTeamsByGame.sort_values(['Game','TotalUSDPrize'], ascending=[True, False])"
   ]
  },
  {
   "cell_type": "code",
   "execution_count": null,
   "id": "d6d6f6c4-3719-4378-b119-4c0f7168f1e0",
   "metadata": {},
   "outputs": [],
   "source": [
    "bestTeamsByGame"
   ]
  },
  {
   "cell_type": "code",
   "execution_count": null,
   "id": "b7cd2942-7abc-429b-8bbd-275574d34f0e",
   "metadata": {},
   "outputs": [],
   "source": []
  },
  {
   "cell_type": "code",
   "execution_count": null,
   "id": "03936f64-4286-4403-bba6-d597403a11a4",
   "metadata": {},
   "outputs": [],
   "source": [
    "merge_data"
   ]
  },
  {
   "cell_type": "code",
   "execution_count": null,
   "id": "5c03ac27-3356-4c81-bd7f-ab2f053e0d6d",
   "metadata": {},
   "outputs": [],
   "source": [
    "filtered = merge_data.loc[:, ['CurrentHandle', 'Continent_Name','TotalUSDPrize']]\n",
    "hightest_player_by_continent = filtered.sort_values(['Continent_Name', 'TotalUSDPrize'], ascending=[True, False]).groupby('Continent_Name').head(5)"
   ]
  },
  {
   "cell_type": "code",
   "execution_count": null,
   "id": "489fe1e0-ca21-4f74-b050-a16362837e70",
   "metadata": {},
   "outputs": [],
   "source": [
    "hightest_player_by_continent = hightest_player_by_continent.sort_values(['Continent_Name', 'TotalUSDPrize'], ascending=[False, True]).set_index('Continent_Name')"
   ]
  },
  {
   "cell_type": "code",
   "execution_count": null,
   "id": "00162f55-f61b-422a-a50f-a2a33a5485cc",
   "metadata": {},
   "outputs": [],
   "source": [
    "hightest_player_by_continent"
   ]
  }
 ],
 "metadata": {
  "kernelspec": {
   "display_name": "Python 3",
   "language": "python",
   "name": "python3"
  },
  "language_info": {
   "codemirror_mode": {
    "name": "ipython",
    "version": 3
   },
   "file_extension": ".py",
   "mimetype": "text/x-python",
   "name": "python",
   "nbconvert_exporter": "python",
   "pygments_lexer": "ipython3",
   "version": "3.8.8"
  }
 },
 "nbformat": 4,
 "nbformat_minor": 5
}
